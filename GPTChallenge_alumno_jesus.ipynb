{
 "cells": [
  {
   "cell_type": "markdown",
   "id": "9eca6be9-3ab2-4756-80a0-4880568d1cd7",
   "metadata": {},
   "source": [
    "# GPTChallenge: diagnóstico a partir de HCE"
   ]
  },
  {
   "cell_type": "markdown",
   "id": "de358c45-755b-4fad-9d68-72e591de8b4b",
   "metadata": {},
   "source": [
    "Vamos a trabajar con el corpus CodEsp (textos de historial clínico etiquetados con sus códigos CIE-10 Diagnóstico)"
   ]
  },
  {
   "cell_type": "code",
   "execution_count": 2,
   "id": "e2d4da20-1cea-4309-941f-c2440b01801a",
   "metadata": {},
   "outputs": [],
   "source": [
    "import pandas as pd\n",
    "import os, re\n",
    "import numpy as np\n",
    "\n",
    "pd.options.display.max_colwidth = None"
   ]
  },
  {
   "cell_type": "code",
   "execution_count": 5,
   "id": "566a8909-46d3-4ccd-8a67-96d819f60e09",
   "metadata": {},
   "outputs": [
    {
     "name": "stdout",
     "output_type": "stream",
     "text": [
      "<class 'pandas.core.frame.DataFrame'>\n",
      "RangeIndex: 8316 entries, 0 to 8315\n",
      "Data columns (total 2 columns):\n",
      " #   Column   Non-Null Count  Dtype \n",
      "---  ------   --------------  ----- \n",
      " 0   archivo  8316 non-null   object\n",
      " 1   codigo   8316 non-null   object\n",
      "dtypes: object(2)\n",
      "memory usage: 130.1+ KB\n"
     ]
    }
   ],
   "source": [
    "#los códigos están en un TSV con un código por línea\n",
    "train_diag = pd.read_csv(\"data/train/train.tsv\", sep=\"\\t\", header=None, names=[\"archivo\", \"codigo\"])\n",
    "train_diag.info()"
   ]
  },
  {
   "cell_type": "code",
   "execution_count": 6,
   "id": "b15d7057-8afb-4005-8601-79ce2fe6e71a",
   "metadata": {
    "scrolled": true
   },
   "outputs": [
    {
     "data": {
      "text/plain": [
       "codigo\n",
       "r52        163\n",
       "r69        150\n",
       "r50.9      142\n",
       "i10        116\n",
       "r59.9       95\n",
       "          ... \n",
       "d37.030      1\n",
       "c79.71       1\n",
       "g25.0        1\n",
       "l76.3        1\n",
       "n81.2        1\n",
       "Name: count, Length: 2194, dtype: int64"
      ]
     },
     "execution_count": 6,
     "metadata": {},
     "output_type": "execute_result"
    }
   ],
   "source": [
    "train_diag['codigo'].value_counts()"
   ]
  },
  {
   "cell_type": "code",
   "execution_count": 7,
   "id": "3cbd33aa-1d54-419f-a1f1-728bb03b79d7",
   "metadata": {},
   "outputs": [
    {
     "name": "stdout",
     "output_type": "stream",
     "text": [
      "cat\n",
      "r52    163\n",
      "r10    163\n",
      "r59    160\n",
      "r69    150\n",
      "r50    144\n",
      "      ... \n",
      "c31      1\n",
      "d62      1\n",
      "s53      1\n",
      "s34      1\n",
      "n81      1\n",
      "Name: count, Length: 918, dtype: int64\n"
     ]
    },
    {
     "data": {
      "text/plain": [
       "918"
      ]
     },
     "execution_count": 7,
     "metadata": {},
     "output_type": "execute_result"
    }
   ],
   "source": [
    "#cogemos la categoría superior de cada código y las agrupamos\n",
    "train_diag['cat'] = train_diag['codigo'].str.extract(r'(\\w\\d\\d)')\n",
    "print(train_diag['cat'].value_counts())\n",
    "train_diag['cat'].nunique()"
   ]
  },
  {
   "cell_type": "code",
   "execution_count": 8,
   "id": "8eaf143a-b460-410e-8af2-a268181153d3",
   "metadata": {},
   "outputs": [
    {
     "name": "stdout",
     "output_type": "stream",
     "text": [
      "['r52', 'r10', 'r59', 'r69', 'r50', 'r60', 'i10', 'r11', 'n28', 'd49']\n"
     ]
    }
   ],
   "source": [
    "categories=train_diag['cat'].value_counts()[:10]\n",
    "top_categorias = categories.index.to_list()\n",
    "print(top_categorias)"
   ]
  },
  {
   "cell_type": "code",
   "execution_count": 9,
   "id": "25e458c1-01ec-4c48-8c3e-45f37e4553c8",
   "metadata": {},
   "outputs": [],
   "source": [
    "#seleccionamos sólo las etiquetas de este subconjunto\n",
    "train_diag = train_diag[np.isin(train_diag['cat'], top_categorias)]"
   ]
  },
  {
   "cell_type": "code",
   "execution_count": 11,
   "id": "c1befd52-7347-4e6d-8760-3a08b5fd8b02",
   "metadata": {},
   "outputs": [
    {
     "name": "stdout",
     "output_type": "stream",
     "text": [
      "<class 'pandas.core.frame.DataFrame'>\n",
      "Index: 562 entries, S0004-06142005000700014-1 to S2340-98942015000100005-1\n",
      "Data columns (total 2 columns):\n",
      " #   Column   Non-Null Count  Dtype \n",
      "---  ------   --------------  ----- \n",
      " 0   texto    562 non-null    object\n",
      " 1   codigos  562 non-null    object\n",
      "dtypes: object(2)\n",
      "memory usage: 13.2+ KB\n"
     ]
    }
   ],
   "source": [
    "#cargamos los dos conjuntos de train\n",
    "path = 'data/train/text_files/'\n",
    "\n",
    "corpus = []\n",
    "for f in [f for f in os.listdir(path) if f.endswith('.txt')]:\n",
    "    with open(os.path.join(path, f), encoding=\"utf8\") as text:\n",
    "        texto = text.read()\n",
    "    #buscamos códigos\n",
    "    file = f[:-4]\n",
    "    codigos = train_diag.query('archivo==@file')['cat'].to_list()\n",
    "    codigos = list(set(codigos))\n",
    "    if codigos:\n",
    "        corpus.append({\n",
    "            'archivo': file,\n",
    "            'texto': texto,\n",
    "            'codigos': codigos\n",
    "        })\n",
    "    \n",
    "df_train = pd.DataFrame(corpus).set_index('archivo')\n",
    "df_train.info()"
   ]
  },
  {
   "cell_type": "code",
   "execution_count": 12,
   "id": "dcf73334-972c-4746-829f-0891641a1b18",
   "metadata": {},
   "outputs": [
    {
     "data": {
      "text/html": [
       "<div>\n",
       "<style scoped>\n",
       "    .dataframe tbody tr th:only-of-type {\n",
       "        vertical-align: middle;\n",
       "    }\n",
       "\n",
       "    .dataframe tbody tr th {\n",
       "        vertical-align: top;\n",
       "    }\n",
       "\n",
       "    .dataframe thead th {\n",
       "        text-align: right;\n",
       "    }\n",
       "</style>\n",
       "<table border=\"1\" class=\"dataframe\">\n",
       "  <thead>\n",
       "    <tr style=\"text-align: right;\">\n",
       "      <th></th>\n",
       "      <th>texto</th>\n",
       "      <th>codigos</th>\n",
       "    </tr>\n",
       "    <tr>\n",
       "      <th>archivo</th>\n",
       "      <th></th>\n",
       "      <th></th>\n",
       "    </tr>\n",
       "  </thead>\n",
       "  <tbody>\n",
       "    <tr>\n",
       "      <th>S0210-48062004000500008-1</th>\n",
       "      <td>Paciente de 29 años de edad que acude al Servicio de Urgencias de nuestro Hospital ante la presencia de una erección levemente dolorosa de diez horas de evolución. El paciente refiere haber presentado cuatro episodios similares en los últimos tres meses pero en todos ellos la erección había cedido como máximo en tres o cuatro horas.\\nEl paciente niega el antecedente de traumatismo peneano, el uso de drogas u otros fármacos incluidas inyecciones intracavernosas. Así mismo no presenta ningún otro síntoma acompañante como astenia, anorexia o fiebre.\\nSe realiza una gasometría de la sangre extraída de los cuerpos cavernosos obteniendo resultados analíticos de sangre venosa (pCO2 163,1 mmHg, HCO3 13,2 mEq/l plasma).\\nAnte este priapismo de prolongada duración y la ausencia de indicios que nos hagan pensar en un priapismo de alto flujo, procedemos a intentar revertir la erección con la mayor brevedad posible, con el fin de calmar el dolor y evitar un daño irreversible en los cuerpos cavernosos.\\nSe punciona con un catéter intravenoso de 19 G en ambos cuerpos cavernosos, aspirando sangre en repetidas ocasiones y se deja que ésta gotee. Tras este primer paso no se obtiene disminución de la erección, por lo que se prepara una solución de fenilefrina (agonista alfaadrenérgico) en suero salino a una concentración de 0,1 mg/ml. Se inyecta 2 ml de la solución en un cuerpo cavernoso, comprimiendo posteriormente. Se repite nuevamente esta maniobra en el cuerpo cavernoso contralateral. Ante la ausencia de respuesta, se realiza una nueva solución de fenilefrina, mezclando 10 mg de fenilefrina en 11 de suero salino y se van introduciendo 20-30 ml de esta solución en cada uno de los cuerpos cavernosos para lavarlos. Tras la repetición en varias ocasiones de esta última maniobra, se consigue obtener finalmente flaccidez peneana.\\nDurante su permanencia en urgencias y tras lograr flaccidez, se extraen analíticas sanguíneas que revelan una marcada elevación de las cifras de leucocitos (414 x 109/L) y plaquetas (1100 x 109/L) en sangre.\\nAnte la sospecha de un síndrome mieloproliferativo se consulta con el Servicio de Hematología, que diagnostica leucemia mieloide crónica.\\n\\nPosteriormente el paciente es sometido a un trasplante de médula ósea alogénico de donante familiar con HLA idéntico. La evolución de su enfermedad hematológica es favorable quedando el cuadro de priapismo totalmente resuelto al tratar la leucemia mieloide crónica y sin alteración en la potencia sexual.\\n</td>\n",
       "      <td>[r69, r50, r52]</td>\n",
       "    </tr>\n",
       "    <tr>\n",
       "      <th>S0004-06142006000300015-1</th>\n",
       "      <td>Paciente de 50 años con antecedente de litiasis renal de repetición que consultó por hematuria recidivante y sensación de malestar. El estudio citológico seriado de orinas demostró la presencia de células atípicas sospechosas de malignidad. Los estudios de imagen permitieron observar una lesión heterogénea que ocupaba la práctica totalidad de la pelvis renal derecha. Se realizó nefrectomía total y ureterectomía parcial observándose un riñón de 10.5 x 5 cm de dimensiones máximas que mostraba a nivel de pelvis renal una lesión irregular y heterogénea de tonalidad pardusca en cuyo seno destacaban áreas hemorrágicas y otras ligeramente amarillentas y brillantes de consistencia sumamente blanda al corte. Dicha lesión, relativamente bien delimitada, no invadía el parénquima ni el seno renal quedando limitada al sistema pielocalicial aunque comprimiendo con márgenes expansivos la corteza en uno de los polos renales. El estudio histológico demostró que la lesión estaba constituida por nidos tumorales bien delimitados sin evidencia de invasión del parénquima renal, englobando una matriz mucinosa central la cual constituía más del 50% del volumen tumoral. En el seno de dicha matriz se encontraron flotando células neoplásicas sueltas y nidos de menor tamaño que los situados a nivel periférico. Las células tumorales mostraban morfología poligonal con núcleos centrales sin nucleolo aparente y escasa atipia así como citoplasmas eosinófilos y claros. En las áreas delimitantes con la matriz mucinosa se observó una tímida diferenciación glandular coincidiendo con la observación de algunos nucleolos y un ligero aumento de atipia nuclear. Las células tumorales mostraron intensa inmunopositividad para EMA, CK 7 y leve para CK20; ello,junto a la morfología, confirmó la naturaleza urotelial de la neoplasia.\\nCon todos los datos expuestos se realizó el diagnóstico de carcinoma de células transicionales de bajo grado, con intensa diferenciación mucinosa, de pelvis renal (carcinoma coloide).\\n\\n</td>\n",
       "      <td>[n28]</td>\n",
       "    </tr>\n",
       "    <tr>\n",
       "      <th>S1130-05582014000200008-1</th>\n",
       "      <td>Paciente de 86 años de edad consulta al equipo de cirugía maxilofacial del Complejo Hospitalario San José por un aumento de volumen asintomático, de evolución indeterminada en la zona anterior mandibular.\\nLa paciente presentaba como antecedentes personales hipertensión y diabetes tipo 2 controladas mediante tratamiento médico convencional. No presentaba historia de tabaquismo o consumo de alcohol.\\nAl examen físico pudo apreciarse un gran aumento de volumen en la zona anterior mandibular de consistencia firme y doloroso a la palpación. La piel y mucosa que recubría la lesión era de características normales, sin linfoadenopatías asociadas. Tampoco se registró compromiso neurológico motor ni sensitivo asociado.\\nSe solicitó una tomografía computarizada (TC), donde en sus imágenes axiales se apreció una lesión hipodensa de aspecto multilocular que se extendía desde la región correspondiente a la zona del canino derecho hasta la región contralateral correspondiente al primer molar izquierdo que generaba abombamiento, adelgazamiento y perforación de tablas óseas. Se programó biopsia incisional e instalación de tubo de drenaje con el fin de descomprimir la lesión.\\n\\nEl estudio histopatológico de la muestra reveló una cavidad quística revestida por un epitelio poliestratificado paraqueratinizado con un estrato basal de células cilíndricas con núcleo hipercromático dispuesto en empalizada. En función de estos hallazgos se diagnosticó la lesión como tumor odontogénico queratoquístico.\\n\\nCon este diagnóstico se decidió continuar con la terapia descompresiva y controlar a la paciente. Tras 2 semanas, la paciente presentó dolor e impotencia funcional que fue en aumento hasta impedir su alimentación tras 2 meses de instalado el drenaje. Con esta evolución se solicitó una nueva TC en la cual pudo confirmarse que la terapia descompresiva no cumplía con su objetivo, ya que se observó un aumento del compromiso de los tejidos producto de la lesión, con relación a las condiciones previas, presentando franca destrucción de tablas óseas tanto vestibular como lingual. Luego de 3 semanas de ejecutado el procedimiento de descompresión, y teniendo en cuenta los nuevos hallazgos clínicos y radiofráficos, se realizó la excéresis de la lesión más curetaje y aplicación de solución de Carnoy durante 30 s en el lecho operatorio. El defecto óseo subyacente fue reconstruido mediante la utilización de una placa de reconstrucción mandibular. La pieza quirúrgica se envió a estudio histopatológico el cual informó la presencia de una membrana quística con tejido epitelial anaplásico, observándose pérdida de la estratificación epitelial, pleomorfismo celular y nuclear, pérdida de la relación núcleo/citoplasma, nucléolos prominentes, entre otros. La proliferación neoplásica presentaba un patrón infiltrativo hacia el tejido conjuntivo subyacente. En otros sectores de la muestra se observaron nidos e islotes de proliferación epitelial en el espesor de la pared quística, que mostraron las mismas características anaplásicas. En función de estos hallazgos histopatológicos se emitió el diagnóstico de carcinoma de células escamosas intraóseo moderadamente diferenciado.\\nAnte este diagnóstico se solicitaron exámenes imagenológicos, incluyendo radiografía de tórax, escáner total y escintigrafía ósea con los cuales se descartó metástasis y/o posibles tumores primarios.\\nLa paciente fue derivada para tratamiento oncológico, falleciendo a causa de neumonía.\\n\\n</td>\n",
       "      <td>[i10, r59]</td>\n",
       "    </tr>\n",
       "  </tbody>\n",
       "</table>\n",
       "</div>"
      ],
      "text/plain": [
       "                                                                                                                                                                                                                                                                                                                                                                                                                                                                                                                                                                                                                                                                                                                                                                                                                                                                                                                                                                                                                                                                                                                                                                                                                                                                                                                                                                                                                                                                                                                                                                                                                                                                                                                                                                                                                                                                                                                                                                                                                                                                                                                                                                                                                                                                                                                                                                                                                                                                                                                                                                                                                                                                                                                                                                                                                                                                                                                                                                                                                                                                                                                                                                                                                                                                                                                                                                                                                                                                                                                                                                                                                                          texto  \\\n",
       "archivo                                                                                                                                                                                                                                                                                                                                                                                                                                                                                                                                                                                                                                                                                                                                                                                                                                                                                                                                                                                                                                                                                                                                                                                                                                                                                                                                                                                                                                                                                                                                                                                                                                                                                                                                                                                                                                                                                                                                                                                                                                                                                                                                                                                                                                                                                                                                                                                                                                                                                                                                                                                                                                                                                                                                                                                                                                                                                                                                                                                                                                                                                                                                                                                                                                                                                                                                                                                                                                                                                                                                                                                                                                           \n",
       "S0210-48062004000500008-1                                                                                                                                                                                                                                                                                                                                                                                                                                                                                                                                                                                                                                                                                                                                                                                                                                                                                                                                                                                                                    Paciente de 29 años de edad que acude al Servicio de Urgencias de nuestro Hospital ante la presencia de una erección levemente dolorosa de diez horas de evolución. El paciente refiere haber presentado cuatro episodios similares en los últimos tres meses pero en todos ellos la erección había cedido como máximo en tres o cuatro horas.\\nEl paciente niega el antecedente de traumatismo peneano, el uso de drogas u otros fármacos incluidas inyecciones intracavernosas. Así mismo no presenta ningún otro síntoma acompañante como astenia, anorexia o fiebre.\\nSe realiza una gasometría de la sangre extraída de los cuerpos cavernosos obteniendo resultados analíticos de sangre venosa (pCO2 163,1 mmHg, HCO3 13,2 mEq/l plasma).\\nAnte este priapismo de prolongada duración y la ausencia de indicios que nos hagan pensar en un priapismo de alto flujo, procedemos a intentar revertir la erección con la mayor brevedad posible, con el fin de calmar el dolor y evitar un daño irreversible en los cuerpos cavernosos.\\nSe punciona con un catéter intravenoso de 19 G en ambos cuerpos cavernosos, aspirando sangre en repetidas ocasiones y se deja que ésta gotee. Tras este primer paso no se obtiene disminución de la erección, por lo que se prepara una solución de fenilefrina (agonista alfaadrenérgico) en suero salino a una concentración de 0,1 mg/ml. Se inyecta 2 ml de la solución en un cuerpo cavernoso, comprimiendo posteriormente. Se repite nuevamente esta maniobra en el cuerpo cavernoso contralateral. Ante la ausencia de respuesta, se realiza una nueva solución de fenilefrina, mezclando 10 mg de fenilefrina en 11 de suero salino y se van introduciendo 20-30 ml de esta solución en cada uno de los cuerpos cavernosos para lavarlos. Tras la repetición en varias ocasiones de esta última maniobra, se consigue obtener finalmente flaccidez peneana.\\nDurante su permanencia en urgencias y tras lograr flaccidez, se extraen analíticas sanguíneas que revelan una marcada elevación de las cifras de leucocitos (414 x 109/L) y plaquetas (1100 x 109/L) en sangre.\\nAnte la sospecha de un síndrome mieloproliferativo se consulta con el Servicio de Hematología, que diagnostica leucemia mieloide crónica.\\n\\nPosteriormente el paciente es sometido a un trasplante de médula ósea alogénico de donante familiar con HLA idéntico. La evolución de su enfermedad hematológica es favorable quedando el cuadro de priapismo totalmente resuelto al tratar la leucemia mieloide crónica y sin alteración en la potencia sexual.\\n   \n",
       "S0004-06142006000300015-1                                                                                                                                                                                                                                                                                                                                                                                                                                                                                                                                                                                                                                                                                                                                                                                                                                                                                                                                                                                                                                                                                                                                                                                                                                                                                                                                                                                                                                                                                                                                 Paciente de 50 años con antecedente de litiasis renal de repetición que consultó por hematuria recidivante y sensación de malestar. El estudio citológico seriado de orinas demostró la presencia de células atípicas sospechosas de malignidad. Los estudios de imagen permitieron observar una lesión heterogénea que ocupaba la práctica totalidad de la pelvis renal derecha. Se realizó nefrectomía total y ureterectomía parcial observándose un riñón de 10.5 x 5 cm de dimensiones máximas que mostraba a nivel de pelvis renal una lesión irregular y heterogénea de tonalidad pardusca en cuyo seno destacaban áreas hemorrágicas y otras ligeramente amarillentas y brillantes de consistencia sumamente blanda al corte. Dicha lesión, relativamente bien delimitada, no invadía el parénquima ni el seno renal quedando limitada al sistema pielocalicial aunque comprimiendo con márgenes expansivos la corteza en uno de los polos renales. El estudio histológico demostró que la lesión estaba constituida por nidos tumorales bien delimitados sin evidencia de invasión del parénquima renal, englobando una matriz mucinosa central la cual constituía más del 50% del volumen tumoral. En el seno de dicha matriz se encontraron flotando células neoplásicas sueltas y nidos de menor tamaño que los situados a nivel periférico. Las células tumorales mostraban morfología poligonal con núcleos centrales sin nucleolo aparente y escasa atipia así como citoplasmas eosinófilos y claros. En las áreas delimitantes con la matriz mucinosa se observó una tímida diferenciación glandular coincidiendo con la observación de algunos nucleolos y un ligero aumento de atipia nuclear. Las células tumorales mostraron intensa inmunopositividad para EMA, CK 7 y leve para CK20; ello,junto a la morfología, confirmó la naturaleza urotelial de la neoplasia.\\nCon todos los datos expuestos se realizó el diagnóstico de carcinoma de células transicionales de bajo grado, con intensa diferenciación mucinosa, de pelvis renal (carcinoma coloide).\\n\\n   \n",
       "S1130-05582014000200008-1  Paciente de 86 años de edad consulta al equipo de cirugía maxilofacial del Complejo Hospitalario San José por un aumento de volumen asintomático, de evolución indeterminada en la zona anterior mandibular.\\nLa paciente presentaba como antecedentes personales hipertensión y diabetes tipo 2 controladas mediante tratamiento médico convencional. No presentaba historia de tabaquismo o consumo de alcohol.\\nAl examen físico pudo apreciarse un gran aumento de volumen en la zona anterior mandibular de consistencia firme y doloroso a la palpación. La piel y mucosa que recubría la lesión era de características normales, sin linfoadenopatías asociadas. Tampoco se registró compromiso neurológico motor ni sensitivo asociado.\\nSe solicitó una tomografía computarizada (TC), donde en sus imágenes axiales se apreció una lesión hipodensa de aspecto multilocular que se extendía desde la región correspondiente a la zona del canino derecho hasta la región contralateral correspondiente al primer molar izquierdo que generaba abombamiento, adelgazamiento y perforación de tablas óseas. Se programó biopsia incisional e instalación de tubo de drenaje con el fin de descomprimir la lesión.\\n\\nEl estudio histopatológico de la muestra reveló una cavidad quística revestida por un epitelio poliestratificado paraqueratinizado con un estrato basal de células cilíndricas con núcleo hipercromático dispuesto en empalizada. En función de estos hallazgos se diagnosticó la lesión como tumor odontogénico queratoquístico.\\n\\nCon este diagnóstico se decidió continuar con la terapia descompresiva y controlar a la paciente. Tras 2 semanas, la paciente presentó dolor e impotencia funcional que fue en aumento hasta impedir su alimentación tras 2 meses de instalado el drenaje. Con esta evolución se solicitó una nueva TC en la cual pudo confirmarse que la terapia descompresiva no cumplía con su objetivo, ya que se observó un aumento del compromiso de los tejidos producto de la lesión, con relación a las condiciones previas, presentando franca destrucción de tablas óseas tanto vestibular como lingual. Luego de 3 semanas de ejecutado el procedimiento de descompresión, y teniendo en cuenta los nuevos hallazgos clínicos y radiofráficos, se realizó la excéresis de la lesión más curetaje y aplicación de solución de Carnoy durante 30 s en el lecho operatorio. El defecto óseo subyacente fue reconstruido mediante la utilización de una placa de reconstrucción mandibular. La pieza quirúrgica se envió a estudio histopatológico el cual informó la presencia de una membrana quística con tejido epitelial anaplásico, observándose pérdida de la estratificación epitelial, pleomorfismo celular y nuclear, pérdida de la relación núcleo/citoplasma, nucléolos prominentes, entre otros. La proliferación neoplásica presentaba un patrón infiltrativo hacia el tejido conjuntivo subyacente. En otros sectores de la muestra se observaron nidos e islotes de proliferación epitelial en el espesor de la pared quística, que mostraron las mismas características anaplásicas. En función de estos hallazgos histopatológicos se emitió el diagnóstico de carcinoma de células escamosas intraóseo moderadamente diferenciado.\\nAnte este diagnóstico se solicitaron exámenes imagenológicos, incluyendo radiografía de tórax, escáner total y escintigrafía ósea con los cuales se descartó metástasis y/o posibles tumores primarios.\\nLa paciente fue derivada para tratamiento oncológico, falleciendo a causa de neumonía.\\n\\n   \n",
       "\n",
       "                                   codigos  \n",
       "archivo                                     \n",
       "S0210-48062004000500008-1  [r69, r50, r52]  \n",
       "S0004-06142006000300015-1            [n28]  \n",
       "S1130-05582014000200008-1       [i10, r59]  "
      ]
     },
     "execution_count": 12,
     "metadata": {},
     "output_type": "execute_result"
    }
   ],
   "source": [
    "df_train.sample(3)"
   ]
  },
  {
   "cell_type": "markdown",
   "id": "dfc77de8-8256-4653-9de0-690dacc58095",
   "metadata": {},
   "source": [
    "## Cargar los textos del conjunto de test"
   ]
  },
  {
   "cell_type": "code",
   "execution_count": null,
   "id": "1114e9a2-c5b8-4232-a0aa-681b453f19e7",
   "metadata": {},
   "outputs": [],
   "source": []
  },
  {
   "cell_type": "code",
   "execution_count": null,
   "id": "2e4fba08-f77f-4b10-867b-51029b2b4ed9",
   "metadata": {},
   "outputs": [],
   "source": []
  },
  {
   "cell_type": "code",
   "execution_count": null,
   "id": "4b292f2f-dde0-419e-b36a-d65c5fa3c0a2",
   "metadata": {},
   "outputs": [],
   "source": []
  },
  {
   "cell_type": "code",
   "execution_count": null,
   "id": "98def249-b242-44e8-b6ef-fdac5cd551d7",
   "metadata": {},
   "outputs": [],
   "source": []
  },
  {
   "cell_type": "code",
   "execution_count": null,
   "id": "f42ee076-6633-49a1-a2bf-23d54adfcd6c",
   "metadata": {},
   "outputs": [],
   "source": []
  },
  {
   "cell_type": "code",
   "execution_count": null,
   "id": "d4d6ea92-47fd-462a-9067-33fdfdfd31a5",
   "metadata": {},
   "outputs": [],
   "source": []
  },
  {
   "cell_type": "markdown",
   "id": "b472f280-db6a-438d-8340-f7b19758399b",
   "metadata": {},
   "source": [
    "## Binarizar las etiquetas"
   ]
  },
  {
   "cell_type": "code",
   "execution_count": 13,
   "id": "ae41be51-448e-433b-b10f-b4236afbaa7a",
   "metadata": {},
   "outputs": [
    {
     "name": "stdout",
     "output_type": "stream",
     "text": [
      "10\n"
     ]
    }
   ],
   "source": [
    "# para entrenar un clasificador multi-etiqueta generamos una matriz binaria de las etiquetas\n",
    "from sklearn.preprocessing import MultiLabelBinarizer\n",
    "\n",
    "mlb = MultiLabelBinarizer()\n",
    "y_train = mlb.fit_transform(df_train['codigos'])\n",
    "\n",
    "#Guardamos las clases utilizadas en el conjunto de train\n",
    "clases = mlb.classes_\n",
    "num_classes = clases.shape\n",
    "print(num_classes[0])"
   ]
  },
  {
   "cell_type": "markdown",
   "id": "6431f372-160e-4082-8540-33d40c09e745",
   "metadata": {},
   "source": [
    "## Procesamiento del lenguaje natural"
   ]
  },
  {
   "cell_type": "code",
   "execution_count": null,
   "id": "eb7c1b10-8fe0-4786-a5bc-0ae2a5384272",
   "metadata": {},
   "outputs": [],
   "source": []
  },
  {
   "cell_type": "code",
   "execution_count": null,
   "id": "8476ec88-d3f6-477f-8cc9-d298ce8077b9",
   "metadata": {},
   "outputs": [],
   "source": []
  },
  {
   "cell_type": "code",
   "execution_count": null,
   "id": "cd2a2111-b1cc-44a9-aaf6-4b215fcb1f1d",
   "metadata": {},
   "outputs": [],
   "source": []
  },
  {
   "cell_type": "code",
   "execution_count": null,
   "id": "a3347eb0-e6ed-458c-908d-34f23a56180a",
   "metadata": {},
   "outputs": [],
   "source": []
  },
  {
   "cell_type": "code",
   "execution_count": null,
   "id": "0689372a-2ed7-45d5-895c-92b4f773c428",
   "metadata": {},
   "outputs": [],
   "source": []
  },
  {
   "cell_type": "markdown",
   "id": "09324f7e-ee73-41e9-b94f-a0a6a5e38b02",
   "metadata": {},
   "source": [
    "## Modelos"
   ]
  },
  {
   "cell_type": "code",
   "execution_count": null,
   "id": "df4a232b-c840-4d51-8c00-2000c91fd83a",
   "metadata": {},
   "outputs": [],
   "source": []
  },
  {
   "cell_type": "code",
   "execution_count": null,
   "id": "9ed98953-a8f9-453f-b107-8653c037a824",
   "metadata": {},
   "outputs": [],
   "source": []
  },
  {
   "cell_type": "code",
   "execution_count": null,
   "id": "59e6add7-769c-40b6-931b-1fca0721a749",
   "metadata": {},
   "outputs": [],
   "source": []
  },
  {
   "cell_type": "code",
   "execution_count": null,
   "id": "a4bdeabe-13e4-48f6-bc3c-0538b3394303",
   "metadata": {},
   "outputs": [],
   "source": []
  },
  {
   "cell_type": "markdown",
   "id": "c2c7119e-b68d-447f-ae89-ef18c223ebf8",
   "metadata": {},
   "source": [
    "## Guardar predicciones de Test"
   ]
  },
  {
   "cell_type": "code",
   "execution_count": null,
   "id": "ff863c1c-9821-4ad4-a912-1abe400f5c46",
   "metadata": {},
   "outputs": [],
   "source": []
  },
  {
   "cell_type": "code",
   "execution_count": null,
   "id": "942d26ad-7138-4f00-a07d-44a47b5c233c",
   "metadata": {},
   "outputs": [],
   "source": []
  }
 ],
 "metadata": {
  "kernelspec": {
   "display_name": "Python 3 (ipykernel)",
   "language": "python",
   "name": "python3"
  },
  "language_info": {
   "codemirror_mode": {
    "name": "ipython",
    "version": 3
   },
   "file_extension": ".py",
   "mimetype": "text/x-python",
   "name": "python",
   "nbconvert_exporter": "python",
   "pygments_lexer": "ipython3",
   "version": "3.11.5"
  }
 },
 "nbformat": 4,
 "nbformat_minor": 5
}
