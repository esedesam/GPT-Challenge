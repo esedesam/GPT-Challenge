{
 "cells": [
  {
   "cell_type": "markdown",
   "id": "9eca6be9-3ab2-4756-80a0-4880568d1cd7",
   "metadata": {},
   "source": [
    "# GPTChallenge: diagnóstico a partir de HCE"
   ]
  },
  {
   "cell_type": "markdown",
   "id": "de358c45-755b-4fad-9d68-72e591de8b4b",
   "metadata": {},
   "source": [
    "Vamos a trabajar con el corpus CodEsp (textos de historial clínico etiquetados con sus códigos CIE-10 Diagnóstico)"
   ]
  },
  {
   "cell_type": "code",
   "execution_count": 1,
   "id": "e2d4da20-1cea-4309-941f-c2440b01801a",
   "metadata": {},
   "outputs": [],
   "source": [
    "import pandas as pd\n",
    "import os, re\n",
    "import numpy as np\n",
    "from sklearn.preprocessing import MultiLabelBinarizer\n",
    "\n",
    "pd.options.display.max_colwidth = None"
   ]
  },
  {
   "cell_type": "code",
   "execution_count": 16,
   "id": "566a8909-46d3-4ccd-8a67-96d819f60e09",
   "metadata": {},
   "outputs": [
    {
     "name": "stdout",
     "output_type": "stream",
     "text": [
      "<class 'pandas.core.frame.DataFrame'>\n",
      "RangeIndex: 8316 entries, 0 to 8315\n",
      "Data columns (total 2 columns):\n",
      " #   Column   Non-Null Count  Dtype \n",
      "---  ------   --------------  ----- \n",
      " 0   archivo  8316 non-null   object\n",
      " 1   codigo   8316 non-null   object\n",
      "dtypes: object(2)\n",
      "memory usage: 130.1+ KB\n"
     ]
    }
   ],
   "source": [
    "#los códigos están en un TSV con un código por línea\n",
    "train_diag = pd.read_csv(\"data/train/train.tsv\", sep=\"\\t\", header=None, names=[\"archivo\", \"codigo\"])\n",
    "train_diag.info()"
   ]
  },
  {
   "cell_type": "code",
   "execution_count": 17,
   "id": "b15d7057-8afb-4005-8601-79ce2fe6e71a",
   "metadata": {
    "scrolled": true
   },
   "outputs": [
    {
     "data": {
      "text/plain": [
       "codigo\n",
       "r52        163\n",
       "r69        150\n",
       "r50.9      142\n",
       "i10        116\n",
       "r59.9       95\n",
       "          ... \n",
       "d37.030      1\n",
       "c79.71       1\n",
       "g25.0        1\n",
       "l76.3        1\n",
       "n81.2        1\n",
       "Name: count, Length: 2194, dtype: int64"
      ]
     },
     "execution_count": 17,
     "metadata": {},
     "output_type": "execute_result"
    }
   ],
   "source": [
    "train_diag['codigo'].value_counts()"
   ]
  },
  {
   "cell_type": "code",
   "execution_count": 18,
   "id": "3cbd33aa-1d54-419f-a1f1-728bb03b79d7",
   "metadata": {},
   "outputs": [
    {
     "name": "stdout",
     "output_type": "stream",
     "text": [
      "cat\n",
      "r52    163\n",
      "r10    163\n",
      "r59    160\n",
      "r69    150\n",
      "r50    144\n",
      "      ... \n",
      "c31      1\n",
      "d62      1\n",
      "s53      1\n",
      "s34      1\n",
      "n81      1\n",
      "Name: count, Length: 918, dtype: int64\n"
     ]
    },
    {
     "data": {
      "text/plain": [
       "918"
      ]
     },
     "execution_count": 18,
     "metadata": {},
     "output_type": "execute_result"
    }
   ],
   "source": [
    "#cogemos la categoría superior de cada código y las agrupamos\n",
    "train_diag['cat'] = train_diag['codigo'].str.extract(r'(\\w\\d\\d)')\n",
    "print(train_diag['cat'].value_counts())\n",
    "train_diag['cat'].nunique()"
   ]
  },
  {
   "cell_type": "code",
   "execution_count": 19,
   "id": "8eaf143a-b460-410e-8af2-a268181153d3",
   "metadata": {},
   "outputs": [
    {
     "name": "stdout",
     "output_type": "stream",
     "text": [
      "['r52', 'r10', 'r59', 'r69', 'r50', 'r60', 'i10', 'r11', 'n28', 'd49']\n"
     ]
    }
   ],
   "source": [
    "categories=train_diag['cat'].value_counts()[:10]\n",
    "top_categorias = categories.index.to_list()\n",
    "print(top_categorias)"
   ]
  },
  {
   "cell_type": "code",
   "execution_count": 6,
   "id": "b738a3d2",
   "metadata": {},
   "outputs": [
    {
     "data": {
      "text/plain": [
       "pandas.core.series.Series"
      ]
     },
     "execution_count": 6,
     "metadata": {},
     "output_type": "execute_result"
    }
   ],
   "source": [
    "type(train_diag['cat'])"
   ]
  },
  {
   "cell_type": "code",
   "execution_count": 7,
   "id": "25e458c1-01ec-4c48-8c3e-45f37e4553c8",
   "metadata": {},
   "outputs": [],
   "source": [
    "#seleccionamos sólo las etiquetas de este subconjunto\n",
    "train_diag = train_diag[np.isin(train_diag['cat'], top_categorias)]"
   ]
  },
  {
   "cell_type": "code",
   "execution_count": 8,
   "id": "c1befd52-7347-4e6d-8760-3a08b5fd8b02",
   "metadata": {},
   "outputs": [
    {
     "name": "stdout",
     "output_type": "stream",
     "text": [
      "<class 'pandas.core.frame.DataFrame'>\n",
      "Index: 562 entries, S0004-06142005000700014-1 to S2340-98942015000100005-1\n",
      "Data columns (total 2 columns):\n",
      " #   Column   Non-Null Count  Dtype \n",
      "---  ------   --------------  ----- \n",
      " 0   texto    562 non-null    object\n",
      " 1   codigos  562 non-null    object\n",
      "dtypes: object(2)\n",
      "memory usage: 13.2+ KB\n"
     ]
    }
   ],
   "source": [
    "#cargamos los dos conjuntos de train\n",
    "path = 'data/train/text_files_en/'\n",
    "\n",
    "corpus = []\n",
    "for f in [f for f in os.listdir(path) if f.endswith('.txt')]:\n",
    "    with open(os.path.join(path, f), encoding=\"utf8\") as text:\n",
    "        texto = text.read()\n",
    "    #buscamos códigos\n",
    "    file = f[:-4]\n",
    "    codigos = train_diag.query('archivo==@file')['cat'].to_list()\n",
    "    codigos = list(set(codigos))\n",
    "    if codigos:\n",
    "        corpus.append({\n",
    "            'archivo': file,\n",
    "            'texto': texto,\n",
    "            'codigos': codigos\n",
    "        })\n",
    "    \n",
    "df_train = pd.DataFrame(corpus).set_index('archivo')\n",
    "df_train.info()"
   ]
  },
  {
   "cell_type": "code",
   "execution_count": 9,
   "id": "dcf73334-972c-4746-829f-0891641a1b18",
   "metadata": {},
   "outputs": [
    {
     "data": {
      "text/html": [
       "<div>\n",
       "<style scoped>\n",
       "    .dataframe tbody tr th:only-of-type {\n",
       "        vertical-align: middle;\n",
       "    }\n",
       "\n",
       "    .dataframe tbody tr th {\n",
       "        vertical-align: top;\n",
       "    }\n",
       "\n",
       "    .dataframe thead th {\n",
       "        text-align: right;\n",
       "    }\n",
       "</style>\n",
       "<table border=\"1\" class=\"dataframe\">\n",
       "  <thead>\n",
       "    <tr style=\"text-align: right;\">\n",
       "      <th></th>\n",
       "      <th>texto</th>\n",
       "      <th>codigos</th>\n",
       "    </tr>\n",
       "    <tr>\n",
       "      <th>archivo</th>\n",
       "      <th></th>\n",
       "      <th></th>\n",
       "    </tr>\n",
       "  </thead>\n",
       "  <tbody>\n",
       "    <tr>\n",
       "      <th>S0004-06142007000900010-1</th>\n",
       "      <td>A 59-year-old patient was admitted with a gunshot wound with an entrance hole in the buttock, about 4 mm in diameter and without an exit wound.\\nIt also presents another bullet wound in the right thigh with entrance wound behind and exit wound forward, without involvement of important structures.\\nThe patient is conscious, oriented and with slight abdominal defense.\\nA bullet located at the level of the symphysis of the pubis, as well as a fracture of the right descending branch of it, appears in the simple abdominal X-ray.\\nThe patient arrives in retention and catheterization is impossible, so a suprapump catheter is placed.\\nLaparotomy was performed, and no other lesions were found. Left atrial fibrillation was diagnosed.\\nThe next day an urethrography is performed, proving that there is a passage of contrast from the urethra to the rectum, causing high fever with chills that are maintained for a few days.\\nSubsequently, five days after the first intervention, the patient was taken to the operating theatre and underwent rectal perforation.\\nThen an endoscopic urethrotome is introduced into the prostatic urethra, visualizing the apparently large orifice that connects the urethra with the rectum.\\nIn spite of all, it is possible to find the path that leads to the bladder and finally a 18-gauge catheter is left.\\n1.\\nThen, in the same surgical procedure, a laparotomy is performed until the symphysis of the pubis, the abdomen is again reviewed and it is proven that there is no injury.\\nThe space of Retzius is then dissected and, by means of radiological control, the anterior prostate gland is dissected, which is hypertrophic until the projectile is touched.\\nThen, with a ring clamp and always under radiological control, the bullet can be grasped and removed.\\nThe postoperative course was uneventful and the patient was discharged a few days later with the catheter.\\n1.\\nAt three months the patient is asymptomatic, a new rectal orifice is made and it is verified that the rectal orifice has closed and there are no incidents.\\nHowever, the catheter is left for three more months, a total of six months.\\nAfter this time an urethrography is performed again, it was found that the gap has closed and the catheter is removed.\\nSix months later, the patient returns for control, is asymptomatic and has normal sexual function. This time only ultrasound is performed, which is normal and is given definitive discharge.\\n</td>\n",
       "      <td>[r50]</td>\n",
       "    </tr>\n",
       "    <tr>\n",
       "      <th>S1130-63432014000400015-1</th>\n",
       "      <td>85 year old patient treated with moxifloxacin for a respiratory infection who was admitted for vomiting, diarrhea and fever of 38.5o C; with hypoalbuminemia of 2.62 g/dL, serum creatinine (Cultck-mL) calculated around 38\\nHe was diagnosed with severe and complicated ICD without abdominal disfunction meeting the criteria established in the guidelines for the diagnosis, treatment and prevention of ICD3 and was prescribed intravenous metronidazole 500 mg three times a day plus oral vancomycin 500 mg.\\nAfter 3 days of treatment vancomycin trough plasma levels of 5.77 μg/mL were detected.\\nThis value increases to 10.81 μg/mL on the sixth day of treatment.\\nAfter 7 days, after resolution of the diarrheal condition and a negative result of toxin in faeces, antibiotics were suspended.\\n</td>\n",
       "      <td>[r50, r11]</td>\n",
       "    </tr>\n",
       "    <tr>\n",
       "      <th>S1137-66272010000400007-1</th>\n",
       "      <td>A 47-year-old male who stopped smoking ten years ago smoked between 10-20 cigarettes/day for 15 years and was diagnosed with IgA eight years ago with mesangial glomerulonephritis.\\nHe had been working for 12 years as a welder in a steel disk manufacturing company which had worn a pair of 'dives' of bad ovens' and 'tungsteno' for cutting.\\nThe welder used an autogenous welding system, which used metal rods based on metal rods (39%), cadmium (25%), copper (22%) and zinc as input metal.\\nHe consumed 1 kg/week; he did not use respiratory protection equipment and his workplace did not have a localized osmium extraction system.\\nConcentrations of cadmium in the workplace were 52 μg/m3 (Environmental cadheritis Level (ALV) is 10 μg/m3).\\nDuring the twelve years that he was working he had realized an initial recognition and two nonspecific periodic reviews without controlling the exposure to cadmium and other chemical contaminants; the results of the laboratory were within the study of liver glucose, serum cholesterol (transaminal).\\nA general blood test performed by your family doctor revealed microhematuria and proteinuria.\\nWhen your health care provider tells you about cadmium exposure, she is referred to our toxicology unit.\\nUpon admission, the patient is asymptomatic, has no personal or family history of nephrology, has no problems of obesity or diabetes (glycaemia are normal), does not take any type of medication in a usual way and blood pressure is 105 mm/H.\\nLaboratory tests revealed proteinuria of 2 g/24 h, microhematuria of 150 μg/field, blood cadmium of 20 μg/g (Valor en urine L/g), and urinary creatinine 5 μg/dl.\\nBecause the renal affections were glomerular, and cadmium mainly causes tubular-type lesions, a study by renal biopsy was recommended.\\nFive glomeruli were observed in the optic disc, one of them fully sclerotic; the rest showed a slight segmental hypercellularity; in two glomeruli an interstitial tubular proliferation was detected.\\nImmunofluorescence was positive for C3 (++) and IgA (+) with mesangial pattern.\\nThe diagnosis was focal glomerulonephritis Ig A mesangial and treatment with enalapril 10 mg/day was initiated.\\nDue to the high concentrations of cadmium in biological fluids (blood and urine), which after eight years of having ceased exposure are above the maximum permissible limit values in Spain we considered a worker with chronic exposure to cadmium to be especially sensitive.\\nThe patient was followed up for 8 years (serum creatinine levels within normal GFR, proteinuria and sediment are shown in Table 1) and repeated controls of beta2-globulin and N-acetyl were found.\\nAt present, cadmium concentrations in blood are 7 μg/l (VLB: 5 μg/l) and cadmium in urine is 18 μg/g (VLB: 5 μg/g).\\n</td>\n",
       "      <td>[r69, n28]</td>\n",
       "    </tr>\n",
       "  </tbody>\n",
       "</table>\n",
       "</div>"
      ],
      "text/plain": [
       "                                                                                                                                                                                                                                                                                                                                                                                                                                                                                                                                                                                                                                                                                                                                                                                                                                                                                                                                                                                                                                                                                                                                                                                                                                                                                                                                                                                                                                                                                                                                                                                                                                                                                                                                                                                                                                                                                                                                                                                                                                                                                                                                                                                                                                                                                                                                                                                                                                                                                                                                                                                                                                                                                                                                                                                                                                                                                                   texto  \\\n",
       "archivo                                                                                                                                                                                                                                                                                                                                                                                                                                                                                                                                                                                                                                                                                                                                                                                                                                                                                                                                                                                                                                                                                                                                                                                                                                                                                                                                                                                                                                                                                                                                                                                                                                                                                                                                                                                                                                                                                                                                                                                                                                                                                                                                                                                                                                                                                                                                                                                                                                                                                                                                                                                                                                                                                                                                                                                                                                                                                                    \n",
       "S0004-06142007000900010-1                                                                                                                                                                                                                                                                                                                                  A 59-year-old patient was admitted with a gunshot wound with an entrance hole in the buttock, about 4 mm in diameter and without an exit wound.\\nIt also presents another bullet wound in the right thigh with entrance wound behind and exit wound forward, without involvement of important structures.\\nThe patient is conscious, oriented and with slight abdominal defense.\\nA bullet located at the level of the symphysis of the pubis, as well as a fracture of the right descending branch of it, appears in the simple abdominal X-ray.\\nThe patient arrives in retention and catheterization is impossible, so a suprapump catheter is placed.\\nLaparotomy was performed, and no other lesions were found. Left atrial fibrillation was diagnosed.\\nThe next day an urethrography is performed, proving that there is a passage of contrast from the urethra to the rectum, causing high fever with chills that are maintained for a few days.\\nSubsequently, five days after the first intervention, the patient was taken to the operating theatre and underwent rectal perforation.\\nThen an endoscopic urethrotome is introduced into the prostatic urethra, visualizing the apparently large orifice that connects the urethra with the rectum.\\nIn spite of all, it is possible to find the path that leads to the bladder and finally a 18-gauge catheter is left.\\n1.\\nThen, in the same surgical procedure, a laparotomy is performed until the symphysis of the pubis, the abdomen is again reviewed and it is proven that there is no injury.\\nThe space of Retzius is then dissected and, by means of radiological control, the anterior prostate gland is dissected, which is hypertrophic until the projectile is touched.\\nThen, with a ring clamp and always under radiological control, the bullet can be grasped and removed.\\nThe postoperative course was uneventful and the patient was discharged a few days later with the catheter.\\n1.\\nAt three months the patient is asymptomatic, a new rectal orifice is made and it is verified that the rectal orifice has closed and there are no incidents.\\nHowever, the catheter is left for three more months, a total of six months.\\nAfter this time an urethrography is performed again, it was found that the gap has closed and the catheter is removed.\\nSix months later, the patient returns for control, is asymptomatic and has normal sexual function. This time only ultrasound is performed, which is normal and is given definitive discharge.\\n   \n",
       "S1130-63432014000400015-1                                                                                                                                                                                                                                                                                                                                                                                                                                                                                                                                                                                                                                                                                                                                                                                                                                                                                                                                                                                                                                                                                                                                                                                                                                                                                                                                                                                                                                                                                                                                                                                                                                                                                                                                                                                                                                                                                                                                                                                                                                                          85 year old patient treated with moxifloxacin for a respiratory infection who was admitted for vomiting, diarrhea and fever of 38.5o C; with hypoalbuminemia of 2.62 g/dL, serum creatinine (Cultck-mL) calculated around 38\\nHe was diagnosed with severe and complicated ICD without abdominal disfunction meeting the criteria established in the guidelines for the diagnosis, treatment and prevention of ICD3 and was prescribed intravenous metronidazole 500 mg three times a day plus oral vancomycin 500 mg.\\nAfter 3 days of treatment vancomycin trough plasma levels of 5.77 μg/mL were detected.\\nThis value increases to 10.81 μg/mL on the sixth day of treatment.\\nAfter 7 days, after resolution of the diarrheal condition and a negative result of toxin in faeces, antibiotics were suspended.\\n   \n",
       "S1137-66272010000400007-1  A 47-year-old male who stopped smoking ten years ago smoked between 10-20 cigarettes/day for 15 years and was diagnosed with IgA eight years ago with mesangial glomerulonephritis.\\nHe had been working for 12 years as a welder in a steel disk manufacturing company which had worn a pair of 'dives' of bad ovens' and 'tungsteno' for cutting.\\nThe welder used an autogenous welding system, which used metal rods based on metal rods (39%), cadmium (25%), copper (22%) and zinc as input metal.\\nHe consumed 1 kg/week; he did not use respiratory protection equipment and his workplace did not have a localized osmium extraction system.\\nConcentrations of cadmium in the workplace were 52 μg/m3 (Environmental cadheritis Level (ALV) is 10 μg/m3).\\nDuring the twelve years that he was working he had realized an initial recognition and two nonspecific periodic reviews without controlling the exposure to cadmium and other chemical contaminants; the results of the laboratory were within the study of liver glucose, serum cholesterol (transaminal).\\nA general blood test performed by your family doctor revealed microhematuria and proteinuria.\\nWhen your health care provider tells you about cadmium exposure, she is referred to our toxicology unit.\\nUpon admission, the patient is asymptomatic, has no personal or family history of nephrology, has no problems of obesity or diabetes (glycaemia are normal), does not take any type of medication in a usual way and blood pressure is 105 mm/H.\\nLaboratory tests revealed proteinuria of 2 g/24 h, microhematuria of 150 μg/field, blood cadmium of 20 μg/g (Valor en urine L/g), and urinary creatinine 5 μg/dl.\\nBecause the renal affections were glomerular, and cadmium mainly causes tubular-type lesions, a study by renal biopsy was recommended.\\nFive glomeruli were observed in the optic disc, one of them fully sclerotic; the rest showed a slight segmental hypercellularity; in two glomeruli an interstitial tubular proliferation was detected.\\nImmunofluorescence was positive for C3 (++) and IgA (+) with mesangial pattern.\\nThe diagnosis was focal glomerulonephritis Ig A mesangial and treatment with enalapril 10 mg/day was initiated.\\nDue to the high concentrations of cadmium in biological fluids (blood and urine), which after eight years of having ceased exposure are above the maximum permissible limit values in Spain we considered a worker with chronic exposure to cadmium to be especially sensitive.\\nThe patient was followed up for 8 years (serum creatinine levels within normal GFR, proteinuria and sediment are shown in Table 1) and repeated controls of beta2-globulin and N-acetyl were found.\\nAt present, cadmium concentrations in blood are 7 μg/l (VLB: 5 μg/l) and cadmium in urine is 18 μg/g (VLB: 5 μg/g).\\n   \n",
       "\n",
       "                              codigos  \n",
       "archivo                                \n",
       "S0004-06142007000900010-1       [r50]  \n",
       "S1130-63432014000400015-1  [r50, r11]  \n",
       "S1137-66272010000400007-1  [r69, n28]  "
      ]
     },
     "execution_count": 9,
     "metadata": {},
     "output_type": "execute_result"
    }
   ],
   "source": [
    "df_train.sample(3)"
   ]
  },
  {
   "cell_type": "markdown",
   "id": "dfc77de8-8256-4653-9de0-690dacc58095",
   "metadata": {},
   "source": [
    "## Cargar los textos del conjunto de test"
   ]
  },
  {
   "cell_type": "code",
   "execution_count": 10,
   "id": "1114e9a2-c5b8-4232-a0aa-681b453f19e7",
   "metadata": {},
   "outputs": [
    {
     "name": "stdout",
     "output_type": "stream",
     "text": [
      "<class 'pandas.core.frame.DataFrame'>\n",
      "RangeIndex: 192 entries, 0 to 191\n",
      "Data columns (total 1 columns):\n",
      " #   Column   Non-Null Count  Dtype \n",
      "---  ------   --------------  ----- \n",
      " 0   archivo  192 non-null    object\n",
      "dtypes: object(1)\n",
      "memory usage: 1.6+ KB\n"
     ]
    }
   ],
   "source": [
    "#los códigos están en un TSV con un código por línea\n",
    "test_diag = pd.read_csv(\"data/test/test.tsv\", sep=\"\\t\", header=None, names=[\"archivo\"])\n",
    "test_diag.info()"
   ]
  },
  {
   "cell_type": "code",
   "execution_count": 11,
   "id": "2e4fba08-f77f-4b10-867b-51029b2b4ed9",
   "metadata": {},
   "outputs": [
    {
     "name": "stdout",
     "output_type": "stream",
     "text": [
      "<class 'pandas.core.frame.DataFrame'>\n",
      "Index: 250 entries, S2340-98942015000100005-1 to S2340-98942015000100005-1\n",
      "Data columns (total 1 columns):\n",
      " #   Column  Non-Null Count  Dtype \n",
      "---  ------  --------------  ----- \n",
      " 0   texto   250 non-null    object\n",
      "dtypes: object(1)\n",
      "memory usage: 3.9+ KB\n"
     ]
    }
   ],
   "source": [
    "path = 'data/test/text_files_en/'\n",
    "\n",
    "corpus = []\n",
    "for f in [f for f in os.listdir(path) if f.endswith('.txt')]:\n",
    "    with open(os.path.join(path, f), encoding=\"utf8\") as text:\n",
    "        texto = text.read()\n",
    "        corpus.append({\n",
    "            'archivo': file,\n",
    "            'texto': texto,\n",
    "        })\n",
    "    \n",
    "df_test = pd.DataFrame(corpus).set_index('archivo')\n",
    "df_test.info()"
   ]
  },
  {
   "cell_type": "code",
   "execution_count": 12,
   "id": "4b292f2f-dde0-419e-b36a-d65c5fa3c0a2",
   "metadata": {},
   "outputs": [
    {
     "data": {
      "text/html": [
       "<div>\n",
       "<style scoped>\n",
       "    .dataframe tbody tr th:only-of-type {\n",
       "        vertical-align: middle;\n",
       "    }\n",
       "\n",
       "    .dataframe tbody tr th {\n",
       "        vertical-align: top;\n",
       "    }\n",
       "\n",
       "    .dataframe thead th {\n",
       "        text-align: right;\n",
       "    }\n",
       "</style>\n",
       "<table border=\"1\" class=\"dataframe\">\n",
       "  <thead>\n",
       "    <tr style=\"text-align: right;\">\n",
       "      <th></th>\n",
       "      <th>texto</th>\n",
       "    </tr>\n",
       "    <tr>\n",
       "      <th>archivo</th>\n",
       "      <th></th>\n",
       "    </tr>\n",
       "  </thead>\n",
       "  <tbody>\n",
       "    <tr>\n",
       "      <th>S2340-98942015000100005-1</th>\n",
       "      <td>A 38-year-old woman with a 40-week history of gestational diabetes mellitus was admitted to hospital due to hypertension, with 150/95 mmHg.\\nTreatment was performed with intravenous infusion of labetalol.\\nAfter the failure of induction of labor with prostaglandins, a cesarean section was performed, during which there was an intense hemorrhage due to atonia, before which it was decided to perform a subtotal hysterectomy.\\nIn situations of intense hemodynamic instability and signs of coagulopathy, the patient was admitted to the intensive care unit where computed tomography (CT) revealed areas suggestive of hematoma × right hepatic lobe 19 cm suggestive of recent bleeding.\\nDue to the indication for surgery, conservative measures are used, leading to a stable hemodynamic situation of the patient, with a progressive decrease in hepatic hematoma as controlled by CT.\\nThe analysis showed a decrease in hematocrit, 18%; total bilirubin, 5.1 mg/dl; AST, 815 U/l; and thrombocytopenia (55,000 platelets/ml), so transfusion was performed.\\nGiven the favorable clinical and echographic evolution, it was decided to transfer the patient to the ward, and the day before discharge, 11 days after delivery, being lying down and talking to her husband, she began to feel unconscious.\\nAfter performing cardiopulmonary resuscitation maneuvers, the patient died and it was decided not to certify the death due to sudden death in a stable patient.\\nAutopsy findings\\nThe external examination revealed a pale corpse with slightly intense lice.\\nInternal examination revealed:\\n- liquid blood hemoperitoneum of 950 cm3.\\n- enlarged liver of 2,390 grams, with a tear in the Glisson capsule in the upper portion of the anterior face of segments VII and VIII of the right lobe.\\n1.\\n- Large extended hematoma measuring approximately 22 cm in length, 15 cm in diameter and about 3 cm in thickness.\\n- Generalised visceral paleness.\\nComplete liver was referred for histopathological study, finding a very altered hepatic parenchyma with destruction of normal architecture, periportal and intraparenchymal necrosis, and intrasinusal fibrin deposit.\\nAll findings are consistent with spontaneous liver rupture probably associated with HELLP syndrome.\\n1.\\nTherefore, hemorrhagic shock secondary to a spontaneous rupture of the liver caused by a hematoma was established as the cause of death in the context of HELLP syndrome.\\n</td>\n",
       "    </tr>\n",
       "    <tr>\n",
       "      <th>S2340-98942015000100005-1</th>\n",
       "      <td>A 65-year-old man presented with a pulsatile mass in the left forearm, of several years of evolution, and with a rapid and progressive growth, from Nephrology to Vascular Surgery.\\nPersonal history of arterial hypertension, dyslipidemia, radiocefic fistula previously left for hemodialysis performed twenty years due to terminal chronic renal failure, and six years after it was ligated.\\nOn physical examination, the anterior aspect of the left forearm showed an enormous pulsatile tumor, with no murmur or thrill.\\nThe patient was well perfused with radial and ulnar pulses.\\n1.\\nFirstly, an echodoppler was performed, which showed intense flow inside the tumor. It was not possible to define whether it was an aneurysm or a pseudoaneurysm of the radial artery or permelanoma.\\nWith the diagnostic suspicion of aneurysm or pseudoaneurysm of the radial artery secondary to AVF radioceffix ligated in a patient, surgical treatment was indicated.\\nMedian incisions at arm flexure level and distally at radial level, we proceeded to dissection and control of radial and ulnar humid artery, appreciating a large true radial artery throughout the trajectory.\\nComplete resection of the aneurysm was performed, connecting the radial artery to the proximal and distal level, since it was proven that it was chronically thrombosed and the vascularisation of the hand was ensured by the ulnar and interosseous arteries.\\n1.\\nThe postoperative course was uneventful; at discharge the patient presented humble and cubital pulses and good hand perfusion.\\nPathology confirmed that it was a true aneurysm of the radial artery.\\nOne year after treatment, the patient is asymptomatic and without complications.\\n</td>\n",
       "    </tr>\n",
       "    <tr>\n",
       "      <th>S2340-98942015000100005-1</th>\n",
       "      <td>A 55-year-old man, allergic to tetras and beta-lactamic component associated with a history of hypertension, was followed up at the Chronic Pain Unit due to a clinical picture of left lower back pain and malaise\\nMedical treatment was established with tramadol, pregabalin and standard doses of duloxetine. Diagnosis was established with local anesthetic and deep muscle corticoids (left lumbar spine and square).\\nAfter a clinical improvement of more than 50%, the patient was scheduled for a new incident, according to the hospital protocol, of the psoas muscles and left lumbar square, with botulinum toxin type A (Dysport®) 200 IU per muscle in one session.\\nFour months later, the patient developed a self-limiting episode of ptosis vulgaris without consulting for it.\\nSince then, the patient reported episodes of ptosis, which improved after local anesthetic and corticoids trigger points on the shoulder girdle.\\nSix months later, the patient developed a clinical picture of ptosis associated with diplopia and mandibular weakness. She consulted and studied the Neurology Department of the hospital and was diagnosed with steroid myasthenia gravis.\\n</td>\n",
       "    </tr>\n",
       "  </tbody>\n",
       "</table>\n",
       "</div>"
      ],
      "text/plain": [
       "                                                                                                                                                                                                                                                                                                                                                                                                                                                                                                                                                                                                                                                                                                                                                                                                                                                                                                                                                                                                                                                                                                                                                                                                                                                                                                                                                                                                                                                                                                                                                                                                                                                                                                                                                                                                                                                                                                                                                                                                                                                                                                                                                                                                                                                                                                                                                                                                                                                                                                                                     texto\n",
       "archivo                                                                                                                                                                                                                                                                                                                                                                                                                                                                                                                                                                                                                                                                                                                                                                                                                                                                                                                                                                                                                                                                                                                                                                                                                                                                                                                                                                                                                                                                                                                                                                                                                                                                                                                                                                                                                                                                                                                                                                                                                                                                                                                                                                                                                                                                                                                                                                                                                                                                                                                                   \n",
       "S2340-98942015000100005-1  A 38-year-old woman with a 40-week history of gestational diabetes mellitus was admitted to hospital due to hypertension, with 150/95 mmHg.\\nTreatment was performed with intravenous infusion of labetalol.\\nAfter the failure of induction of labor with prostaglandins, a cesarean section was performed, during which there was an intense hemorrhage due to atonia, before which it was decided to perform a subtotal hysterectomy.\\nIn situations of intense hemodynamic instability and signs of coagulopathy, the patient was admitted to the intensive care unit where computed tomography (CT) revealed areas suggestive of hematoma × right hepatic lobe 19 cm suggestive of recent bleeding.\\nDue to the indication for surgery, conservative measures are used, leading to a stable hemodynamic situation of the patient, with a progressive decrease in hepatic hematoma as controlled by CT.\\nThe analysis showed a decrease in hematocrit, 18%; total bilirubin, 5.1 mg/dl; AST, 815 U/l; and thrombocytopenia (55,000 platelets/ml), so transfusion was performed.\\nGiven the favorable clinical and echographic evolution, it was decided to transfer the patient to the ward, and the day before discharge, 11 days after delivery, being lying down and talking to her husband, she began to feel unconscious.\\nAfter performing cardiopulmonary resuscitation maneuvers, the patient died and it was decided not to certify the death due to sudden death in a stable patient.\\nAutopsy findings\\nThe external examination revealed a pale corpse with slightly intense lice.\\nInternal examination revealed:\\n- liquid blood hemoperitoneum of 950 cm3.\\n- enlarged liver of 2,390 grams, with a tear in the Glisson capsule in the upper portion of the anterior face of segments VII and VIII of the right lobe.\\n1.\\n- Large extended hematoma measuring approximately 22 cm in length, 15 cm in diameter and about 3 cm in thickness.\\n- Generalised visceral paleness.\\nComplete liver was referred for histopathological study, finding a very altered hepatic parenchyma with destruction of normal architecture, periportal and intraparenchymal necrosis, and intrasinusal fibrin deposit.\\nAll findings are consistent with spontaneous liver rupture probably associated with HELLP syndrome.\\n1.\\nTherefore, hemorrhagic shock secondary to a spontaneous rupture of the liver caused by a hematoma was established as the cause of death in the context of HELLP syndrome.\\n\n",
       "S2340-98942015000100005-1                                                                                                                                                                                                                                                                                                                                                                                                                                                                                                                                                                                                                                                                                                                                               A 65-year-old man presented with a pulsatile mass in the left forearm, of several years of evolution, and with a rapid and progressive growth, from Nephrology to Vascular Surgery.\\nPersonal history of arterial hypertension, dyslipidemia, radiocefic fistula previously left for hemodialysis performed twenty years due to terminal chronic renal failure, and six years after it was ligated.\\nOn physical examination, the anterior aspect of the left forearm showed an enormous pulsatile tumor, with no murmur or thrill.\\nThe patient was well perfused with radial and ulnar pulses.\\n1.\\nFirstly, an echodoppler was performed, which showed intense flow inside the tumor. It was not possible to define whether it was an aneurysm or a pseudoaneurysm of the radial artery or permelanoma.\\nWith the diagnostic suspicion of aneurysm or pseudoaneurysm of the radial artery secondary to AVF radioceffix ligated in a patient, surgical treatment was indicated.\\nMedian incisions at arm flexure level and distally at radial level, we proceeded to dissection and control of radial and ulnar humid artery, appreciating a large true radial artery throughout the trajectory.\\nComplete resection of the aneurysm was performed, connecting the radial artery to the proximal and distal level, since it was proven that it was chronically thrombosed and the vascularisation of the hand was ensured by the ulnar and interosseous arteries.\\n1.\\nThe postoperative course was uneventful; at discharge the patient presented humble and cubital pulses and good hand perfusion.\\nPathology confirmed that it was a true aneurysm of the radial artery.\\nOne year after treatment, the patient is asymptomatic and without complications.\\n\n",
       "S2340-98942015000100005-1                                                                                                                                                                                                                                                                                                                                                                                                                                                                                                                                                                                                                                                                                                                                                                                                                                                                                                                                                                                                                                                                                                                                                                                                                                                                                                           A 55-year-old man, allergic to tetras and beta-lactamic component associated with a history of hypertension, was followed up at the Chronic Pain Unit due to a clinical picture of left lower back pain and malaise\\nMedical treatment was established with tramadol, pregabalin and standard doses of duloxetine. Diagnosis was established with local anesthetic and deep muscle corticoids (left lumbar spine and square).\\nAfter a clinical improvement of more than 50%, the patient was scheduled for a new incident, according to the hospital protocol, of the psoas muscles and left lumbar square, with botulinum toxin type A (Dysport®) 200 IU per muscle in one session.\\nFour months later, the patient developed a self-limiting episode of ptosis vulgaris without consulting for it.\\nSince then, the patient reported episodes of ptosis, which improved after local anesthetic and corticoids trigger points on the shoulder girdle.\\nSix months later, the patient developed a clinical picture of ptosis associated with diplopia and mandibular weakness. She consulted and studied the Neurology Department of the hospital and was diagnosed with steroid myasthenia gravis.\\n"
      ]
     },
     "execution_count": 12,
     "metadata": {},
     "output_type": "execute_result"
    }
   ],
   "source": [
    "df_test.sample(3)"
   ]
  },
  {
   "cell_type": "markdown",
   "id": "b472f280-db6a-438d-8340-f7b19758399b",
   "metadata": {},
   "source": [
    "## Binarizar las etiquetas"
   ]
  },
  {
   "cell_type": "code",
   "execution_count": 13,
   "id": "ae41be51-448e-433b-b10f-b4236afbaa7a",
   "metadata": {},
   "outputs": [
    {
     "name": "stdout",
     "output_type": "stream",
     "text": [
      "10\n"
     ]
    }
   ],
   "source": [
    "# para entrenar un clasificador multi-etiqueta generamos una matriz binaria de las etiquetas\n",
    "from sklearn.preprocessing import MultiLabelBinarizer\n",
    "\n",
    "mlb = MultiLabelBinarizer()\n",
    "y_train = mlb.fit_transform(df_train['codigos'])\n",
    "\n",
    "#Guardamos las clases utilizadas en el conjunto de train\n",
    "clases = mlb.classes_\n",
    "num_classes = clases.shape\n",
    "print(num_classes[0])"
   ]
  },
  {
   "cell_type": "markdown",
   "id": "6431f372-160e-4082-8540-33d40c09e745",
   "metadata": {},
   "source": [
    "## Procesamiento del lenguaje natural"
   ]
  },
  {
   "cell_type": "code",
   "execution_count": 17,
   "id": "33a998f9",
   "metadata": {},
   "outputs": [],
   "source": [
    "from transformers import AutoTokenizer, AutoModel\n",
    "from torch import no_grad\n",
    "\n",
    "tokenizer = AutoTokenizer.from_pretrained(\"Charangan/MedBERT\")\n",
    "model = AutoModel.from_pretrained(\"Charangan/MedBERT\")\n",
    "\n",
    "\n",
    "\n",
    "# Function to tokenize and obtain embeddings\n",
    "def get_bert_embeddings(text):\n",
    "    # Tokenize text\n",
    "    tokens = tokenizer(text, return_tensors='pt', padding=True, truncation=True, max_length = 50, add_special_tokens = True)\n",
    "    # Get BERT model output\n",
    "    with no_grad():\n",
    "        output = model(**tokens)\n",
    "    # Extract embeddings for [CLS] token\n",
    "    embeddings = output.last_hidden_state[:,0,:].squeeze(0).numpy()\n",
    "    return embeddings\n",
    "\n",
    "# Assuming 'df' is your DataFrame and 'text_column' is the name of the column containing the text\n",
    "df_train['embedding'] = df_train['texto'].apply(lambda x: get_bert_embeddings(x))\n",
    "\n",
    "# Save the DataFrame with the embeddings column\n",
    "df_train.to_csv('data_with_med_embeddings_en.tsv', index=False, sep = \"\\t\")"
   ]
  },
  {
   "cell_type": "code",
   "execution_count": 7,
   "id": "f91c1b17",
   "metadata": {},
   "outputs": [
    {
     "name": "stdout",
     "output_type": "stream",
     "text": [
      "10\n"
     ]
    }
   ],
   "source": [
    "df_train = pd.read_csv(\"data_with_embeddings.tsv\", index_col=False, sep = \"\\t\")\n",
    "df_train['codigos'] = df_train['codigos'].apply(lambda s: eval(s))\n",
    "\n",
    "mlb = MultiLabelBinarizer() \n",
    "y_train = mlb.fit_transform(df_train['codigos'])\n",
    "\n",
    "#Guardamos las clases utilizadas en el conjunto de train\n",
    "clases = mlb.classes_\n",
    "num_classes = clases.shape\n",
    "print(num_classes[0])\n",
    "\n",
    "def insert_space_before_negative(string):\n",
    "    return re.sub(r'(\\s-)', r' \\1', string)\n",
    "\n",
    "df_train[\"embedding\"] = df_train[\"embedding\"].apply(lambda x: insert_space_before_negative(x))\n",
    "df_train[\"embedding\"] = df_train[\"embedding\"].apply(lambda s: s.replace(\"\\n\", \"\"))\n",
    "df_train[\"embedding\"] = df_train[\"embedding\"].apply(lambda s: s.replace(\"  \", \", \"))\n",
    "df_train[\"embedding\"] = df_train[\"embedding\"].apply(lambda s: eval(s))\n",
    "\n",
    "X = df_train[\"embedding\"].values\n",
    "X = [list(xx) for xx in X]"
   ]
  },
  {
   "cell_type": "code",
   "execution_count": 51,
   "id": "5a5a20e6",
   "metadata": {},
   "outputs": [],
   "source": [
    "# Filter the DataFrame to keep only the rows with one code in the \"codigos\" field\n",
    "df_filtered = df_train[df_train['codigos'].apply(lambda x: len(x) == 1)]\n",
    "df_filtered.reset_index(drop=True, inplace=True)\n",
    "\n",
    "X_t = df_filtered[\"embedding\"].values\n",
    "X_t = [list(xx) for xx in X_t]"
   ]
  },
  {
   "cell_type": "code",
   "execution_count": 52,
   "id": "4359949f",
   "metadata": {},
   "outputs": [
    {
     "data": {
      "text/plain": [
       "[['r52'],\n",
       " ['r69'],\n",
       " ['r50'],\n",
       " ['i10'],\n",
       " ['r60'],\n",
       " ['r59'],\n",
       " ['d49'],\n",
       " ['n28'],\n",
       " ['r10'],\n",
       " ['r11']]"
      ]
     },
     "execution_count": 52,
     "metadata": {},
     "output_type": "execute_result"
    }
   ],
   "source": [
    "cat=df_filtered['codigos'].value_counts()[:10]\n",
    "cat = cat.index.to_list()\n",
    "cat"
   ]
  },
  {
   "cell_type": "code",
   "execution_count": 58,
   "id": "077803ac",
   "metadata": {},
   "outputs": [
    {
     "data": {
      "image/png": "[encoded data removed]",
      "text/plain": [
       "<Figure size 1000x800 with 1 Axes>"
      ]
     },
     "metadata": {},
     "output_type": "display_data"
    }
   ],
   "source": [
    "import pandas as pd\n",
    "from sklearn.manifold import TSNE\n",
    "from sklearn.decomposition import PCA\n",
    "import matplotlib.pyplot as plt\n",
    "import numpy as np\n",
    "\n",
    "# Perform t-SNE dimensionality reduction\n",
    "tsne = PCA(n_components=2, random_state=42)\n",
    "embeddings_tsne = tsne.fit_transform(np.asarray(X_t))\n",
    "\n",
    "# Plot the t-SNE representation, coloring points by label\n",
    "fig = plt.figure(figsize=(10, 8))\n",
    "\n",
    "# Get unique labels from codigos\n",
    "unique_labels = np.unique(df_filtered['codigos'].apply(lambda x: x[0]))  # Ensure unique labels\n",
    "\n",
    "# Assign a color to each unique label\n",
    "colors = plt.cm.tab10.colors[:len(unique_labels)]\n",
    "\n",
    "# Iterate over unique labels\n",
    "for label, color in zip(unique_labels, colors):\n",
    "    # Get indices of data points with current label\n",
    "    indices = df_filtered[df_filtered['codigos'].apply(lambda x: x[0]) == label].index\n",
    "    # Plot t-SNE points for data points with current label, colored by label\n",
    "    plt.scatter(embeddings_tsne[indices, 0], embeddings_tsne[indices, 1], c=[color], label=label)\n",
    "\n",
    "\n",
    "# Add legend\n",
    "plt.legend()\n",
    "\n",
    "# Show plot\n",
    "plt.show()\n"
   ]
  },
  {
   "cell_type": "code",
   "execution_count": 47,
   "id": "bb2bdf95",
   "metadata": {},
   "outputs": [
    {
     "data": {
      "text/plain": [
       "2      [n28]\n",
       "4      [i10]\n",
       "8      [n28]\n",
       "10     [n28]\n",
       "12     [d49]\n",
       "       ...  \n",
       "548    [i10]\n",
       "551    [r52]\n",
       "556    [r52]\n",
       "557    [r69]\n",
       "560    [r69]\n",
       "Name: codigos, Length: 222, dtype: object"
      ]
     },
     "execution_count": 47,
     "metadata": {},
     "output_type": "execute_result"
    }
   ],
   "source": [
    "df_filtered['codigos']"
   ]
  },
  {
   "cell_type": "code",
   "execution_count": 48,
   "id": "50970d4a",
   "metadata": {},
   "outputs": [
    {
     "data": {
      "text/plain": [
       "[['r52'],\n",
       " ['r69'],\n",
       " ['r50'],\n",
       " ['i10'],\n",
       " ['r60'],\n",
       " ['r59'],\n",
       " ['d49'],\n",
       " ['n28'],\n",
       " ['r10'],\n",
       " ['r11']]"
      ]
     },
     "execution_count": 48,
     "metadata": {},
     "output_type": "execute_result"
    }
   ],
   "source": [
    "cat"
   ]
  },
  {
   "cell_type": "code",
   "execution_count": 38,
   "id": "83f19b68",
   "metadata": {},
   "outputs": [
    {
     "ename": "ValueError",
     "evalue": "('Lengths must match to compare', (222,), (1, 1))",
     "output_type": "error",
     "traceback": [
      "\u001b[1;31m---------------------------------------------------------------------------\u001b[0m",
      "\u001b[1;31mValueError\u001b[0m                                Traceback (most recent call last)",
      "Cell \u001b[1;32mIn[38], line 1\u001b[0m\n\u001b[1;32m----> 1\u001b[0m df_filtered[\u001b[43mdf_filtered\u001b[49m\u001b[43m[\u001b[49m\u001b[38;5;124;43m'\u001b[39;49m\u001b[38;5;124;43mcodigos\u001b[39;49m\u001b[38;5;124;43m'\u001b[39;49m\u001b[43m]\u001b[49m\u001b[43m \u001b[49m\u001b[38;5;241;43m==\u001b[39;49m\u001b[43m \u001b[49m\u001b[43m[\u001b[49m\u001b[43m[\u001b[49m\u001b[38;5;124;43m\"\u001b[39;49m\u001b[38;5;124;43mi10\u001b[39;49m\u001b[38;5;124;43m\"\u001b[39;49m\u001b[43m]\u001b[49m\u001b[43m]\u001b[49m]\n",
      "File \u001b[1;32mc:\\Users\\pablo\\AppData\\Local\\Programs\\Python\\Python310\\lib\\site-packages\\pandas\\core\\ops\\common.py:76\u001b[0m, in \u001b[0;36m_unpack_zerodim_and_defer.<locals>.new_method\u001b[1;34m(self, other)\u001b[0m\n\u001b[0;32m     72\u001b[0m             \u001b[38;5;28;01mreturn\u001b[39;00m \u001b[38;5;28mNotImplemented\u001b[39m\n\u001b[0;32m     74\u001b[0m other \u001b[38;5;241m=\u001b[39m item_from_zerodim(other)\n\u001b[1;32m---> 76\u001b[0m \u001b[38;5;28;01mreturn\u001b[39;00m \u001b[43mmethod\u001b[49m\u001b[43m(\u001b[49m\u001b[38;5;28;43mself\u001b[39;49m\u001b[43m,\u001b[49m\u001b[43m \u001b[49m\u001b[43mother\u001b[49m\u001b[43m)\u001b[49m\n",
      "File \u001b[1;32mc:\\Users\\pablo\\AppData\\Local\\Programs\\Python\\Python310\\lib\\site-packages\\pandas\\core\\arraylike.py:40\u001b[0m, in \u001b[0;36mOpsMixin.__eq__\u001b[1;34m(self, other)\u001b[0m\n\u001b[0;32m     38\u001b[0m \u001b[38;5;129m@unpack_zerodim_and_defer\u001b[39m(\u001b[38;5;124m\"\u001b[39m\u001b[38;5;124m__eq__\u001b[39m\u001b[38;5;124m\"\u001b[39m)\n\u001b[0;32m     39\u001b[0m \u001b[38;5;28;01mdef\u001b[39;00m \u001b[38;5;21m__eq__\u001b[39m(\u001b[38;5;28mself\u001b[39m, other):\n\u001b[1;32m---> 40\u001b[0m     \u001b[38;5;28;01mreturn\u001b[39;00m \u001b[38;5;28;43mself\u001b[39;49m\u001b[38;5;241;43m.\u001b[39;49m\u001b[43m_cmp_method\u001b[49m\u001b[43m(\u001b[49m\u001b[43mother\u001b[49m\u001b[43m,\u001b[49m\u001b[43m \u001b[49m\u001b[43moperator\u001b[49m\u001b[38;5;241;43m.\u001b[39;49m\u001b[43meq\u001b[49m\u001b[43m)\u001b[49m\n",
      "File \u001b[1;32mc:\\Users\\pablo\\AppData\\Local\\Programs\\Python\\Python310\\lib\\site-packages\\pandas\\core\\series.py:5799\u001b[0m, in \u001b[0;36mSeries._cmp_method\u001b[1;34m(self, other, op)\u001b[0m\n\u001b[0;32m   5796\u001b[0m lvalues \u001b[38;5;241m=\u001b[39m \u001b[38;5;28mself\u001b[39m\u001b[38;5;241m.\u001b[39m_values\n\u001b[0;32m   5797\u001b[0m rvalues \u001b[38;5;241m=\u001b[39m extract_array(other, extract_numpy\u001b[38;5;241m=\u001b[39m\u001b[38;5;28;01mTrue\u001b[39;00m, extract_range\u001b[38;5;241m=\u001b[39m\u001b[38;5;28;01mTrue\u001b[39;00m)\n\u001b[1;32m-> 5799\u001b[0m res_values \u001b[38;5;241m=\u001b[39m \u001b[43mops\u001b[49m\u001b[38;5;241;43m.\u001b[39;49m\u001b[43mcomparison_op\u001b[49m\u001b[43m(\u001b[49m\u001b[43mlvalues\u001b[49m\u001b[43m,\u001b[49m\u001b[43m \u001b[49m\u001b[43mrvalues\u001b[49m\u001b[43m,\u001b[49m\u001b[43m \u001b[49m\u001b[43mop\u001b[49m\u001b[43m)\u001b[49m\n\u001b[0;32m   5801\u001b[0m \u001b[38;5;28;01mreturn\u001b[39;00m \u001b[38;5;28mself\u001b[39m\u001b[38;5;241m.\u001b[39m_construct_result(res_values, name\u001b[38;5;241m=\u001b[39mres_name)\n",
      "File \u001b[1;32mc:\\Users\\pablo\\AppData\\Local\\Programs\\Python\\Python310\\lib\\site-packages\\pandas\\core\\ops\\array_ops.py:323\u001b[0m, in \u001b[0;36mcomparison_op\u001b[1;34m(left, right, op)\u001b[0m\n\u001b[0;32m    318\u001b[0m \u001b[38;5;28;01mif\u001b[39;00m \u001b[38;5;28misinstance\u001b[39m(rvalues, (np\u001b[38;5;241m.\u001b[39mndarray, ABCExtensionArray)):\n\u001b[0;32m    319\u001b[0m     \u001b[38;5;66;03m# TODO: make this treatment consistent across ops and classes.\u001b[39;00m\n\u001b[0;32m    320\u001b[0m     \u001b[38;5;66;03m#  We are not catching all listlikes here (e.g. frozenset, tuple)\u001b[39;00m\n\u001b[0;32m    321\u001b[0m     \u001b[38;5;66;03m#  The ambiguous case is object-dtype.  See GH#27803\u001b[39;00m\n\u001b[0;32m    322\u001b[0m     \u001b[38;5;28;01mif\u001b[39;00m \u001b[38;5;28mlen\u001b[39m(lvalues) \u001b[38;5;241m!=\u001b[39m \u001b[38;5;28mlen\u001b[39m(rvalues):\n\u001b[1;32m--> 323\u001b[0m         \u001b[38;5;28;01mraise\u001b[39;00m \u001b[38;5;167;01mValueError\u001b[39;00m(\n\u001b[0;32m    324\u001b[0m             \u001b[38;5;124m\"\u001b[39m\u001b[38;5;124mLengths must match to compare\u001b[39m\u001b[38;5;124m\"\u001b[39m, lvalues\u001b[38;5;241m.\u001b[39mshape, rvalues\u001b[38;5;241m.\u001b[39mshape\n\u001b[0;32m    325\u001b[0m         )\n\u001b[0;32m    327\u001b[0m \u001b[38;5;28;01mif\u001b[39;00m should_extension_dispatch(lvalues, rvalues) \u001b[38;5;129;01mor\u001b[39;00m (\n\u001b[0;32m    328\u001b[0m     (\u001b[38;5;28misinstance\u001b[39m(rvalues, (Timedelta, BaseOffset, Timestamp)) \u001b[38;5;129;01mor\u001b[39;00m right \u001b[38;5;129;01mis\u001b[39;00m NaT)\n\u001b[0;32m    329\u001b[0m     \u001b[38;5;129;01mand\u001b[39;00m lvalues\u001b[38;5;241m.\u001b[39mdtype \u001b[38;5;241m!=\u001b[39m \u001b[38;5;28mobject\u001b[39m\n\u001b[0;32m    330\u001b[0m ):\n\u001b[0;32m    331\u001b[0m     \u001b[38;5;66;03m# Call the method on lvalues\u001b[39;00m\n\u001b[0;32m    332\u001b[0m     res_values \u001b[38;5;241m=\u001b[39m op(lvalues, rvalues)\n",
      "\u001b[1;31mValueError\u001b[0m: ('Lengths must match to compare', (222,), (1, 1))"
     ]
    }
   ],
   "source": [
    "df_filtered[df_filtered['codigos'] == [\"i10\"]]"
   ]
  },
  {
   "cell_type": "code",
   "execution_count": 41,
   "id": "7957b750",
   "metadata": {},
   "outputs": [
    {
     "data": {
      "text/plain": [
       "['n28']"
      ]
     },
     "execution_count": 41,
     "metadata": {},
     "output_type": "execute_result"
    }
   ],
   "source": [
    "df_filtered['codigos'].to_list()[0]"
   ]
  },
  {
   "cell_type": "markdown",
   "id": "53adedbd",
   "metadata": {},
   "source": [
    "## Modelos"
   ]
  }
 ],
 "metadata": {
  "kernelspec": {
   "display_name": "Python 3 (ipykernel)",
   "language": "python",
   "name": "python3"
  },
  "language_info": {
   "codemirror_mode": {
    "name": "ipython",
    "version": 3
   },
   "file_extension": ".py",
   "mimetype": "text/x-python",
   "name": "python",
   "nbconvert_exporter": "python",
   "pygments_lexer": "ipython3",
   "version": "3.10.7"
  }
 },
 "nbformat": 4,
 "nbformat_minor": 5
}
