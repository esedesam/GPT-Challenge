{
 "cells": [
  {
   "cell_type": "markdown",
   "id": "9eca6be9-3ab2-4756-80a0-4880568d1cd7",
   "metadata": {},
   "source": [
    "# GPTChallenge: diagnóstico a partir de HCE"
   ]
  },
  {
   "cell_type": "markdown",
   "id": "de358c45-755b-4fad-9d68-72e591de8b4b",
   "metadata": {},
   "source": [
    "Vamos a trabajar con el corpus CodEsp (textos de historial clínico etiquetados con sus códigos CIE-10 Diagnóstico)"
   ]
  },
  {
   "cell_type": "code",
   "execution_count": 1,
   "id": "e2d4da20-1cea-4309-941f-c2440b01801a",
   "metadata": {},
   "outputs": [],
   "source": [
    "import pandas as pd\n",
    "import os, re\n",
    "import numpy as np\n",
    "\n",
    "pd.options.display.max_colwidth = None"
   ]
  },
  {
   "cell_type": "code",
   "execution_count": 2,
   "id": "566a8909-46d3-4ccd-8a67-96d819f60e09",
   "metadata": {},
   "outputs": [
    {
     "name": "stdout",
     "output_type": "stream",
     "text": [
      "<class 'pandas.core.frame.DataFrame'>\n",
      "RangeIndex: 8316 entries, 0 to 8315\n",
      "Data columns (total 2 columns):\n",
      " #   Column   Non-Null Count  Dtype \n",
      "---  ------   --------------  ----- \n",
      " 0   archivo  8316 non-null   object\n",
      " 1   codigo   8316 non-null   object\n",
      "dtypes: object(2)\n",
      "memory usage: 130.1+ KB\n"
     ]
    }
   ],
   "source": [
    "#los códigos están en un TSV con un código por línea\n",
    "train_diag = pd.read_csv(\"data/train/train.tsv\", sep=\"\\t\", header=None, names=[\"archivo\", \"codigo\"])\n",
    "train_diag.info()"
   ]
  },
  {
   "cell_type": "code",
   "execution_count": 3,
   "id": "b15d7057-8afb-4005-8601-79ce2fe6e71a",
   "metadata": {
    "scrolled": true
   },
   "outputs": [
    {
     "data": {
      "text/plain": [
       "codigo\n",
       "r52        163\n",
       "r69        150\n",
       "r50.9      142\n",
       "i10        116\n",
       "r59.9       95\n",
       "          ... \n",
       "d37.030      1\n",
       "c79.71       1\n",
       "g25.0        1\n",
       "l76.3        1\n",
       "n81.2        1\n",
       "Name: count, Length: 2194, dtype: int64"
      ]
     },
     "execution_count": 3,
     "metadata": {},
     "output_type": "execute_result"
    }
   ],
   "source": [
    "train_diag['codigo'].value_counts()"
   ]
  },
  {
   "cell_type": "code",
   "execution_count": 4,
   "id": "3cbd33aa-1d54-419f-a1f1-728bb03b79d7",
   "metadata": {},
   "outputs": [
    {
     "name": "stdout",
     "output_type": "stream",
     "text": [
      "cat\n",
      "r52    163\n",
      "r10    163\n",
      "r59    160\n",
      "r69    150\n",
      "r50    144\n",
      "      ... \n",
      "c31      1\n",
      "d62      1\n",
      "s53      1\n",
      "s34      1\n",
      "n81      1\n",
      "Name: count, Length: 918, dtype: int64\n"
     ]
    },
    {
     "data": {
      "text/plain": [
       "918"
      ]
     },
     "execution_count": 4,
     "metadata": {},
     "output_type": "execute_result"
    }
   ],
   "source": [
    "#cogemos la categoría superior de cada código y las agrupamos\n",
    "train_diag['cat'] = train_diag['codigo'].str.extract(r'(\\w\\d\\d)')\n",
    "print(train_diag['cat'].value_counts())\n",
    "train_diag['cat'].nunique()"
   ]
  },
  {
   "cell_type": "code",
   "execution_count": 5,
   "id": "8eaf143a-b460-410e-8af2-a268181153d3",
   "metadata": {},
   "outputs": [
    {
     "name": "stdout",
     "output_type": "stream",
     "text": [
      "['r52', 'r10', 'r59', 'r69', 'r50', 'r60', 'i10', 'r11', 'n28', 'd49']\n"
     ]
    }
   ],
   "source": [
    "categories=train_diag['cat'].value_counts()[:10]\n",
    "top_categorias = categories.index.to_list()\n",
    "print(top_categorias)"
   ]
  },
  {
   "cell_type": "code",
   "execution_count": 6,
   "id": "b738a3d2",
   "metadata": {},
   "outputs": [
    {
     "data": {
      "text/plain": [
       "pandas.core.series.Series"
      ]
     },
     "execution_count": 6,
     "metadata": {},
     "output_type": "execute_result"
    }
   ],
   "source": [
    "type(train_diag['cat'])"
   ]
  },
  {
   "cell_type": "code",
   "execution_count": 7,
   "id": "25e458c1-01ec-4c48-8c3e-45f37e4553c8",
   "metadata": {},
   "outputs": [],
   "source": [
    "#seleccionamos sólo las etiquetas de este subconjunto\n",
    "train_diag = train_diag[np.isin(train_diag['cat'], top_categorias)]"
   ]
  },
  {
   "cell_type": "code",
   "execution_count": 8,
   "id": "c1befd52-7347-4e6d-8760-3a08b5fd8b02",
   "metadata": {},
   "outputs": [
    {
     "name": "stdout",
     "output_type": "stream",
     "text": [
      "<class 'pandas.core.frame.DataFrame'>\n",
      "Index: 562 entries, S0004-06142005000700014-1 to S2340-98942015000100005-1\n",
      "Data columns (total 2 columns):\n",
      " #   Column   Non-Null Count  Dtype \n",
      "---  ------   --------------  ----- \n",
      " 0   texto    562 non-null    object\n",
      " 1   codigos  562 non-null    object\n",
      "dtypes: object(2)\n",
      "memory usage: 13.2+ KB\n"
     ]
    }
   ],
   "source": [
    "#cargamos los dos conjuntos de train\n",
    "path = 'data/train/text_files/'\n",
    "\n",
    "corpus = []\n",
    "for f in [f for f in os.listdir(path) if f.endswith('.txt')]:\n",
    "    with open(os.path.join(path, f), encoding=\"utf8\") as text:\n",
    "        texto = text.read()\n",
    "    #buscamos códigos\n",
    "    file = f[:-4]\n",
    "    codigos = train_diag.query('archivo==@file')['cat'].to_list()\n",
    "    codigos = list(set(codigos))\n",
    "    if codigos:\n",
    "        corpus.append({\n",
    "            'archivo': file,\n",
    "            'texto': texto,\n",
    "            'codigos': codigos\n",
    "        })\n",
    "    \n",
    "df_train = pd.DataFrame(corpus).set_index('archivo')\n",
    "df_train.info()"
   ]
  },
  {
   "cell_type": "code",
   "execution_count": 34,
   "id": "dcf73334-972c-4746-829f-0891641a1b18",
   "metadata": {},
   "outputs": [
    {
     "data": {
      "text/html": [
       "<div>\n",
       "<style scoped>\n",
       "    .dataframe tbody tr th:only-of-type {\n",
       "        vertical-align: middle;\n",
       "    }\n",
       "\n",
       "    .dataframe tbody tr th {\n",
       "        vertical-align: top;\n",
       "    }\n",
       "\n",
       "    .dataframe thead th {\n",
       "        text-align: right;\n",
       "    }\n",
       "</style>\n",
       "<table border=\"1\" class=\"dataframe\">\n",
       "  <thead>\n",
       "    <tr style=\"text-align: right;\">\n",
       "      <th></th>\n",
       "      <th>texto</th>\n",
       "      <th>codigos</th>\n",
       "    </tr>\n",
       "    <tr>\n",
       "      <th>archivo</th>\n",
       "      <th></th>\n",
       "      <th></th>\n",
       "    </tr>\n",
       "  </thead>\n",
       "  <tbody>\n",
       "    <tr>\n",
       "      <th>S1139-76322016000400018-1</th>\n",
       "      <td>Varón de 26 días de vida sin antecedentes familiares, prenatales o perinatales de relevancia. Hacia las tres semanas de vida comienza a presentar vómitos, que fueron en aumento, y el día previo a su ingreso se presentaron con cada toma, abundantes y en proyectil. El paciente se mostraba ávido por comer y con buen estado general.\\nAl presentarse en el Departamento de Urgencias, se tuvo la sospecha clínica de estenosis hipertrófica de píloro, apoyada por una gasometría que mostraba alcalosis metabólica y un ultrasonido con imagen en diana característica. El paciente fue intervenido de forma abierta mediante la técnica de Ramstedt, sin incidencias. Antes del procedimiento el paciente fue intubado sin complicaciones.\\nA las 14 horas de la cirugía se escucha por primera vez estridor de predominio inspiratorio, que no se modificaba con el sueño, la posición ni con la alimentación. Se reinterrogó a la madre, que negó haberlo escuchado antes. El paciente no presentaba ningún dato de dificultad respiratoria ni desaturación del oxígeno en la pulsioximetría.\\nDado que se trataba de un paciente previamente sano al que no se le había escuchado estridor antes, se sospechó que la intubación operatoria y el edema postraumático asociado pudieran ser la causa. Se administró nebulización con adrenalina y una dosis de dexametasona intravenosa. Tras dos horas, el estridor no se había modificado, y al continuar el paciente sin signos de dificultad respiratoria, se inició el abordaje de este problema.\\nEn una radiografía simple de tórax no se observaron anormalidades en el parénquima pulmonar, estructuras del cuello o columna de aire traqueal. Posteriormente, mediante una nasolaringoendoscopia flexible se comprobaron las estructuras supraglóticas y las cuerdas vocales íntegras, sin alteraciones morfológicas ni movimientos anormales. El siguiente paso fue la realización de una serie fluoroscópica con contraste oral, que demostró una muesca en la pared posterior del tercio superior del esófago. Durante ese tiempo el paciente no mostró cambios en su sintomatología. Tras la cirugía de píloro no había vuelto a presentar vómitos. En ningún momento presentó datos de dificultad respiratoria asociados al estridor.\\nDías después se realizó una broncoscopia, en la que se observó una compresión extrínseca 2 cm por encima de la carina, pulsátil, que obstruía más del 50% de la luz de la tráquea y no se modificaba con presión positiva. Ante la fuerte sospecha de una malformación vascular que fuera responsable de la disminución del calibre traqueal, se realizó una angiografía por tomografía computarizada (angio-TC), en la que se pudo identificar un doble arco aórtico completo, con predominancia del arco derecho como causa de la constricción traqueal. La ecocardiografía fue normal.\\n\\nEl paciente fue operado por medio de una cirugía de abordaje torácico lateral izquierdo que se realizó sin contratiempos.\\n\\nEn las primeras horas posquirúrgicas se notó una importante disminución en la intensidad del ruido inspiratorio. Fue dado de alta y durante las siguientes semanas el estridor residual continuó disminuyendo. No volvió a presentar síntomas respiratorios ni digestivos, y en una consulta de seguimiento a dos meses de la cirugía el estridor terminó por desaparecer del todo.\\n</td>\n",
       "      <td>[r11, r60]</td>\n",
       "    </tr>\n",
       "    <tr>\n",
       "      <th>S0210-48062010000100019-4</th>\n",
       "      <td>Paciente mujer de 74 años, ingresada previamente en varias ocasiones con diagnósticos de bronquiectasias y neumonitis peribronquiectásicas, anemia severa multifactorial, insuficiencia renal crónica, signos endoscópicos de gastritis crónica difusa, con factor reumatoide positivo. Como consecuencia de una caída casual presentó fractura del húmero izquierdo y cadera del mismo lado. Durante su ingreso en Traumatología presentó un cuadro de hematuria macróscopica (postsondaje), hipotensión, febrícula, empeoramiento de la función renal, que obligó a su traslado a la Unidad de Cuidados Intensivos, donde falleció con los diagnósticos de neumonía evolucionada a absceso pulmonar, hematuria fulminante, sepsis por pseudomonas e insuficiencia renal aguda (13/07/2004). Previamente, como consecuencia de la presencia de un coágulo vesical que ocupaba toda su luz, se practicó drenaje endoscópico con observación de pared vesical denudada e inflamada con sangrado en sábana sin patología tumoral, tomando biopsias múltiples. El diagnóstico anatomopatológico reveló amiloidosis vesical (AA) con depósitos de material amiloide, fundamentalmente perivascular, pero también estromal.\\n\\n</td>\n",
       "      <td>[r50]</td>\n",
       "    </tr>\n",
       "    <tr>\n",
       "      <th>S0378-48352006000900004-1</th>\n",
       "      <td>Varón de 57 años, con antecedentes personales de EPOC, fumador de 15 paquetes/año y bebedor moderado, que consulta por una tumoración de rápido crecimiento, indolora, firmemente adherida a planos profundos, de un mes de evolución, en la región del manubrio esternal. La radiografía simple y la TAC con contraste endovenoso y reconstrucción tridimensional del tórax, evidencian una tumoración de 5-6 cm. de diámetro en el manubrio esternal con destrucción cortical. Sin signos de infiltración mediastínica ni de las clavículas. (Ver Figuras 1 y 2).\\n\\nEn la analítica general no se observan alteraciones significativas, siendo el estudio de las inmunoglobulinas (IgG, IgA, IgM y beta 2 microglobulina) normal.\\nSe realizó una PAAF y una biopsia quirúrgica, encontrando una citología atípica no concluyente del tipo histológico. Las pruebas de Inmunohistoquímica resultaron positivas para los siguientes marcadores: CD 138; CD 68 (aislado); LAMBDA (algunas células); KAPPA (intensa positividad en casi la totalidad de las células). Se sospechó un plasmocitoma. La gammagrafia ósea solamente mostró un incremento de la captación en la región del tumor esternal y ambas articulaciones esternoclaviculares. La biopsia de médula ósea no evidenció hallazgos patológicos y en el estudio de la orina se constató la ausencia de las proteínas de Bence-Jones.\\nSe realizó extirpación amplia en bloque del manubrio esternal y resección parcial de ambas clavículas, de las dos primeras costillas y del cuerpo del esternón, incluyendo la piel suprayacente al tumor. No se apreció infiltración mediastínica. Cobertura del defecto resultante con una malla de polipropileno y sutura de los pectorales en la línea media. No hubo complicaciones postoperatorias. La fijación y estabilidad de la pared torácica fueron satisfactorias desde el postoperatorio inmediato. La estancia hospitalaria fue de 7 días. La descripción anátomo-patológica de la pieza operatoria indicaba abundantes células plasmáticas mononucleadas entremezcladas con otras multinucleadas con positividad inmunohistoquímica para los anticuerpos antiCD138 y cadenas lambda y negatividad para los anticuerpos de cadenas kappa. Los márgenes de resección estaban libres de enfermedad. Se completó el tratamiento con radioterapia (50 Gy en 30 sesiones durante 4 semanas).\\nEn la revisión de control a los seis meses de la operación, no se evidenciaron signos clínicos ni tomográficos de progresión de la enfermedad ni de complicaciones post-quirúrgicas tardías.\\n\\n</td>\n",
       "      <td>[r69, d49]</td>\n",
       "    </tr>\n",
       "  </tbody>\n",
       "</table>\n",
       "</div>"
      ],
      "text/plain": [
       "                                                                                                                                                                                                                                                                                                                                                                                                                                                                                                                                                                                                                                                                                                                                                                                                                                                                                                                                                                                                                                                                                                                                                                                                                                                                                                                                                                                                                                                                                                                                                                                                                                                                                                                                                                                                                                                                                                                                                                                                                                                                                                                                                                                                                                                                                                                                                                                                                                                                                                                                                                                                                                                                                                                                                                                                                                                                                                                                                                                                                                                                                                                                                                                                                                                                                                                                                                                                                                                    texto  \\\n",
       "archivo                                                                                                                                                                                                                                                                                                                                                                                                                                                                                                                                                                                                                                                                                                                                                                                                                                                                                                                                                                                                                                                                                                                                                                                                                                                                                                                                                                                                                                                                                                                                                                                                                                                                                                                                                                                                                                                                                                                                                                                                                                                                                                                                                                                                                                                                                                                                                                                                                                                                                                                                                                                                                                                                                                                                                                                                                                                                                                                                                                                                                                                                                                                                                                                                                                                                                                                                                                                                                                                     \n",
       "S1139-76322016000400018-1  Varón de 26 días de vida sin antecedentes familiares, prenatales o perinatales de relevancia. Hacia las tres semanas de vida comienza a presentar vómitos, que fueron en aumento, y el día previo a su ingreso se presentaron con cada toma, abundantes y en proyectil. El paciente se mostraba ávido por comer y con buen estado general.\\nAl presentarse en el Departamento de Urgencias, se tuvo la sospecha clínica de estenosis hipertrófica de píloro, apoyada por una gasometría que mostraba alcalosis metabólica y un ultrasonido con imagen en diana característica. El paciente fue intervenido de forma abierta mediante la técnica de Ramstedt, sin incidencias. Antes del procedimiento el paciente fue intubado sin complicaciones.\\nA las 14 horas de la cirugía se escucha por primera vez estridor de predominio inspiratorio, que no se modificaba con el sueño, la posición ni con la alimentación. Se reinterrogó a la madre, que negó haberlo escuchado antes. El paciente no presentaba ningún dato de dificultad respiratoria ni desaturación del oxígeno en la pulsioximetría.\\nDado que se trataba de un paciente previamente sano al que no se le había escuchado estridor antes, se sospechó que la intubación operatoria y el edema postraumático asociado pudieran ser la causa. Se administró nebulización con adrenalina y una dosis de dexametasona intravenosa. Tras dos horas, el estridor no se había modificado, y al continuar el paciente sin signos de dificultad respiratoria, se inició el abordaje de este problema.\\nEn una radiografía simple de tórax no se observaron anormalidades en el parénquima pulmonar, estructuras del cuello o columna de aire traqueal. Posteriormente, mediante una nasolaringoendoscopia flexible se comprobaron las estructuras supraglóticas y las cuerdas vocales íntegras, sin alteraciones morfológicas ni movimientos anormales. El siguiente paso fue la realización de una serie fluoroscópica con contraste oral, que demostró una muesca en la pared posterior del tercio superior del esófago. Durante ese tiempo el paciente no mostró cambios en su sintomatología. Tras la cirugía de píloro no había vuelto a presentar vómitos. En ningún momento presentó datos de dificultad respiratoria asociados al estridor.\\nDías después se realizó una broncoscopia, en la que se observó una compresión extrínseca 2 cm por encima de la carina, pulsátil, que obstruía más del 50% de la luz de la tráquea y no se modificaba con presión positiva. Ante la fuerte sospecha de una malformación vascular que fuera responsable de la disminución del calibre traqueal, se realizó una angiografía por tomografía computarizada (angio-TC), en la que se pudo identificar un doble arco aórtico completo, con predominancia del arco derecho como causa de la constricción traqueal. La ecocardiografía fue normal.\\n\\nEl paciente fue operado por medio de una cirugía de abordaje torácico lateral izquierdo que se realizó sin contratiempos.\\n\\nEn las primeras horas posquirúrgicas se notó una importante disminución en la intensidad del ruido inspiratorio. Fue dado de alta y durante las siguientes semanas el estridor residual continuó disminuyendo. No volvió a presentar síntomas respiratorios ni digestivos, y en una consulta de seguimiento a dos meses de la cirugía el estridor terminó por desaparecer del todo.\\n   \n",
       "S0210-48062010000100019-4                                                                                                                                                                                                                                                                                                                                                                                                                                                                                                                                                                                                                                                                                                                                                                                                                                                                                                                                                                                                                                                                                                                                                                                                                                                                                                                                                                                                                                                                                                                                                                                                                                                                                                                                                                                                                                                                                                                                                                                                                                                                                                                                                                                                      Paciente mujer de 74 años, ingresada previamente en varias ocasiones con diagnósticos de bronquiectasias y neumonitis peribronquiectásicas, anemia severa multifactorial, insuficiencia renal crónica, signos endoscópicos de gastritis crónica difusa, con factor reumatoide positivo. Como consecuencia de una caída casual presentó fractura del húmero izquierdo y cadera del mismo lado. Durante su ingreso en Traumatología presentó un cuadro de hematuria macróscopica (postsondaje), hipotensión, febrícula, empeoramiento de la función renal, que obligó a su traslado a la Unidad de Cuidados Intensivos, donde falleció con los diagnósticos de neumonía evolucionada a absceso pulmonar, hematuria fulminante, sepsis por pseudomonas e insuficiencia renal aguda (13/07/2004). Previamente, como consecuencia de la presencia de un coágulo vesical que ocupaba toda su luz, se practicó drenaje endoscópico con observación de pared vesical denudada e inflamada con sangrado en sábana sin patología tumoral, tomando biopsias múltiples. El diagnóstico anatomopatológico reveló amiloidosis vesical (AA) con depósitos de material amiloide, fundamentalmente perivascular, pero también estromal.\\n\\n   \n",
       "S0378-48352006000900004-1                                                                                                                                                                                                                                                                                                                                                                                                                                                                                                                                                                                                                                                                                                                                                                                                                    Varón de 57 años, con antecedentes personales de EPOC, fumador de 15 paquetes/año y bebedor moderado, que consulta por una tumoración de rápido crecimiento, indolora, firmemente adherida a planos profundos, de un mes de evolución, en la región del manubrio esternal. La radiografía simple y la TAC con contraste endovenoso y reconstrucción tridimensional del tórax, evidencian una tumoración de 5-6 cm. de diámetro en el manubrio esternal con destrucción cortical. Sin signos de infiltración mediastínica ni de las clavículas. (Ver Figuras 1 y 2).\\n\\nEn la analítica general no se observan alteraciones significativas, siendo el estudio de las inmunoglobulinas (IgG, IgA, IgM y beta 2 microglobulina) normal.\\nSe realizó una PAAF y una biopsia quirúrgica, encontrando una citología atípica no concluyente del tipo histológico. Las pruebas de Inmunohistoquímica resultaron positivas para los siguientes marcadores: CD 138; CD 68 (aislado); LAMBDA (algunas células); KAPPA (intensa positividad en casi la totalidad de las células). Se sospechó un plasmocitoma. La gammagrafia ósea solamente mostró un incremento de la captación en la región del tumor esternal y ambas articulaciones esternoclaviculares. La biopsia de médula ósea no evidenció hallazgos patológicos y en el estudio de la orina se constató la ausencia de las proteínas de Bence-Jones.\\nSe realizó extirpación amplia en bloque del manubrio esternal y resección parcial de ambas clavículas, de las dos primeras costillas y del cuerpo del esternón, incluyendo la piel suprayacente al tumor. No se apreció infiltración mediastínica. Cobertura del defecto resultante con una malla de polipropileno y sutura de los pectorales en la línea media. No hubo complicaciones postoperatorias. La fijación y estabilidad de la pared torácica fueron satisfactorias desde el postoperatorio inmediato. La estancia hospitalaria fue de 7 días. La descripción anátomo-patológica de la pieza operatoria indicaba abundantes células plasmáticas mononucleadas entremezcladas con otras multinucleadas con positividad inmunohistoquímica para los anticuerpos antiCD138 y cadenas lambda y negatividad para los anticuerpos de cadenas kappa. Los márgenes de resección estaban libres de enfermedad. Se completó el tratamiento con radioterapia (50 Gy en 30 sesiones durante 4 semanas).\\nEn la revisión de control a los seis meses de la operación, no se evidenciaron signos clínicos ni tomográficos de progresión de la enfermedad ni de complicaciones post-quirúrgicas tardías.\\n\\n   \n",
       "\n",
       "                              codigos  \n",
       "archivo                                \n",
       "S1139-76322016000400018-1  [r11, r60]  \n",
       "S0210-48062010000100019-4       [r50]  \n",
       "S0378-48352006000900004-1  [r69, d49]  "
      ]
     },
     "execution_count": 34,
     "metadata": {},
     "output_type": "execute_result"
    }
   ],
   "source": [
    "df_train.sample(3)"
   ]
  },
  {
   "cell_type": "markdown",
   "id": "dfc77de8-8256-4653-9de0-690dacc58095",
   "metadata": {},
   "source": [
    "## Cargar los textos del conjunto de test"
   ]
  },
  {
   "cell_type": "code",
   "execution_count": 43,
   "id": "1114e9a2-c5b8-4232-a0aa-681b453f19e7",
   "metadata": {},
   "outputs": [
    {
     "name": "stdout",
     "output_type": "stream",
     "text": [
      "<class 'pandas.core.frame.DataFrame'>\n",
      "RangeIndex: 192 entries, 0 to 191\n",
      "Data columns (total 1 columns):\n",
      " #   Column   Non-Null Count  Dtype \n",
      "---  ------   --------------  ----- \n",
      " 0   archivo  192 non-null    object\n",
      "dtypes: object(1)\n",
      "memory usage: 1.6+ KB\n"
     ]
    }
   ],
   "source": [
    "#los códigos están en un TSV con un código por línea\n",
    "test_diag = pd.read_csv(\"data/test/test.tsv\", sep=\"\\t\", header=None, names=[\"archivo\"])\n",
    "test_diag.info()"
   ]
  },
  {
   "cell_type": "code",
   "execution_count": 44,
   "id": "2e4fba08-f77f-4b10-867b-51029b2b4ed9",
   "metadata": {},
   "outputs": [
    {
     "name": "stdout",
     "output_type": "stream",
     "text": [
      "<class 'pandas.core.frame.DataFrame'>\n",
      "Index: 250 entries, S2340-98942015000100005-1 to S2340-98942015000100005-1\n",
      "Data columns (total 1 columns):\n",
      " #   Column  Non-Null Count  Dtype \n",
      "---  ------  --------------  ----- \n",
      " 0   texto   250 non-null    object\n",
      "dtypes: object(1)\n",
      "memory usage: 3.9+ KB\n"
     ]
    }
   ],
   "source": [
    "path = 'data/test/text_files/'\n",
    "\n",
    "corpus = []\n",
    "for f in [f for f in os.listdir(path) if f.endswith('.txt')]:\n",
    "    with open(os.path.join(path, f), encoding=\"utf8\") as text:\n",
    "        texto = text.read()\n",
    "        corpus.append({\n",
    "            'archivo': file,\n",
    "            'texto': texto,\n",
    "        })\n",
    "    \n",
    "df_test = pd.DataFrame(corpus).set_index('archivo')\n",
    "df_test.info()"
   ]
  },
  {
   "cell_type": "code",
   "execution_count": 45,
   "id": "4b292f2f-dde0-419e-b36a-d65c5fa3c0a2",
   "metadata": {},
   "outputs": [
    {
     "data": {
      "text/html": [
       "<div>\n",
       "<style scoped>\n",
       "    .dataframe tbody tr th:only-of-type {\n",
       "        vertical-align: middle;\n",
       "    }\n",
       "\n",
       "    .dataframe tbody tr th {\n",
       "        vertical-align: top;\n",
       "    }\n",
       "\n",
       "    .dataframe thead th {\n",
       "        text-align: right;\n",
       "    }\n",
       "</style>\n",
       "<table border=\"1\" class=\"dataframe\">\n",
       "  <thead>\n",
       "    <tr style=\"text-align: right;\">\n",
       "      <th></th>\n",
       "      <th>texto</th>\n",
       "    </tr>\n",
       "    <tr>\n",
       "      <th>archivo</th>\n",
       "      <th></th>\n",
       "    </tr>\n",
       "  </thead>\n",
       "  <tbody>\n",
       "    <tr>\n",
       "      <th>S2340-98942015000100005-1</th>\n",
       "      <td>Paciente mujer de 34 años con antecedentes de abuelo materno fallecido de Carcinoma pulmón. Sinusitis siete años antes. Consulta con su ORL por una historia clínica de 14 meses de evolución con rinorrea y epístaxis rápidamente progresiva. Mediante rinoscopia se objetiva una masa en fosa nasal derecha de aspecto polipoideo muy sangrante al contacto, que ocupa toda la fosa nasal derecha, parece conectar con el tabique y cornete medio, extendiéndose hasta la coana, y ocupando la nasofaringe. La biopsia fue positiva para estesioneuroblastoma.\\nSe realiza TAC de cabeza y cuello donde se aprecia una masa polipoidea de 4 centímetros (cm) con un gran pedículo en fosa nasal derecha y cavum. La RNM de cabeza y cuello objetiva una lesión ocupante de espacio que oblitera de forma llamativa el cavum y se extiende desde el nivel de las fosas nasales hacia atrás, poniéndose en contacto con la musculatura prevertebral, sin infiltrarla, y bien delimitada.\\n\\nSe realiza como estudio de extensión un TAC de tórax y una gammagrafía ósea sin patología. Se clasifica como Estadio C de Kadish.\\nEs intervenida mediante cirugía funcional endoscópica siendo la Anatomía Patológica de estesioneuroblastoma. En el TAC postoperatorio destaca a nivel del seno maxilar derecho un engrosamiento polipoideo de la mucosa, sin evidencia de características de malignidad, a nivel de seno frontal derecho.\\n\\nSe decide como tratamiento adyuvante con Radioterapia externa, mediante Acelerador Lineal con fotones de 6 y 15 MV, con cuñas de compensación tisular tras simulación virtual y planificación 3D sobre TC helicoidal individualizado. El lecho tumoral recibió una dosis global de 60 Gy en 30 fracciones, con esquema de 2 Gy/fracción, 5 fracciones a la semana. La tolerancia fue buena, presentando toxicidad máxima cutánea G1, mucosa G2 y orofaríngea G2. En la actualidad han transcurrido 6 meses de la irradiación, manteniéndose la respuesta completa.\\n\\n</td>\n",
       "    </tr>\n",
       "    <tr>\n",
       "      <th>S2340-98942015000100005-1</th>\n",
       "      <td>Paciente de 76 años de sexo femenino, que consulta en un Servicio de Urgencias hospitalario, por presentar dolor en área mandibular de tres días de evolución.\\nTras la exploración médica, la paciente fue remitida a su domicilio con el diagnóstico de \"artrosis mandibular\" prescribiéndole analgésicos y recomendándole que acudiera al dentista.\\nHoras después la paciente acudió a nuestra consulta, donde le aplicamos el protocolo de estudio a pacientes con desórdenes temporomandibulares (DTM) y como examen complementario le practicamos una ortopantomografía.\\nDentro de los antecedentes médicos personales de la paciente, cabe destacar que padecía hipertensión arterial desde hace 3 años y hipercolesterolemia desde hace un año.\\nEn la anamnesis acerca de las características temporoespaciales del dolor, la paciente refiere que presenta episodios de dolor en región submandibular bilateral, de tres días de evolución, que ahora se irradia a zona precordial y a la garganta. Los episodios de dolor tienen una duración que oscila entre los cinco y diez minutos, con sensación de falta el aire y sudoración acompañante. En este día ha presentado tres episodios. Este dolor ha sido resistente a los analgésicos que le prescribieron en el servicio de urgencias.\\nTras la realización del examen estomatológico completo, encontramos un \"Clic\" de apertura en articulación temporomandibular derecha y crepitación en el lado izquierdo. Oclusalmente presentaba mordida cruzada y desviación de la línea media dental. La función mandibular estaba conservada con una apertura máxima de 39 mm.\\nEn la ortopantomografía se evidenciaban signos de artrosis leve en la articulación temporomandibular izquierda.\\nEstos hallazgos no justificaban la clínica del dolor que presenta la paciente, por lo que emitimos el diagnóstico clínico de presunción de \"cardiopatía isquémica\" y remitimos a la paciente, con carácter urgente, desde nuestra consulta a un centro hospitalario para evaluación y tratamiento.\\nLa paciente ingresó en el hospital y mientras le realizaban los exámenes clínicos, presento de nuevo varios episodios del dolor mandibular. En el electrocardiograma (ECG) se apreciaban signos de crecimiento y sobrecarga sistólica del ventrículo izquierdo, T negativa en II, III, aVF y de V4 a V6.\\nTras efectuarle los estudios complementarios pertinentes: análisis de sangre, radiografía de tórax, ecocardiograma y cateterismo diagnóstico, se encontró lesión severa en dos vasos coronarios.\\nSe le practicó angioplastia y a las tres semanas fue dada de alta con el diagnóstico de angor inestable (Grado III, B1), lesión severa de dos vasos coronarios y doble lesión aórtica degenerativa.\\n</td>\n",
       "    </tr>\n",
       "    <tr>\n",
       "      <th>S2340-98942015000100005-1</th>\n",
       "      <td>Paciente de 24 años con un hermano gemelo que en Diciembre de 2005 fue intervenido de neoplasia combinada (adenocarcinoma mucinoso y carcinoide de células caliciformes, T4N2M1) que infiltraba la pared apendicular y el meso, con múltiples implantes peritoneales y afectación de 8 de los 29 ganglios aislados. Se sometió a hemicolectomía derecha, peritonectomía y resección de implantes macroscópicos de peritoneo visceral. Posteriormente se inició tratamiento quimioterápico coadyuvante con el esquema mFOLFOX4 por 12 ciclos, con episodios de diarrea tras segundo y tercer ciclo y reacción hurticariforme tras el 7o. Al inicio de la quimioterapia el 5HIAA en orina de 24 horas estaba dentro de los parámetros normales y el rastreo corporal con In.111 pentreótida y SPECT no presentaron alteraciones.\\nDiez meses tras la cirugía presentó un cuadro de dolor testicular agudo. A la exploración física presentó teste derecho horinzontalizado, aumentado de tamaño y de consistencia dura e irregular en polo superior así como engrosamiento de cordón espermático. En la ecografía doppler testicular el testículo derecho presentó aumento de calibre de las estructuras vasculares, epidídimo engrosado, hipoecoico y con vascularización periférica. Se observó contenido escrotal anecoico con contenido ecogénico móvil, compatible con hidrocele complicado (piocele y hematocele...). Se decidió exploración quirúrgica urgente en la que se observó hematocele y engrosamiento con induración de la vaginal testicular. La anatomía patológica intraoperatoria se informó de infiltración por adenocarcinoma mucinoso. Se realizó orquiectomía radical derecha con ligadura del cordón a raíz del escroto. El análisis anatomopatológico definitivo mostró una neoplasia de la vaginal testicular configurada por lagos de moco y grupos de células epiteliales, la mayoría en con morfología de anillo de sello, sin afectación del epidídimo ni del testículo.\\n\\nTras la cirugía testicular se administró quimioterapia con esquema FOLFIRI más BEVACIZUMAB en el 3er ciclo. Nueve meses tras la orquiectomía el paciente presentó progresión hepática, pancreática y adenopática regional, presentando cuadros suboclusivos. Falleció a los 21 meses del diagnóstico.\\n\\n</td>\n",
       "    </tr>\n",
       "  </tbody>\n",
       "</table>\n",
       "</div>"
      ],
      "text/plain": [
       "                                                                                                                                                                                                                                                                                                                                                                                                                                                                                                                                                                                                                                                                                                                                                                                                                                                                                                                                                                                                                                                                                                                                                                                                                                                                                                                                                                                                                                                                                                                                                                                                                                                                                                                                                                                                                                                                                                                                                                                                                                                                                                                                                                                                                                                                                                                                                                                                                                                                                                                                                                                                                                                                                                                                                                                                          texto\n",
       "archivo                                                                                                                                                                                                                                                                                                                                                                                                                                                                                                                                                                                                                                                                                                                                                                                                                                                                                                                                                                                                                                                                                                                                                                                                                                                                                                                                                                                                                                                                                                                                                                                                                                                                                                                                                                                                                                                                                                                                                                                                                                                                                                                                                                                                                                                                                                                                                                                                                                                                                                                                                                                                                                                                                                                                                                                                        \n",
       "S2340-98942015000100005-1                                                                                                                                                                                                                                                                                                                                                                                                                                                                                                                                                                                                                                                                                                                                                                    Paciente mujer de 34 años con antecedentes de abuelo materno fallecido de Carcinoma pulmón. Sinusitis siete años antes. Consulta con su ORL por una historia clínica de 14 meses de evolución con rinorrea y epístaxis rápidamente progresiva. Mediante rinoscopia se objetiva una masa en fosa nasal derecha de aspecto polipoideo muy sangrante al contacto, que ocupa toda la fosa nasal derecha, parece conectar con el tabique y cornete medio, extendiéndose hasta la coana, y ocupando la nasofaringe. La biopsia fue positiva para estesioneuroblastoma.\\nSe realiza TAC de cabeza y cuello donde se aprecia una masa polipoidea de 4 centímetros (cm) con un gran pedículo en fosa nasal derecha y cavum. La RNM de cabeza y cuello objetiva una lesión ocupante de espacio que oblitera de forma llamativa el cavum y se extiende desde el nivel de las fosas nasales hacia atrás, poniéndose en contacto con la musculatura prevertebral, sin infiltrarla, y bien delimitada.\\n\\nSe realiza como estudio de extensión un TAC de tórax y una gammagrafía ósea sin patología. Se clasifica como Estadio C de Kadish.\\nEs intervenida mediante cirugía funcional endoscópica siendo la Anatomía Patológica de estesioneuroblastoma. En el TAC postoperatorio destaca a nivel del seno maxilar derecho un engrosamiento polipoideo de la mucosa, sin evidencia de características de malignidad, a nivel de seno frontal derecho.\\n\\nSe decide como tratamiento adyuvante con Radioterapia externa, mediante Acelerador Lineal con fotones de 6 y 15 MV, con cuñas de compensación tisular tras simulación virtual y planificación 3D sobre TC helicoidal individualizado. El lecho tumoral recibió una dosis global de 60 Gy en 30 fracciones, con esquema de 2 Gy/fracción, 5 fracciones a la semana. La tolerancia fue buena, presentando toxicidad máxima cutánea G1, mucosa G2 y orofaríngea G2. En la actualidad han transcurrido 6 meses de la irradiación, manteniéndose la respuesta completa.\\n\\n\n",
       "S2340-98942015000100005-1  Paciente de 76 años de sexo femenino, que consulta en un Servicio de Urgencias hospitalario, por presentar dolor en área mandibular de tres días de evolución.\\nTras la exploración médica, la paciente fue remitida a su domicilio con el diagnóstico de \"artrosis mandibular\" prescribiéndole analgésicos y recomendándole que acudiera al dentista.\\nHoras después la paciente acudió a nuestra consulta, donde le aplicamos el protocolo de estudio a pacientes con desórdenes temporomandibulares (DTM) y como examen complementario le practicamos una ortopantomografía.\\nDentro de los antecedentes médicos personales de la paciente, cabe destacar que padecía hipertensión arterial desde hace 3 años y hipercolesterolemia desde hace un año.\\nEn la anamnesis acerca de las características temporoespaciales del dolor, la paciente refiere que presenta episodios de dolor en región submandibular bilateral, de tres días de evolución, que ahora se irradia a zona precordial y a la garganta. Los episodios de dolor tienen una duración que oscila entre los cinco y diez minutos, con sensación de falta el aire y sudoración acompañante. En este día ha presentado tres episodios. Este dolor ha sido resistente a los analgésicos que le prescribieron en el servicio de urgencias.\\nTras la realización del examen estomatológico completo, encontramos un \"Clic\" de apertura en articulación temporomandibular derecha y crepitación en el lado izquierdo. Oclusalmente presentaba mordida cruzada y desviación de la línea media dental. La función mandibular estaba conservada con una apertura máxima de 39 mm.\\nEn la ortopantomografía se evidenciaban signos de artrosis leve en la articulación temporomandibular izquierda.\\nEstos hallazgos no justificaban la clínica del dolor que presenta la paciente, por lo que emitimos el diagnóstico clínico de presunción de \"cardiopatía isquémica\" y remitimos a la paciente, con carácter urgente, desde nuestra consulta a un centro hospitalario para evaluación y tratamiento.\\nLa paciente ingresó en el hospital y mientras le realizaban los exámenes clínicos, presento de nuevo varios episodios del dolor mandibular. En el electrocardiograma (ECG) se apreciaban signos de crecimiento y sobrecarga sistólica del ventrículo izquierdo, T negativa en II, III, aVF y de V4 a V6.\\nTras efectuarle los estudios complementarios pertinentes: análisis de sangre, radiografía de tórax, ecocardiograma y cateterismo diagnóstico, se encontró lesión severa en dos vasos coronarios.\\nSe le practicó angioplastia y a las tres semanas fue dada de alta con el diagnóstico de angor inestable (Grado III, B1), lesión severa de dos vasos coronarios y doble lesión aórtica degenerativa.\\n\n",
       "S2340-98942015000100005-1                                                                                                                                                                                                                                                                                                                                                                                                                                                                    Paciente de 24 años con un hermano gemelo que en Diciembre de 2005 fue intervenido de neoplasia combinada (adenocarcinoma mucinoso y carcinoide de células caliciformes, T4N2M1) que infiltraba la pared apendicular y el meso, con múltiples implantes peritoneales y afectación de 8 de los 29 ganglios aislados. Se sometió a hemicolectomía derecha, peritonectomía y resección de implantes macroscópicos de peritoneo visceral. Posteriormente se inició tratamiento quimioterápico coadyuvante con el esquema mFOLFOX4 por 12 ciclos, con episodios de diarrea tras segundo y tercer ciclo y reacción hurticariforme tras el 7o. Al inicio de la quimioterapia el 5HIAA en orina de 24 horas estaba dentro de los parámetros normales y el rastreo corporal con In.111 pentreótida y SPECT no presentaron alteraciones.\\nDiez meses tras la cirugía presentó un cuadro de dolor testicular agudo. A la exploración física presentó teste derecho horinzontalizado, aumentado de tamaño y de consistencia dura e irregular en polo superior así como engrosamiento de cordón espermático. En la ecografía doppler testicular el testículo derecho presentó aumento de calibre de las estructuras vasculares, epidídimo engrosado, hipoecoico y con vascularización periférica. Se observó contenido escrotal anecoico con contenido ecogénico móvil, compatible con hidrocele complicado (piocele y hematocele...). Se decidió exploración quirúrgica urgente en la que se observó hematocele y engrosamiento con induración de la vaginal testicular. La anatomía patológica intraoperatoria se informó de infiltración por adenocarcinoma mucinoso. Se realizó orquiectomía radical derecha con ligadura del cordón a raíz del escroto. El análisis anatomopatológico definitivo mostró una neoplasia de la vaginal testicular configurada por lagos de moco y grupos de células epiteliales, la mayoría en con morfología de anillo de sello, sin afectación del epidídimo ni del testículo.\\n\\nTras la cirugía testicular se administró quimioterapia con esquema FOLFIRI más BEVACIZUMAB en el 3er ciclo. Nueve meses tras la orquiectomía el paciente presentó progresión hepática, pancreática y adenopática regional, presentando cuadros suboclusivos. Falleció a los 21 meses del diagnóstico.\\n\\n"
      ]
     },
     "execution_count": 45,
     "metadata": {},
     "output_type": "execute_result"
    }
   ],
   "source": [
    "df_test.sample(3)"
   ]
  },
  {
   "cell_type": "markdown",
   "id": "b472f280-db6a-438d-8340-f7b19758399b",
   "metadata": {},
   "source": [
    "## Binarizar las etiquetas"
   ]
  },
  {
   "cell_type": "code",
   "execution_count": 9,
   "id": "ae41be51-448e-433b-b10f-b4236afbaa7a",
   "metadata": {},
   "outputs": [
    {
     "name": "stdout",
     "output_type": "stream",
     "text": [
      "10\n"
     ]
    }
   ],
   "source": [
    "# para entrenar un clasificador multi-etiqueta generamos una matriz binaria de las etiquetas\n",
    "from sklearn.preprocessing import MultiLabelBinarizer\n",
    "\n",
    "mlb = MultiLabelBinarizer()\n",
    "y_train = mlb.fit_transform(df_train['codigos'])\n",
    "\n",
    "#Guardamos las clases utilizadas en el conjunto de train\n",
    "clases = mlb.classes_\n",
    "num_classes = clases.shape\n",
    "print(num_classes[0])"
   ]
  },
  {
   "cell_type": "markdown",
   "id": "6431f372-160e-4082-8540-33d40c09e745",
   "metadata": {},
   "source": [
    "## Procesamiento del lenguaje natural"
   ]
  },
  {
   "cell_type": "code",
   "execution_count": null,
   "id": "eb7c1b10-8fe0-4786-a5bc-0ae2a5384272",
   "metadata": {},
   "outputs": [],
   "source": [
    "import pandas as pd\n",
    "import torch\n",
    "from transformers import BertTokenizer, BertModel\n",
    "from tqdm import tqdm\n",
    "\n",
    "# Load pre-trained BERT model and tokenizer\n",
    "tokenizer = BertTokenizer.from_pretrained(\"dccuchile/bert-base-spanish-wwm-cased\")\n",
    "model = BertModel.from_pretrained(\"dccuchile/bert-base-spanish-wwm-cased\")\n",
    "\n",
    "# Function to tokenize and obtain embeddings\n",
    "def get_bert_embeddings(text):\n",
    "    # Tokenize text\n",
    "    tokens = tokenizer(text, return_tensors='pt', padding=True, truncation=True)\n",
    "    # Get BERT model output\n",
    "    with torch.no_grad():\n",
    "        output = model(**tokens)\n",
    "    # Extract embeddings for [CLS] token\n",
    "    embeddings = output.last_hidden_state[:,0,:].squeeze(0).numpy()\n",
    "    return embeddings\n",
    "\n",
    "# Assuming 'df' is your DataFrame and 'text_column' is the name of the column containing the text\n",
    "df_train['embedding'] = df_train['texto'].apply(lambda x: get_bert_embeddings(x))\n",
    "\n",
    "# Save the DataFrame with the embeddings column\n",
    "df_train.to_csv('data_with_embeddings.tsv', index=False, sep = \"\\t\")"
   ]
  },
  {
   "cell_type": "code",
   "execution_count": 37,
   "id": "8476ec88-d3f6-477f-8cc9-d298ce8077b9",
   "metadata": {},
   "outputs": [
    {
     "name": "stderr",
     "output_type": "stream",
     "text": [
      "C:\\Users\\pablo\\AppData\\Local\\Temp\\ipykernel_21884\\2811247242.py:1: FutureWarning: Series.__getitem__ treating keys as positions is deprecated. In a future version, integer keys will always be treated as labels (consistent with DataFrame behavior). To access a value by position, use `ser.iloc[pos]`\n",
      "  df_train[\"embedding\"][0].shape\n"
     ]
    },
    {
     "data": {
      "text/plain": [
       "(768,)"
      ]
     },
     "execution_count": 37,
     "metadata": {},
     "output_type": "execute_result"
    }
   ],
   "source": [
    "df_train[\"embedding\"][0].shape"
   ]
  },
  {
   "cell_type": "code",
   "execution_count": 63,
   "id": "05e486cd",
   "metadata": {},
   "outputs": [
    {
     "data": {
      "text/html": [
       "<div>\n",
       "<style scoped>\n",
       "    .dataframe tbody tr th:only-of-type {\n",
       "        vertical-align: middle;\n",
       "    }\n",
       "\n",
       "    .dataframe tbody tr th {\n",
       "        vertical-align: top;\n",
       "    }\n",
       "\n",
       "    .dataframe thead th {\n",
       "        text-align: right;\n",
       "    }\n",
       "</style>\n",
       "<table border=\"1\" class=\"dataframe\">\n",
       "  <thead>\n",
       "    <tr style=\"text-align: right;\">\n",
       "      <th></th>\n",
       "      <th>texto</th>\n",
       "      <th>codigos</th>\n",
       "      <th>embedding</th>\n",
       "    </tr>\n",
       "  </thead>\n",
       "  <tbody>\n",
       "    <tr>\n",
       "      <th>0</th>\n",
       "      <td>Describimos el caso de un varón de 37 años con vida previa activa que refiere dolores osteoarticulares de localización variable en el último mes y fiebre en la última semana con picos (matutino y vespertino) de 40 C las últimas 24-48 horas, por lo que acude al Servicio de Urgencias. Antes de comenzar el cuadro estuvo en Extremadura en una región endémica de brucella, ingiriendo leche de cabra sin pasteurizar y queso de dicho ganado. Entre los comensales aparecieron varios casos de brucelosis. Durante el ingreso para estudio del síndrome febril con antecedentes epidemiológicos de posible exposición a Brucella presenta un cuadro de orquiepididimitis derecha.\\nLa exploración física revela: Tª 40,2 C; T.A: 109/68 mmHg; Fc: 105 lpm. Se encuentra consciente, orientado, sudoroso, eupneico, con buen estado de nutrición e hidratación. En cabeza y cuello no se palpan adenopatías, ni bocio ni ingurgitación de vena yugular, con pulsos carotídeos simétricos. Auscultación cardíaca rítmica, sin soplos, roces ni extratonos. Auscultación pulmonar con conservación del murmullo vesicular. Abdomen blando, depresible, sin masas ni megalias. En la exploración neurológica no se detectan signos meníngeos ni datos de focalidad. Extremidades sin varices ni edemas. Pulsos periféricos presentes y simétricos. En la exploración urológica se aprecia el teste derecho aumentado de tamaño, no adherido a piel, con zonas de fluctuación e intensamente doloroso a la palpación, con pérdida del límite epidídimo-testicular y transiluminación positiva.\\nLos datos analíticos muestran los siguentes resultados: Hemograma: Hb 13,7 g/dl; leucocitos 14.610/mm3 (neutrófilos 77%); plaquetas 206.000/ mm3. VSG: 40 mm 1ª hora. Coagulación: TQ 87%; TTPA 25,8 seg. Bioquímica: Glucosa 117 mg/dl; urea 29 mg/dl; creatinina 0,9 mg/dl; sodio 136 mEq/l; potasio 3,6 mEq/l; GOT 11 U/l; GPT 24 U/l; GGT 34 U/l; fosfatasa alcalina 136 U/l; calcio 8,3 mg/dl. Orina: sedimento normal.\\nDurante el ingreso se solicitan Hemocultivos: positivo para Brucella y Serologías específicas para Brucella: Rosa de Bengala +++; Test de Coombs &gt; 1/1280; Brucellacapt &gt; 1/5120. Las pruebas de imagen solicitadas ( Rx tórax, Ecografía abdominal, TAC craneal, Ecocardiograma transtorácico) no evidencian patología significativa, excepto la Ecografía testicular, que muestra engrosamiento de la bolsa escrotal con pequeña cantidad de líquido con septos y testículo aumentado de tamaño con pequeñas zonas hipoecoicas en su interior que pueden representar microabscesos.\\nCon el diagnóstico de orquiepididimitis secundaria a Brucella se instaura tratamiento sintomático (antitérmicos, antiinflamatorios, reposo y elevación testicular) así como tratamiento antibiótico específico: Doxiciclina 100 mg vía oral cada 12 horas (durante 6 semanas) y Estreptomicina 1 gramo intramuscular cada 24 horas (durante 3 semanas). El paciente mejora significativamente de su cuadro tras una semana de ingreso, decidiéndose el alta a su domicilio donde completó la pauta de tratamiento antibiótico. En revisiones sucesivas en consultas se constató la completa remisión del cuadro.\\n</td>\n",
       "      <td>['r60', 'r52', 'r50']</td>\n",
       "      <td>[-7.06441700e-03 -1.37623310e-01 -1.23572864e-01  4.88335967e-01\\n  1.53097048e-01  9.82412040e-01  2.90743828e-01  4.05553728e-02\\n -3.02536525e-02  1.06060900e-01 -1.40504807e-01  3.48545700e-01\\n  1.12244368e+00  1.43074882e+00 -3.00008625e-01  7.71151111e-03\\n  9.22537029e-01 -1.03265166e+00  4.85295057e-02  3.70998889e-01\\n  6.36373281e-01  3.68395835e-01  6.11189723e-01  9.50438380e-01\\n -3.07029992e-01 -9.96902645e-01 -1.11324215e+00  6.18759871e-01\\n -3.01729411e-01  3.49185109e-01  1.73604161e-01 -3.63379121e-02\\n -3.03713441e-01  1.50726914e-01  1.81458265e-01  8.83489847e-02\\n  1.08171737e+00  9.68548417e-01  2.89613456e-01 -3.18801165e-01\\n -2.05302700e-01  6.54013336e-01  8.55778992e-01  8.99826109e-01\\n -1.21154048e-01  2.95534611e-01 -1.31155103e-01  7.59199858e-01\\n -5.54277301e-01  7.06930980e-02  1.12632394e-01 -5.44120789e-01\\n -4.62620348e-01 -5.76729238e-01  3.40656549e-01  7.84307539e-01\\n -5.73965192e-01 -1.23139754e-01 -7.03824311e-02 -1.12824237e+00\\n  4.69093204e-01  7.41697907e-01 -2.08170816e-01  2.18293086e-01\\n  4.48384732e-02 -9.21356499e-01 -3.54883790e-01  3.15587699e-01\\n -5.52443147e-01  9.29526687e-02 -8.97262022e-02 -4.70510334e-01\\n -2.88406700e-01 -1.89734682e-01  1.07214224e+00 -9.64041352e-02\\n  1.42453337e+00  2.68656909e-01 -2.18514353e-04  4.79142547e-01\\n -6.11892521e-01  6.71712577e-01 -2.85516500e-01  1.64263591e-01\\n  1.01219869e+00  7.14441478e-01 -7.87466466e-02  9.45378423e-01\\n  6.96039200e-01 -4.71066326e-01  1.78327039e-02 -6.55157149e-01\\n -2.10526958e-02  8.53314549e-02  3.14331114e-01  8.77157450e-02\\n -8.26593578e-01 -3.37863505e-01  1.22282952e-01  3.84598911e-01\\n -2.47931957e-01 -5.32921672e-01 -3.52014393e-01 -4.31030214e-01\\n  3.05005401e-01  2.54900753e-01  4.07565683e-01 -4.75600481e+00\\n -5.65688610e-01  2.33381391e-01  5.92082620e-01  6.52796865e-01\\n -8.44934285e-01 -7.87583590e-02 -3.84777278e-01  7.68050253e-01\\n -6.36703670e-02  1.68379232e-01 -1.20294046e+00 -8.27702761e-01\\n -8.81760895e-01  6.07668698e-01  2.97396004e-01  6.56935796e-02\\n  7.00781047e-01 -2.98737079e-01  4.24469441e-01  5.32451808e-01\\n -4.16051745e-01  4.23143893e-01  5.75889230e-01  2.08382368e-01\\n  1.38714522e-01 -4.03149784e-01 -3.69118065e-01 -4.19284441e-02\\n -2.43581742e-01  1.53995380e-01  2.07989782e-01  6.15169406e-01\\n -3.40370476e-01 -5.84870040e-01  8.93578827e-01 -7.23143741e-02\\n  1.59653351e-02 -4.90259230e-02 -1.71724632e-01  1.97842389e-01\\n -1.94631472e-01 -5.84324062e-01 -3.51154506e-01  5.76540112e-01\\n -4.85256284e-01 -3.63920718e-01  9.94492710e-01  1.90998703e-01\\n  8.01479101e-01  5.65824091e-01  1.49947226e-01 -2.29083970e-01\\n  3.45415205e-01  1.54116899e-02 -3.93378496e-01 -2.19455615e-01\\n -1.10947227e+00  1.56065345e-01 -3.68380733e-02  1.54297993e-01\\n -1.05882382e+00  5.96979976e-01 -8.14647436e-01 -2.57221907e-01\\n -1.15173034e-01  3.10042322e-01 -5.78906417e-01  1.68787837e-01\\n -3.73013020e-01  9.23095286e-01  6.20782137e-01  8.81126583e-01\\n -2.80092001e-01  5.08622646e-01  2.84067929e-01 -6.69528991e-02\\n  6.31267011e-01  6.30643427e-01 -6.33694232e-01 -1.07788301e+00\\n  8.38673174e-01 -1.15509391e-01 -8.11134651e-02 -1.07696772e-01\\n -5.20991862e-01  3.47175635e-02 -2.58488536e-01 -2.78037637e-01\\n  5.34872293e-01  3.24702621e-01  2.21310064e-01 -1.01526760e-01\\n  4.04519916e-01 -1.11673152e+00 -2.24641427e-01  4.46667150e-02\\n -9.72105205e-01 -6.97047889e-01  2.41091058e-01  2.39232540e-01\\n -4.32445765e-01 -4.86373127e-01 -1.02702045e+01 -1.39690805e-02\\n -1.69227839e-01 -5.05289912e-01  7.57627070e-01 -2.79062301e-01\\n  2.59103268e-01 -9.16109264e-01 -1.43313259e-01  1.76438674e-01\\n  7.35136047e-02  5.42529941e-01 -3.69138926e-01 -7.70867407e-01\\n -2.56236553e-01 -3.88984829e-01  4.25313622e-01 -1.14986849e+00\\n -1.47474453e-01 -8.55511308e-01  5.06637752e-01  5.38372278e-01\\n -2.58372128e-01 -3.50886762e-01  1.78192198e-01 -1.85983986e-01\\n  4.98952329e-01 -1.59060538e-01 -1.45916438e+00 -5.42538226e-01\\n -2.23098621e-01  2.76581675e-01  4.10551488e-01  8.27527165e-01\\n  2.91618109e-01  5.42426586e-01  9.52534303e-02  2.14763150e-01\\n -5.76265037e-01  5.90993278e-02  4.80164796e-01 -4.70475048e-01\\n -1.10644054e+00  7.83055425e-01  2.38355830e-01 -5.30996084e-01\\n  1.00141391e-01 -1.96275383e-01 -1.27000481e-01 -3.58719677e-02\\n -3.42980027e-01 -1.42765626e-01  4.47343349e-01  2.53338069e-01\\n  4.77313638e-01  3.59010547e-01 -7.60092616e-01  5.57715952e-01\\n -3.47878605e-01  5.81378102e-01  2.52491981e-02  1.92591920e-01\\n  6.30498171e-01 -6.82516217e-01  5.18232524e-01 -2.49537155e-01\\n -5.55275261e-01  5.81035078e-01  7.42110491e-01 -4.47911620e-01\\n  3.16604793e-01 -3.33492160e-01 -2.21542746e-01  9.69103217e-01\\n  4.49584007e-01 -3.63364518e-01 -7.67015934e-01 -1.85101166e-01\\n  9.67495143e-02  2.56208360e-01  7.00584650e-01  2.83075243e-01\\n  2.81381011e-01  6.17870629e-01 -7.18650520e-01  9.22847211e-01\\n -4.43817466e-01  2.98731536e-01  2.19913155e-01  7.26059496e-01\\n  8.50681067e-02  9.60209966e-02 -1.69770181e-01 -4.41108614e-01\\n -2.88779795e-01 -2.96863347e-01  4.14005846e-01  1.26627967e-01\\n -5.89632094e-01  7.48812199e-01 -2.59308219e-01 -5.44177890e-01\\n -6.64638221e-01  4.43501055e-01 -7.39237964e-01 -1.79103637e+00\\n -1.07903399e-01 -5.37472963e-01 -1.98904067e-01 -3.61685455e-01\\n  1.64680302e-01  1.85459703e-01  5.39745927e-01  1.12367821e+00\\n  2.42409110e-03 -4.26151514e-01 -3.30643594e-01 -4.31499004e-01\\n  3.50344181e-02  3.28613102e-01 -5.26083708e-01  5.85637510e-01\\n  8.15815330e-01 -1.05181921e+00  4.66848835e-02 -6.47801161e-01\\n  5.22461414e-01  6.03139341e-01 -3.64852339e-01 -9.38834190e-01\\n -1.42699271e-01  2.02050954e-02  5.52489161e-01  8.61606479e-01\\n  1.55888617e-01 -7.36674607e-01 -4.04914916e-01 -3.15739840e-01\\n -2.50844866e-01 -1.71074957e-01 -2.71989703e-02  5.54685555e-02\\n -6.87555194e-01  1.03764229e-01 -6.79377317e-02 -3.43967676e-01\\n  5.60873598e-02 -2.91388094e-01  5.49009681e-01 -1.66362405e-01\\n -8.33337665e-01  6.89981461e-01 -6.68321013e-01 -1.74524933e-01\\n  3.08721602e-01 -4.91629124e-01  1.85226694e-01 -4.73389566e-01\\n  3.82637620e-01  1.70991421e-01  1.07552493e+00 -1.76184237e-01\\n  6.98853850e-01 -1.73334980e+00 -4.67542619e-01 -3.24402213e-01\\n  2.90382683e-01  2.35585436e-01 -1.37219667e-01 -3.51506799e-01\\n  2.21488819e-01  3.45466822e-01 -1.01682878e+00  4.62577224e-01\\n -5.03059864e-01 -5.09437203e-01 -1.82995066e-01  8.23239312e-02\\n  7.35378206e-01 -1.12364626e+00 -1.12186015e-01  2.55024791e-01\\n  1.73649415e-01  1.28253412e+00  7.39020407e-02 -1.81314632e-01\\n -3.66785228e-01 -5.06729603e-01 -2.18117803e-01 -4.91913974e-01\\n  8.05394828e-01 -8.23908865e-01  2.36691952e-01  8.87713850e-01\\n -3.72856617e-01 -1.04053259e+00  3.40286493e-02  2.25895084e-02\\n  3.72773021e-01 -1.28189683e-01  2.22201288e-01 -3.56737375e-01\\n -1.18595570e-01 -1.06173229e+00 -7.93578804e-01 -4.96259987e-01\\n  2.49041915e+00 -1.98383361e-01  3.31569910e-01 -5.46665907e-01\\n -1.82359368e-01 -2.38595009e-01 -3.03737164e-01  4.24576551e-03\\n -8.11108053e-01 -3.42195064e-01  9.69291627e-01  3.75003338e-01\\n  5.06883323e-01 -3.59079361e-01 -4.12259519e-01 -2.21376941e-01\\n -3.16594064e-01 -1.30538553e-01  6.43803418e-01  1.89446792e-01\\n -2.02956274e-01  3.07092220e-01 -2.42474750e-01 -6.95366263e-01\\n -6.88858986e-01  1.47660643e-01  1.06206909e-03  6.46665931e-01\\n -7.36824796e-02  5.32730445e-02  1.66383013e-01  9.74476397e-01\\n -2.48111397e-01 -6.94650337e-02 -4.19722855e-01  7.42155790e-01\\n  3.73534143e-01 -5.32737494e-01  5.82765996e-01 -5.86924911e-01\\n -7.70439446e-01  5.43342471e-01  8.16660374e-03  5.19106030e-01\\n  4.85092580e-01  7.01078057e-01  3.71505767e-02  3.05423111e-01\\n -5.07983983e-01 -3.12823802e-02 -1.03308451e+00 -1.44956902e-01\\n  1.98709905e-01  5.99579990e-01 -6.98738545e-03 -7.44782388e-01\\n -5.62213361e-01  5.04732490e-01 -5.54213151e-02 -6.17449939e-01\\n -8.27589095e-01 -3.57188344e-01 -3.43608797e-01  2.89362103e-01\\n  3.88939112e-01 -3.00417617e-02 -1.62936836e-01  3.52414578e-01\\n  4.05239910e-01 -6.03880525e-01  8.39778662e-01 -9.79209468e-02\\n -6.11821055e-01  6.44685268e-01 -2.34492511e-01  9.62733328e-01\\n  5.94826758e-01  8.87205839e-01  3.03566277e-01  2.31580466e-01\\n -2.99219787e-02  2.94700474e-01 -1.48358554e-01 -6.07479811e-01\\n  1.76892594e-01 -9.47662354e-01  2.53753662e-01 -6.55930758e-01\\n  2.46461049e-01  1.13961063e-01 -2.17416659e-01 -1.05200005e+00\\n  8.31127465e-01  3.93541634e-01  7.27623641e-01  4.31546569e-01\\n  6.68154061e-02  4.35717613e-01 -6.65011287e-01 -5.00337958e-01\\n  6.10662043e-01  8.55242312e-01  2.54018158e-01  8.61564100e-01\\n  4.58852708e-01  6.88212872e-01  1.63288385e-01  5.48928857e-01\\n  5.85607708e-01 -1.26365975e-01  1.22784063e-01  4.25953805e-01\\n -6.70255959e-01 -1.99390545e-01 -7.32841790e-01 -1.40330672e+00\\n -9.88639712e-01 -7.18322814e-01  4.42287959e-02  2.50893444e-01\\n  5.27462482e-01  6.91634178e-01 -7.10258663e-01 -2.95108199e-01\\n -2.14151636e-01 -1.19281627e-01  8.81384462e-02  6.29995883e-01\\n  9.02745575e-02  4.17597473e-01  3.12642157e-01 -2.07794249e-01\\n -3.42252046e-01  3.54456306e-01  6.01811707e-01 -2.64279515e-01\\n  3.48549396e-01  4.35792238e-01 -4.89288867e-01 -3.84890556e-01\\n -1.12918749e-01 -5.32955229e-01 -9.57848740e+00 -2.31136590e-01\\n -1.31266683e-01  4.03388411e-01 -4.84915733e-01 -4.74622011e-01\\n -8.20761263e-01  2.46078938e-01  7.27434456e-02 -2.66492292e-02\\n  2.58649141e-01  1.22819752e-01  1.01522374e+00 -6.56924486e-01\\n -3.49622518e-02  5.06467283e-01 -9.06206667e-01  3.63080442e-01\\n  5.59529841e-01 -2.22160980e-01 -3.83024514e-01 -4.95936751e-01\\n  5.21792471e-01 -6.06408596e-01  1.12120664e+00 -8.40112492e-02\\n  1.58736482e-01 -1.32671773e+00  6.33292198e-01 -6.12619162e-01\\n  6.79917872e-01  1.38714707e+00  1.22608311e-01 -1.21003240e-01\\n -4.57017690e-01  2.49719754e-01 -2.34081760e-01  4.33573633e-01\\n  1.15337849e+00 -2.88171560e-01 -4.49007481e-01 -3.85666013e-01\\n  6.13901675e-01  3.53907287e-01 -1.64351314e-01  2.68388629e-01\\n -1.14939916e+00 -1.08702429e-01  6.33252323e-01  1.19665217e+00\\n  1.46781012e-01 -2.86362171e-01 -4.93495911e-01  1.59520701e-01\\n -5.90518117e-01  1.24197975e-01 -6.04946613e-01  5.41595221e-01\\n  3.72789621e-01 -2.43028998e-01 -5.59428871e-01 -2.03991175e-01\\n -2.97254771e-01 -9.30741012e-01 -2.08533019e-01  2.05496289e-02\\n -1.20292866e+00  1.53292231e-02  1.44618362e-01 -3.69614363e-02\\n  8.10937583e-01 -3.71285021e-01  8.86541247e-01 -9.27873790e-01\\n  2.91156918e-02  8.33077431e-02  1.26698732e-01 -1.00243449e+00\\n  1.33187687e+00 -3.92356962e-01 -9.41279173e-01  2.14830548e-01\\n  1.04519486e+00 -5.13008595e-01  4.18510646e-01  3.26824039e-01\\n -3.44772041e-01  6.60098970e-01 -7.64776111e-01 -3.55291665e-01\\n  3.98074448e-01 -4.32512194e-01 -5.19362390e-01  2.62467191e-02\\n -6.23569071e-01  3.82254645e-03 -3.95704865e-01 -3.89474183e-02\\n -7.77958930e-01  7.79487267e-02  4.00150955e-01 -1.80866271e-01\\n  4.68587160e-01 -5.50509512e-01  5.29266059e-01 -7.37255663e-02\\n -1.06252325e+00  1.02208805e+00  2.94980645e-01 -3.93075496e-02\\n  1.25257000e-01  3.96296889e-01 -1.68181345e-01 -7.88611025e-02\\n -6.50857449e-01  2.04697654e-01  4.29539174e-01  1.00224748e-01\\n  2.21170902e-01  1.32182717e-01 -4.92504954e-01 -5.21275461e-01\\n  1.35370362e+00 -1.99196622e-01  3.79495561e-01 -8.81663859e-01\\n -6.16978645e-01  1.56989932e-01  4.00892466e-01  6.10559046e-01\\n  1.28289247e+00 -5.13588786e-02 -9.35781002e-03  9.20783401e-01\\n -2.39750206e-01  1.14454949e+00 -2.94313073e-01 -8.52914304e-02\\n -7.26110160e-01  1.52311027e-01 -2.81116962e-01  1.99315369e-01\\n -6.83176994e-01  5.54593146e-01  1.08995557e+00  8.78823996e-01\\n -1.76901400e-01  9.84377027e-01 -7.60428846e-01  3.14057827e-01\\n  7.43713796e-01 -4.67418849e-01 -5.66647649e-01  1.36114359e-01\\n  2.24637985e-02  3.85378271e-01 -9.86945689e-01 -5.87749004e-01\\n -9.07416791e-02  5.58828950e-01  2.17944592e-01  1.65033862e-02\\n  2.99523175e-01 -9.00071740e-01 -1.02293921e+00 -3.31468433e-01\\n -2.44598106e-01 -3.42653394e-02 -6.61555409e-01  8.97163808e-01\\n  4.36352253e-01 -3.27239186e-02  3.07636380e-01 -3.05107981e-01\\n -8.43870699e-01 -8.54228020e-01 -2.46391967e-01  1.45089984e-01\\n -6.76053822e-01  3.74343008e-01 -2.34647140e-01 -5.04583955e-01\\n  2.31323689e-02  1.83788285e-01 -9.09195423e-01  2.82152295e-02\\n  3.22957218e-01 -1.72914803e-01  2.14540213e-02 -4.61897016e-01\\n  3.41092855e-01 -1.92960441e-01 -6.05141819e-01  2.23060176e-02\\n  7.13023618e-02  4.79383528e-01 -3.66704017e-01 -5.90221167e-01\\n  4.69105124e-01 -2.56894290e-01 -3.75314951e-01 -1.19793010e+00\\n  3.73184644e-02  1.10864651e+00  7.62862638e-02 -2.51293957e-01\\n -6.13570929e-01 -3.64826441e-01  7.92687953e-01  3.33155066e-01]</td>\n",
       "    </tr>\n",
       "  </tbody>\n",
       "</table>\n",
       "</div>"
      ],
      "text/plain": [
       "                                                                                                                                                                                                                                                                                                                                                                                                                                                                                                                                                                                                                                                                                                                                                                                                                                                                                                                                                                                                                                                                                                                                                                                                                                                                                                                                                                                                                                                                                                                                                                                                                                                                                                                                                                                                                                                                                                                                                                                                                                                                                                                                                                                                                                                                                                                                                                                                                                                                                                                                                                                                                                                                                                                                                                                                                                                                                                                                                                                                                                                                                                                                                                                                                                       texto  \\\n",
       "0  Describimos el caso de un varón de 37 años con vida previa activa que refiere dolores osteoarticulares de localización variable en el último mes y fiebre en la última semana con picos (matutino y vespertino) de 40 C las últimas 24-48 horas, por lo que acude al Servicio de Urgencias. Antes de comenzar el cuadro estuvo en Extremadura en una región endémica de brucella, ingiriendo leche de cabra sin pasteurizar y queso de dicho ganado. Entre los comensales aparecieron varios casos de brucelosis. Durante el ingreso para estudio del síndrome febril con antecedentes epidemiológicos de posible exposición a Brucella presenta un cuadro de orquiepididimitis derecha.\\nLa exploración física revela: Tª 40,2 C; T.A: 109/68 mmHg; Fc: 105 lpm. Se encuentra consciente, orientado, sudoroso, eupneico, con buen estado de nutrición e hidratación. En cabeza y cuello no se palpan adenopatías, ni bocio ni ingurgitación de vena yugular, con pulsos carotídeos simétricos. Auscultación cardíaca rítmica, sin soplos, roces ni extratonos. Auscultación pulmonar con conservación del murmullo vesicular. Abdomen blando, depresible, sin masas ni megalias. En la exploración neurológica no se detectan signos meníngeos ni datos de focalidad. Extremidades sin varices ni edemas. Pulsos periféricos presentes y simétricos. En la exploración urológica se aprecia el teste derecho aumentado de tamaño, no adherido a piel, con zonas de fluctuación e intensamente doloroso a la palpación, con pérdida del límite epidídimo-testicular y transiluminación positiva.\\nLos datos analíticos muestran los siguentes resultados: Hemograma: Hb 13,7 g/dl; leucocitos 14.610/mm3 (neutrófilos 77%); plaquetas 206.000/ mm3. VSG: 40 mm 1ª hora. Coagulación: TQ 87%; TTPA 25,8 seg. Bioquímica: Glucosa 117 mg/dl; urea 29 mg/dl; creatinina 0,9 mg/dl; sodio 136 mEq/l; potasio 3,6 mEq/l; GOT 11 U/l; GPT 24 U/l; GGT 34 U/l; fosfatasa alcalina 136 U/l; calcio 8,3 mg/dl. Orina: sedimento normal.\\nDurante el ingreso se solicitan Hemocultivos: positivo para Brucella y Serologías específicas para Brucella: Rosa de Bengala +++; Test de Coombs > 1/1280; Brucellacapt > 1/5120. Las pruebas de imagen solicitadas ( Rx tórax, Ecografía abdominal, TAC craneal, Ecocardiograma transtorácico) no evidencian patología significativa, excepto la Ecografía testicular, que muestra engrosamiento de la bolsa escrotal con pequeña cantidad de líquido con septos y testículo aumentado de tamaño con pequeñas zonas hipoecoicas en su interior que pueden representar microabscesos.\\nCon el diagnóstico de orquiepididimitis secundaria a Brucella se instaura tratamiento sintomático (antitérmicos, antiinflamatorios, reposo y elevación testicular) así como tratamiento antibiótico específico: Doxiciclina 100 mg vía oral cada 12 horas (durante 6 semanas) y Estreptomicina 1 gramo intramuscular cada 24 horas (durante 3 semanas). El paciente mejora significativamente de su cuadro tras una semana de ingreso, decidiéndose el alta a su domicilio donde completó la pauta de tratamiento antibiótico. En revisiones sucesivas en consultas se constató la completa remisión del cuadro.\\n   \n",
       "\n",
       "                 codigos  \\\n",
       "0  ['r60', 'r52', 'r50']   \n",
       "\n",
       "                                                                                                                                                                                                                                                                                                                                                                                                                                                                                                                                                                                                                                                                                                                                                                                                                                                                                                                                                                                                                                                                                                                                                                                                                                                                                                                                                                                                                                                                                                                                                                                                                                                                                                                                                                                                                                                                                                                                                                                                                                                                                                                                                                                                                                                                                                                                                                                                                                                                                                                                                                                                                                                                                                                                                                                                                                                                                                                                                                                                                                                                                                                                                                                                                                                                                                                                                                                                                                                                                                                                                                                                                                                                                                                                                                                                                                                                                                                                                                                                                                                                                                                                                                                                                                                                                                                                                                                                                                                                                                                                                                                                                                                                                                                                                                                                                                                                                                                                                                                                                                                                                                                                                                                                                                                                                                                                                                                                                                                                                                                                                                                                                                                                                                                                                                                                                                                                                                                                                                                                                                                                                                                                                                                                                                                                                                                                                                                                                                                                                                                                                                                                                                                                                                                                                                                                                                                                                                                                                                                                                                                                                                                                                                                                                                                                                                                                                                                                                                                                                                                                                                                                                                                                                                                                                                                                                                                                                                                                                                                                                                                                                                                                                                                                                                                                                                                                                                                                                                                                                                                                                                                                                                                                                                                                                                                                                                                                                                                                                                                                                                                                                                                                                                                                                                                                                                                                                                                                                                                                                                                                                                                                                                                                                                                                                                                                                                                                                                                                                                                                                                                                                                                                                                                                                                                                                                                                                                                                                                                                                                                                                                                                                                                                                                                                                                                                                                                                                                                                                                                                                                                                                                                                                                                                                                                                                                                                                                                                                                                                                                                                                                                                                                                                                                                                                                                                                                                                                                                                                                                                                                                                                                                                                                                                                                                                                                                                                                                                                                                                                                                                                                                                                                                                                                                                                                                                                                                                                                                                                                                                                                                                                                                                                                                         embedding  \n",
       "0  [-7.06441700e-03 -1.37623310e-01 -1.23572864e-01  4.88335967e-01\\n  1.53097048e-01  9.82412040e-01  2.90743828e-01  4.05553728e-02\\n -3.02536525e-02  1.06060900e-01 -1.40504807e-01  3.48545700e-01\\n  1.12244368e+00  1.43074882e+00 -3.00008625e-01  7.71151111e-03\\n  9.22537029e-01 -1.03265166e+00  4.85295057e-02  3.70998889e-01\\n  6.36373281e-01  3.68395835e-01  6.11189723e-01  9.50438380e-01\\n -3.07029992e-01 -9.96902645e-01 -1.11324215e+00  6.18759871e-01\\n -3.01729411e-01  3.49185109e-01  1.73604161e-01 -3.63379121e-02\\n -3.03713441e-01  1.50726914e-01  1.81458265e-01  8.83489847e-02\\n  1.08171737e+00  9.68548417e-01  2.89613456e-01 -3.18801165e-01\\n -2.05302700e-01  6.54013336e-01  8.55778992e-01  8.99826109e-01\\n -1.21154048e-01  2.95534611e-01 -1.31155103e-01  7.59199858e-01\\n -5.54277301e-01  7.06930980e-02  1.12632394e-01 -5.44120789e-01\\n -4.62620348e-01 -5.76729238e-01  3.40656549e-01  7.84307539e-01\\n -5.73965192e-01 -1.23139754e-01 -7.03824311e-02 -1.12824237e+00\\n  4.69093204e-01  7.41697907e-01 -2.08170816e-01  2.18293086e-01\\n  4.48384732e-02 -9.21356499e-01 -3.54883790e-01  3.15587699e-01\\n -5.52443147e-01  9.29526687e-02 -8.97262022e-02 -4.70510334e-01\\n -2.88406700e-01 -1.89734682e-01  1.07214224e+00 -9.64041352e-02\\n  1.42453337e+00  2.68656909e-01 -2.18514353e-04  4.79142547e-01\\n -6.11892521e-01  6.71712577e-01 -2.85516500e-01  1.64263591e-01\\n  1.01219869e+00  7.14441478e-01 -7.87466466e-02  9.45378423e-01\\n  6.96039200e-01 -4.71066326e-01  1.78327039e-02 -6.55157149e-01\\n -2.10526958e-02  8.53314549e-02  3.14331114e-01  8.77157450e-02\\n -8.26593578e-01 -3.37863505e-01  1.22282952e-01  3.84598911e-01\\n -2.47931957e-01 -5.32921672e-01 -3.52014393e-01 -4.31030214e-01\\n  3.05005401e-01  2.54900753e-01  4.07565683e-01 -4.75600481e+00\\n -5.65688610e-01  2.33381391e-01  5.92082620e-01  6.52796865e-01\\n -8.44934285e-01 -7.87583590e-02 -3.84777278e-01  7.68050253e-01\\n -6.36703670e-02  1.68379232e-01 -1.20294046e+00 -8.27702761e-01\\n -8.81760895e-01  6.07668698e-01  2.97396004e-01  6.56935796e-02\\n  7.00781047e-01 -2.98737079e-01  4.24469441e-01  5.32451808e-01\\n -4.16051745e-01  4.23143893e-01  5.75889230e-01  2.08382368e-01\\n  1.38714522e-01 -4.03149784e-01 -3.69118065e-01 -4.19284441e-02\\n -2.43581742e-01  1.53995380e-01  2.07989782e-01  6.15169406e-01\\n -3.40370476e-01 -5.84870040e-01  8.93578827e-01 -7.23143741e-02\\n  1.59653351e-02 -4.90259230e-02 -1.71724632e-01  1.97842389e-01\\n -1.94631472e-01 -5.84324062e-01 -3.51154506e-01  5.76540112e-01\\n -4.85256284e-01 -3.63920718e-01  9.94492710e-01  1.90998703e-01\\n  8.01479101e-01  5.65824091e-01  1.49947226e-01 -2.29083970e-01\\n  3.45415205e-01  1.54116899e-02 -3.93378496e-01 -2.19455615e-01\\n -1.10947227e+00  1.56065345e-01 -3.68380733e-02  1.54297993e-01\\n -1.05882382e+00  5.96979976e-01 -8.14647436e-01 -2.57221907e-01\\n -1.15173034e-01  3.10042322e-01 -5.78906417e-01  1.68787837e-01\\n -3.73013020e-01  9.23095286e-01  6.20782137e-01  8.81126583e-01\\n -2.80092001e-01  5.08622646e-01  2.84067929e-01 -6.69528991e-02\\n  6.31267011e-01  6.30643427e-01 -6.33694232e-01 -1.07788301e+00\\n  8.38673174e-01 -1.15509391e-01 -8.11134651e-02 -1.07696772e-01\\n -5.20991862e-01  3.47175635e-02 -2.58488536e-01 -2.78037637e-01\\n  5.34872293e-01  3.24702621e-01  2.21310064e-01 -1.01526760e-01\\n  4.04519916e-01 -1.11673152e+00 -2.24641427e-01  4.46667150e-02\\n -9.72105205e-01 -6.97047889e-01  2.41091058e-01  2.39232540e-01\\n -4.32445765e-01 -4.86373127e-01 -1.02702045e+01 -1.39690805e-02\\n -1.69227839e-01 -5.05289912e-01  7.57627070e-01 -2.79062301e-01\\n  2.59103268e-01 -9.16109264e-01 -1.43313259e-01  1.76438674e-01\\n  7.35136047e-02  5.42529941e-01 -3.69138926e-01 -7.70867407e-01\\n -2.56236553e-01 -3.88984829e-01  4.25313622e-01 -1.14986849e+00\\n -1.47474453e-01 -8.55511308e-01  5.06637752e-01  5.38372278e-01\\n -2.58372128e-01 -3.50886762e-01  1.78192198e-01 -1.85983986e-01\\n  4.98952329e-01 -1.59060538e-01 -1.45916438e+00 -5.42538226e-01\\n -2.23098621e-01  2.76581675e-01  4.10551488e-01  8.27527165e-01\\n  2.91618109e-01  5.42426586e-01  9.52534303e-02  2.14763150e-01\\n -5.76265037e-01  5.90993278e-02  4.80164796e-01 -4.70475048e-01\\n -1.10644054e+00  7.83055425e-01  2.38355830e-01 -5.30996084e-01\\n  1.00141391e-01 -1.96275383e-01 -1.27000481e-01 -3.58719677e-02\\n -3.42980027e-01 -1.42765626e-01  4.47343349e-01  2.53338069e-01\\n  4.77313638e-01  3.59010547e-01 -7.60092616e-01  5.57715952e-01\\n -3.47878605e-01  5.81378102e-01  2.52491981e-02  1.92591920e-01\\n  6.30498171e-01 -6.82516217e-01  5.18232524e-01 -2.49537155e-01\\n -5.55275261e-01  5.81035078e-01  7.42110491e-01 -4.47911620e-01\\n  3.16604793e-01 -3.33492160e-01 -2.21542746e-01  9.69103217e-01\\n  4.49584007e-01 -3.63364518e-01 -7.67015934e-01 -1.85101166e-01\\n  9.67495143e-02  2.56208360e-01  7.00584650e-01  2.83075243e-01\\n  2.81381011e-01  6.17870629e-01 -7.18650520e-01  9.22847211e-01\\n -4.43817466e-01  2.98731536e-01  2.19913155e-01  7.26059496e-01\\n  8.50681067e-02  9.60209966e-02 -1.69770181e-01 -4.41108614e-01\\n -2.88779795e-01 -2.96863347e-01  4.14005846e-01  1.26627967e-01\\n -5.89632094e-01  7.48812199e-01 -2.59308219e-01 -5.44177890e-01\\n -6.64638221e-01  4.43501055e-01 -7.39237964e-01 -1.79103637e+00\\n -1.07903399e-01 -5.37472963e-01 -1.98904067e-01 -3.61685455e-01\\n  1.64680302e-01  1.85459703e-01  5.39745927e-01  1.12367821e+00\\n  2.42409110e-03 -4.26151514e-01 -3.30643594e-01 -4.31499004e-01\\n  3.50344181e-02  3.28613102e-01 -5.26083708e-01  5.85637510e-01\\n  8.15815330e-01 -1.05181921e+00  4.66848835e-02 -6.47801161e-01\\n  5.22461414e-01  6.03139341e-01 -3.64852339e-01 -9.38834190e-01\\n -1.42699271e-01  2.02050954e-02  5.52489161e-01  8.61606479e-01\\n  1.55888617e-01 -7.36674607e-01 -4.04914916e-01 -3.15739840e-01\\n -2.50844866e-01 -1.71074957e-01 -2.71989703e-02  5.54685555e-02\\n -6.87555194e-01  1.03764229e-01 -6.79377317e-02 -3.43967676e-01\\n  5.60873598e-02 -2.91388094e-01  5.49009681e-01 -1.66362405e-01\\n -8.33337665e-01  6.89981461e-01 -6.68321013e-01 -1.74524933e-01\\n  3.08721602e-01 -4.91629124e-01  1.85226694e-01 -4.73389566e-01\\n  3.82637620e-01  1.70991421e-01  1.07552493e+00 -1.76184237e-01\\n  6.98853850e-01 -1.73334980e+00 -4.67542619e-01 -3.24402213e-01\\n  2.90382683e-01  2.35585436e-01 -1.37219667e-01 -3.51506799e-01\\n  2.21488819e-01  3.45466822e-01 -1.01682878e+00  4.62577224e-01\\n -5.03059864e-01 -5.09437203e-01 -1.82995066e-01  8.23239312e-02\\n  7.35378206e-01 -1.12364626e+00 -1.12186015e-01  2.55024791e-01\\n  1.73649415e-01  1.28253412e+00  7.39020407e-02 -1.81314632e-01\\n -3.66785228e-01 -5.06729603e-01 -2.18117803e-01 -4.91913974e-01\\n  8.05394828e-01 -8.23908865e-01  2.36691952e-01  8.87713850e-01\\n -3.72856617e-01 -1.04053259e+00  3.40286493e-02  2.25895084e-02\\n  3.72773021e-01 -1.28189683e-01  2.22201288e-01 -3.56737375e-01\\n -1.18595570e-01 -1.06173229e+00 -7.93578804e-01 -4.96259987e-01\\n  2.49041915e+00 -1.98383361e-01  3.31569910e-01 -5.46665907e-01\\n -1.82359368e-01 -2.38595009e-01 -3.03737164e-01  4.24576551e-03\\n -8.11108053e-01 -3.42195064e-01  9.69291627e-01  3.75003338e-01\\n  5.06883323e-01 -3.59079361e-01 -4.12259519e-01 -2.21376941e-01\\n -3.16594064e-01 -1.30538553e-01  6.43803418e-01  1.89446792e-01\\n -2.02956274e-01  3.07092220e-01 -2.42474750e-01 -6.95366263e-01\\n -6.88858986e-01  1.47660643e-01  1.06206909e-03  6.46665931e-01\\n -7.36824796e-02  5.32730445e-02  1.66383013e-01  9.74476397e-01\\n -2.48111397e-01 -6.94650337e-02 -4.19722855e-01  7.42155790e-01\\n  3.73534143e-01 -5.32737494e-01  5.82765996e-01 -5.86924911e-01\\n -7.70439446e-01  5.43342471e-01  8.16660374e-03  5.19106030e-01\\n  4.85092580e-01  7.01078057e-01  3.71505767e-02  3.05423111e-01\\n -5.07983983e-01 -3.12823802e-02 -1.03308451e+00 -1.44956902e-01\\n  1.98709905e-01  5.99579990e-01 -6.98738545e-03 -7.44782388e-01\\n -5.62213361e-01  5.04732490e-01 -5.54213151e-02 -6.17449939e-01\\n -8.27589095e-01 -3.57188344e-01 -3.43608797e-01  2.89362103e-01\\n  3.88939112e-01 -3.00417617e-02 -1.62936836e-01  3.52414578e-01\\n  4.05239910e-01 -6.03880525e-01  8.39778662e-01 -9.79209468e-02\\n -6.11821055e-01  6.44685268e-01 -2.34492511e-01  9.62733328e-01\\n  5.94826758e-01  8.87205839e-01  3.03566277e-01  2.31580466e-01\\n -2.99219787e-02  2.94700474e-01 -1.48358554e-01 -6.07479811e-01\\n  1.76892594e-01 -9.47662354e-01  2.53753662e-01 -6.55930758e-01\\n  2.46461049e-01  1.13961063e-01 -2.17416659e-01 -1.05200005e+00\\n  8.31127465e-01  3.93541634e-01  7.27623641e-01  4.31546569e-01\\n  6.68154061e-02  4.35717613e-01 -6.65011287e-01 -5.00337958e-01\\n  6.10662043e-01  8.55242312e-01  2.54018158e-01  8.61564100e-01\\n  4.58852708e-01  6.88212872e-01  1.63288385e-01  5.48928857e-01\\n  5.85607708e-01 -1.26365975e-01  1.22784063e-01  4.25953805e-01\\n -6.70255959e-01 -1.99390545e-01 -7.32841790e-01 -1.40330672e+00\\n -9.88639712e-01 -7.18322814e-01  4.42287959e-02  2.50893444e-01\\n  5.27462482e-01  6.91634178e-01 -7.10258663e-01 -2.95108199e-01\\n -2.14151636e-01 -1.19281627e-01  8.81384462e-02  6.29995883e-01\\n  9.02745575e-02  4.17597473e-01  3.12642157e-01 -2.07794249e-01\\n -3.42252046e-01  3.54456306e-01  6.01811707e-01 -2.64279515e-01\\n  3.48549396e-01  4.35792238e-01 -4.89288867e-01 -3.84890556e-01\\n -1.12918749e-01 -5.32955229e-01 -9.57848740e+00 -2.31136590e-01\\n -1.31266683e-01  4.03388411e-01 -4.84915733e-01 -4.74622011e-01\\n -8.20761263e-01  2.46078938e-01  7.27434456e-02 -2.66492292e-02\\n  2.58649141e-01  1.22819752e-01  1.01522374e+00 -6.56924486e-01\\n -3.49622518e-02  5.06467283e-01 -9.06206667e-01  3.63080442e-01\\n  5.59529841e-01 -2.22160980e-01 -3.83024514e-01 -4.95936751e-01\\n  5.21792471e-01 -6.06408596e-01  1.12120664e+00 -8.40112492e-02\\n  1.58736482e-01 -1.32671773e+00  6.33292198e-01 -6.12619162e-01\\n  6.79917872e-01  1.38714707e+00  1.22608311e-01 -1.21003240e-01\\n -4.57017690e-01  2.49719754e-01 -2.34081760e-01  4.33573633e-01\\n  1.15337849e+00 -2.88171560e-01 -4.49007481e-01 -3.85666013e-01\\n  6.13901675e-01  3.53907287e-01 -1.64351314e-01  2.68388629e-01\\n -1.14939916e+00 -1.08702429e-01  6.33252323e-01  1.19665217e+00\\n  1.46781012e-01 -2.86362171e-01 -4.93495911e-01  1.59520701e-01\\n -5.90518117e-01  1.24197975e-01 -6.04946613e-01  5.41595221e-01\\n  3.72789621e-01 -2.43028998e-01 -5.59428871e-01 -2.03991175e-01\\n -2.97254771e-01 -9.30741012e-01 -2.08533019e-01  2.05496289e-02\\n -1.20292866e+00  1.53292231e-02  1.44618362e-01 -3.69614363e-02\\n  8.10937583e-01 -3.71285021e-01  8.86541247e-01 -9.27873790e-01\\n  2.91156918e-02  8.33077431e-02  1.26698732e-01 -1.00243449e+00\\n  1.33187687e+00 -3.92356962e-01 -9.41279173e-01  2.14830548e-01\\n  1.04519486e+00 -5.13008595e-01  4.18510646e-01  3.26824039e-01\\n -3.44772041e-01  6.60098970e-01 -7.64776111e-01 -3.55291665e-01\\n  3.98074448e-01 -4.32512194e-01 -5.19362390e-01  2.62467191e-02\\n -6.23569071e-01  3.82254645e-03 -3.95704865e-01 -3.89474183e-02\\n -7.77958930e-01  7.79487267e-02  4.00150955e-01 -1.80866271e-01\\n  4.68587160e-01 -5.50509512e-01  5.29266059e-01 -7.37255663e-02\\n -1.06252325e+00  1.02208805e+00  2.94980645e-01 -3.93075496e-02\\n  1.25257000e-01  3.96296889e-01 -1.68181345e-01 -7.88611025e-02\\n -6.50857449e-01  2.04697654e-01  4.29539174e-01  1.00224748e-01\\n  2.21170902e-01  1.32182717e-01 -4.92504954e-01 -5.21275461e-01\\n  1.35370362e+00 -1.99196622e-01  3.79495561e-01 -8.81663859e-01\\n -6.16978645e-01  1.56989932e-01  4.00892466e-01  6.10559046e-01\\n  1.28289247e+00 -5.13588786e-02 -9.35781002e-03  9.20783401e-01\\n -2.39750206e-01  1.14454949e+00 -2.94313073e-01 -8.52914304e-02\\n -7.26110160e-01  1.52311027e-01 -2.81116962e-01  1.99315369e-01\\n -6.83176994e-01  5.54593146e-01  1.08995557e+00  8.78823996e-01\\n -1.76901400e-01  9.84377027e-01 -7.60428846e-01  3.14057827e-01\\n  7.43713796e-01 -4.67418849e-01 -5.66647649e-01  1.36114359e-01\\n  2.24637985e-02  3.85378271e-01 -9.86945689e-01 -5.87749004e-01\\n -9.07416791e-02  5.58828950e-01  2.17944592e-01  1.65033862e-02\\n  2.99523175e-01 -9.00071740e-01 -1.02293921e+00 -3.31468433e-01\\n -2.44598106e-01 -3.42653394e-02 -6.61555409e-01  8.97163808e-01\\n  4.36352253e-01 -3.27239186e-02  3.07636380e-01 -3.05107981e-01\\n -8.43870699e-01 -8.54228020e-01 -2.46391967e-01  1.45089984e-01\\n -6.76053822e-01  3.74343008e-01 -2.34647140e-01 -5.04583955e-01\\n  2.31323689e-02  1.83788285e-01 -9.09195423e-01  2.82152295e-02\\n  3.22957218e-01 -1.72914803e-01  2.14540213e-02 -4.61897016e-01\\n  3.41092855e-01 -1.92960441e-01 -6.05141819e-01  2.23060176e-02\\n  7.13023618e-02  4.79383528e-01 -3.66704017e-01 -5.90221167e-01\\n  4.69105124e-01 -2.56894290e-01 -3.75314951e-01 -1.19793010e+00\\n  3.73184644e-02  1.10864651e+00  7.62862638e-02 -2.51293957e-01\\n -6.13570929e-01 -3.64826441e-01  7.92687953e-01  3.33155066e-01]  "
      ]
     },
     "execution_count": 63,
     "metadata": {},
     "output_type": "execute_result"
    }
   ],
   "source": [
    "df_train.head(1)"
   ]
  },
  {
   "cell_type": "code",
   "execution_count": 10,
   "id": "b4bc9a9e",
   "metadata": {},
   "outputs": [],
   "source": [
    "df_train = pd.read_csv(\"data_with_embeddings.tsv\", index_col=False, sep = \"\\t\")"
   ]
  },
  {
   "cell_type": "code",
   "execution_count": 11,
   "id": "5fa6f928",
   "metadata": {},
   "outputs": [],
   "source": [
    "df_train['codigos'] = df_train['codigos'].apply(lambda s: eval(s))"
   ]
  },
  {
   "cell_type": "code",
   "execution_count": 12,
   "id": "720cedc9",
   "metadata": {},
   "outputs": [
    {
     "name": "stdout",
     "output_type": "stream",
     "text": [
      "10\n"
     ]
    }
   ],
   "source": [
    "# para entrenar un clasificador multi-etiqueta generamos una matriz binaria de las etiquetas\n",
    "from sklearn.preprocessing import MultiLabelBinarizer\n",
    "\n",
    "mlb = MultiLabelBinarizer() \n",
    "y_train = mlb.fit_transform(df_train['codigos'])\n",
    "\n",
    "#Guardamos las clases utilizadas en el conjunto de train\n",
    "clases = mlb.classes_\n",
    "num_classes = clases.shape\n",
    "print(num_classes[0])"
   ]
  },
  {
   "cell_type": "code",
   "execution_count": 13,
   "id": "077512c8",
   "metadata": {},
   "outputs": [],
   "source": [
    "X = df_train['embedding']\n",
    "y = y_train"
   ]
  },
  {
   "cell_type": "code",
   "execution_count": 14,
   "id": "cd2a2111-b1cc-44a9-aaf6-4b215fcb1f1d",
   "metadata": {},
   "outputs": [],
   "source": [
    "from sklearn.model_selection import train_test_split\n",
    "\n",
    "# Split the dataset into training, validation, and test sets\n",
    "X_train_val, X_test, y_train_val, y_test = train_test_split(X, y, test_size=0.2, random_state=42)\n",
    "X_train, X_val, y_train, y_val = train_test_split(X_train_val, y_train_val, test_size=0.1, random_state=42)"
   ]
  },
  {
   "cell_type": "code",
   "execution_count": 15,
   "id": "3c1123ae",
   "metadata": {},
   "outputs": [],
   "source": [
    "def insert_space_before_negative(string):\n",
    "    return re.sub(r'(\\s-)', r' \\1', string)\n",
    "\n",
    "X_train = X_train.apply(lambda x: insert_space_before_negative(x))\n",
    "X_test = X_test.apply(lambda x: insert_space_before_negative(x))\n",
    "X_val = X_val.apply(lambda x: insert_space_before_negative(x))"
   ]
  },
  {
   "cell_type": "code",
   "execution_count": 16,
   "id": "2cb2db0d",
   "metadata": {},
   "outputs": [],
   "source": [
    "X_train = X_train.apply(lambda s: s.replace(\"\\n\", \"\"))\n",
    "X_test = X_test.apply(lambda s: s.replace(\"\\n\", \"\"))\n",
    "X_val = X_val.apply(lambda s: s.replace(\"\\n\", \"\"))"
   ]
  },
  {
   "cell_type": "code",
   "execution_count": 17,
   "id": "86928844",
   "metadata": {},
   "outputs": [],
   "source": [
    "X_train = X_train.apply(lambda s: s.replace(\"  \", \", \"))\n",
    "X_test = X_test.apply(lambda s: s.replace(\"  \", \", \"))\n",
    "X_val = X_val.apply(lambda s: s.replace(\"  \", \", \"))"
   ]
  },
  {
   "cell_type": "code",
   "execution_count": 18,
   "id": "0b3ffacc",
   "metadata": {},
   "outputs": [],
   "source": [
    "X_train = X_train.apply(lambda s: eval(s))\n",
    "X_test = X_test.apply(lambda s: eval(s))\n",
    "X_val = X_val.apply(lambda s: eval(s))"
   ]
  },
  {
   "cell_type": "code",
   "execution_count": 19,
   "id": "f331b707",
   "metadata": {},
   "outputs": [],
   "source": [
    "X_train_list = X_train.to_list()\n",
    "X_val_list = X_val.to_list()\n",
    "X_test_list = X_test.to_list()"
   ]
  },
  {
   "cell_type": "code",
   "execution_count": 156,
   "id": "ce002e51",
   "metadata": {},
   "outputs": [
    {
     "data": {
      "image/png": "[encoded data removed]",
      "text/plain": [
       "<Figure size 640x480 with 1 Axes>"
      ]
     },
     "metadata": {},
     "output_type": "display_data"
    }
   ],
   "source": [
    "from sklearn.manifold import TSNE\n",
    "import matplotlib.pyplot as plt\n",
    "from mpl_toolkits.mplot3d import Axes3D\n",
    "\n",
    "embeddings_array = np.array(X_train_list)\n",
    "\n",
    "# Initialize t-SNE with 3 components for 3D visualization\n",
    "tsne = TSNE(n_components=2, random_state=42)\n",
    "\n",
    "# Fit t-SNE to the data and transform the data to 3D\n",
    "X_tsne = tsne.fit_transform(embeddings_array)\n",
    "\n",
    "# Plot the embeddings in a 3D space\n",
    "plt.scatter(X_tsne[:, 0], X_tsne[:, 1])\n",
    "plt.xlabel('Component 1')\n",
    "plt.ylabel('Component 2')\n",
    "plt.title('t-SNE Visualization of Embeddings')\n",
    "plt.show()"
   ]
  },
  {
   "cell_type": "code",
   "execution_count": 157,
   "id": "004ca849",
   "metadata": {},
   "outputs": [
    {
     "name": "stderr",
     "output_type": "stream",
     "text": [
      "c:\\Users\\pablo\\AppData\\Local\\Programs\\Python\\Python310\\lib\\site-packages\\sklearn\\metrics\\_classification.py:1471: UndefinedMetricWarning: Precision and F-score are ill-defined and being set to 0.0 in labels with no predicted samples. Use `zero_division` parameter to control this behavior.\n",
      "  _warn_prf(average, modifier, msg_start, len(result))\n",
      "c:\\Users\\pablo\\AppData\\Local\\Programs\\Python\\Python310\\lib\\site-packages\\sklearn\\metrics\\_classification.py:1471: UndefinedMetricWarning: Precision and F-score are ill-defined and being set to 0.0 in samples with no predicted labels. Use `zero_division` parameter to control this behavior.\n",
      "  _warn_prf(average, modifier, msg_start, len(result))\n"
     ]
    },
    {
     "name": "stdout",
     "output_type": "stream",
     "text": [
      "              precision    recall  f1-score   support\n",
      "\n",
      "           0       0.00      0.00      0.00         7\n",
      "           1       0.00      0.00      0.00         8\n",
      "           2       0.00      0.00      0.00         3\n",
      "           3       0.00      0.00      0.00         6\n",
      "           4       0.00      0.00      0.00         7\n",
      "           5       1.00      0.07      0.13        14\n",
      "           6       0.00      0.00      0.00        14\n",
      "           7       0.00      0.00      0.00        13\n",
      "           8       0.00      0.00      0.00         4\n",
      "           9       0.00      0.00      0.00        13\n",
      "\n",
      "   micro avg       0.33      0.01      0.02        89\n",
      "   macro avg       0.10      0.01      0.01        89\n",
      "weighted avg       0.16      0.01      0.02        89\n",
      " samples avg       0.02      0.01      0.01        89\n",
      "\n",
      "Test set accuracy: 0.017699115044247787\n"
     ]
    }
   ],
   "source": [
    "from sklearn.ensemble import RandomForestClassifier\n",
    "from sklearn.multioutput import MultiOutputClassifier\n",
    "from sklearn.metrics import classification_report\n",
    "# Use the best parameters to train the Random Forest classifier\n",
    "rf_classifier = RandomForestClassifier(n_estimators=5000)\n",
    "\n",
    "multi_output_rf = MultiOutputClassifier(rf_classifier, n_jobs=-1)\n",
    "\n",
    "# Train the classifier\n",
    "multi_output_rf.fit(X_train_list, y_train)\n",
    "\n",
    "# Predict on the validation set\n",
    "y_pred = multi_output_rf.predict(X_val_list)\n",
    "\n",
    "# Print classification report\n",
    "print(classification_report(y_val, y_pred))\n",
    "\n",
    "# Evaluate on the test set\n",
    "test_score = multi_output_rf.score(X_test_list, y_test)\n",
    "print(\"Test set accuracy:\", test_score)"
   ]
  },
  {
   "cell_type": "markdown",
   "id": "09324f7e-ee73-41e9-b94f-a0a6a5e38b02",
   "metadata": {},
   "source": [
    "## Modelos"
   ]
  },
  {
   "cell_type": "code",
   "execution_count": 28,
   "id": "44d2e166",
   "metadata": {},
   "outputs": [
    {
     "name": "stdout",
     "output_type": "stream",
     "text": [
      "Epoch 1/10, Loss: 0.7115357518196106\n",
      "Epoch 2/10, Loss: 0.5939211249351501\n",
      "Epoch 3/10, Loss: 0.5313473343849182\n",
      "Epoch 4/10, Loss: 0.5046191215515137\n",
      "Epoch 5/10, Loss: 0.499576210975647\n",
      "Epoch 6/10, Loss: 0.5038400888442993\n",
      "Epoch 7/10, Loss: 0.5068204998970032\n",
      "Epoch 8/10, Loss: 0.5051059722900391\n",
      "Epoch 9/10, Loss: 0.5002796649932861\n",
      "Epoch 10/10, Loss: 0.4944015145301819\n",
      "Validation Loss: 0.468278169631958\n",
      "Test Loss: 0.5008335113525391\n"
     ]
    }
   ],
   "source": [
    "import torch\n",
    "import torch.nn as nn\n",
    "import torch.optim as optim\n",
    "\n",
    "class MultilabelClassifier(nn.Module):\n",
    "    def __init__(self, input_dim, hidden_dim, output_dim):\n",
    "        super(MultilabelClassifier, self).__init__()\n",
    "        self.fc1 = nn.Linear(input_dim, hidden_dim)\n",
    "        self.fc2 = nn.Linear(hidden_dim, output_dim)\n",
    "        \n",
    "    def forward(self, x):\n",
    "        x = torch.relu(self.fc1(x))\n",
    "        x = torch.sigmoid(self.fc2(x))  # Sigmoid activation for multilabel classification\n",
    "        return x\n",
    "\n",
    "# Define dimensions\n",
    "input_dim = 768  # Dimensionality of original vectors\n",
    "hidden_dim = 256  # Number of hidden units\n",
    "output_dim = len(y_train[0])  # Number of output units (number of labels)\n",
    "\n",
    "# Initialize the model\n",
    "model = MultilabelClassifier(input_dim, hidden_dim, output_dim)\n",
    "\n",
    "# Define loss function and optimizer\n",
    "criterion = nn.BCELoss()  # Binary Cross Entropy Loss for multilabel classification\n",
    "optimizer = optim.Adam(model.parameters(), lr=0.001)\n",
    "\n",
    "# Convert data to PyTorch tensors\n",
    "X_train_tensor = torch.tensor(X_train_list, dtype=torch.float32)\n",
    "y_train_tensor = torch.tensor(y_train, dtype=torch.float32)\n",
    "X_val_tensor = torch.tensor(X_val_list, dtype=torch.float32)\n",
    "y_val_tensor = torch.tensor(y_val, dtype=torch.float32)\n",
    "X_test_tensor = torch.tensor(X_test_list, dtype=torch.float32)\n",
    "y_test_tensor = torch.tensor(y_test, dtype=torch.float32)\n",
    "\n",
    "# Train the model\n",
    "epochs = 10\n",
    "for epoch in range(epochs):\n",
    "    model.train()\n",
    "    optimizer.zero_grad()\n",
    "    outputs = model(X_train_tensor)\n",
    "    loss = criterion(outputs, y_train_tensor)\n",
    "    loss.backward()\n",
    "    optimizer.step()\n",
    "    print(f\"Epoch {epoch+1}/{epochs}, Loss: {loss.item()}\")\n",
    "\n",
    "# Evaluate the model on the validation set\n",
    "model.eval()\n",
    "with torch.no_grad():\n",
    "    val_outputs = model(X_val_tensor)\n",
    "    val_loss = criterion(val_outputs, y_val_tensor)\n",
    "    print(f\"Validation Loss: {val_loss.item()}\")\n",
    "\n",
    "# Evaluate the model on the test set\n",
    "test_outputs = model(X_test_tensor)\n",
    "test_loss = criterion(test_outputs, y_test_tensor)\n",
    "print(f\"Test Loss: {test_loss.item()}\")\n"
   ]
  },
  {
   "cell_type": "code",
   "execution_count": 109,
   "id": "df71db93",
   "metadata": {},
   "outputs": [
    {
     "name": "stdout",
     "output_type": "stream",
     "text": [
      "Overall Validation Accuracy: 0.8827160493827161\n"
     ]
    }
   ],
   "source": [
    "# Define a threshold for predicted probabilities\n",
    "threshold = 0.5\n",
    "\n",
    "# Convert probabilities to binary predictions based on the threshold\n",
    "def threshold_predictions(predictions, threshold):\n",
    "    return (predictions >= threshold).astype(int)\n",
    "\n",
    "# Convert probabilities to binary predictions for validation set\n",
    "val_predictions = threshold_predictions(val_outputs.numpy(), threshold)\n",
    "\n",
    "# Calculate accuracy for each label\n",
    "accuracies = []\n",
    "for i in range(output_dim):\n",
    "    correct = (val_predictions[:, i] == y_val[:, i]).sum().item()\n",
    "    total = len(y_val[:, i])\n",
    "    accuracy = correct / total\n",
    "    accuracies.append(accuracy)\n",
    "\n",
    "# Calculate overall accuracy (average of label accuracies)\n",
    "overall_accuracy = sum(accuracies) / len(accuracies)\n",
    "print(\"Overall Validation Accuracy:\", overall_accuracy)\n"
   ]
  },
  {
   "cell_type": "code",
   "execution_count": 26,
   "id": "b5752bdd",
   "metadata": {},
   "outputs": [],
   "source": [
    "labels = top_categorias\n",
    "id2label = {idx:label for idx, label in enumerate(labels)}\n",
    "label2id = {label:idx for idx, label in enumerate(labels)}"
   ]
  },
  {
   "cell_type": "code",
   "execution_count": 27,
   "id": "958b6fbe",
   "metadata": {},
   "outputs": [
    {
     "name": "stderr",
     "output_type": "stream",
     "text": [
      "Some weights of BertForSequenceClassification were not initialized from the model checkpoint at dccuchile/bert-base-spanish-wwm-cased and are newly initialized: ['bert.pooler.dense.bias', 'bert.pooler.dense.weight', 'classifier.bias', 'classifier.weight']\n",
      "You should probably TRAIN this model on a down-stream task to be able to use it for predictions and inference.\n"
     ]
    },
    {
     "ename": "RuntimeError",
     "evalue": "The expanded size of the tensor (768) must match the existing size (512) at non-singleton dimension 1.  Target sizes: [45, 768].  Tensor sizes: [1, 512]",
     "output_type": "error",
     "traceback": [
      "\u001b[1;31m---------------------------------------------------------------------------\u001b[0m",
      "\u001b[1;31mRuntimeError\u001b[0m                              Traceback (most recent call last)",
      "Cell \u001b[1;32mIn[27], line 25\u001b[0m\n\u001b[0;32m     23\u001b[0m model\u001b[38;5;241m.\u001b[39meval()\n\u001b[0;32m     24\u001b[0m \u001b[38;5;28;01mwith\u001b[39;00m torch\u001b[38;5;241m.\u001b[39mno_grad():\n\u001b[1;32m---> 25\u001b[0m     val_outputs \u001b[38;5;241m=\u001b[39m \u001b[43mmodel\u001b[49m\u001b[43m(\u001b[49m\u001b[43mX_val_tensor\u001b[49m\u001b[43m)\u001b[49m\n\u001b[0;32m     26\u001b[0m     val_loss \u001b[38;5;241m=\u001b[39m criterion(val_outputs, y_val_tensor)\n\u001b[0;32m     27\u001b[0m     \u001b[38;5;28mprint\u001b[39m(\u001b[38;5;124mf\u001b[39m\u001b[38;5;124m\"\u001b[39m\u001b[38;5;124mValidation Loss: \u001b[39m\u001b[38;5;132;01m{\u001b[39;00mval_loss\u001b[38;5;241m.\u001b[39mitem()\u001b[38;5;132;01m}\u001b[39;00m\u001b[38;5;124m\"\u001b[39m)\n",
      "File \u001b[1;32mc:\\Users\\pablo\\AppData\\Local\\Programs\\Python\\Python310\\lib\\site-packages\\torch\\nn\\modules\\module.py:1532\u001b[0m, in \u001b[0;36mModule._wrapped_call_impl\u001b[1;34m(self, *args, **kwargs)\u001b[0m\n\u001b[0;32m   1530\u001b[0m     \u001b[38;5;28;01mreturn\u001b[39;00m \u001b[38;5;28mself\u001b[39m\u001b[38;5;241m.\u001b[39m_compiled_call_impl(\u001b[38;5;241m*\u001b[39margs, \u001b[38;5;241m*\u001b[39m\u001b[38;5;241m*\u001b[39mkwargs)  \u001b[38;5;66;03m# type: ignore[misc]\u001b[39;00m\n\u001b[0;32m   1531\u001b[0m \u001b[38;5;28;01melse\u001b[39;00m:\n\u001b[1;32m-> 1532\u001b[0m     \u001b[38;5;28;01mreturn\u001b[39;00m \u001b[38;5;28mself\u001b[39m\u001b[38;5;241m.\u001b[39m_call_impl(\u001b[38;5;241m*\u001b[39margs, \u001b[38;5;241m*\u001b[39m\u001b[38;5;241m*\u001b[39mkwargs)\n",
      "File \u001b[1;32mc:\\Users\\pablo\\AppData\\Local\\Programs\\Python\\Python310\\lib\\site-packages\\torch\\nn\\modules\\module.py:1541\u001b[0m, in \u001b[0;36mModule._call_impl\u001b[1;34m(self, *args, **kwargs)\u001b[0m\n\u001b[0;32m   1536\u001b[0m \u001b[38;5;66;03m# If we don't have any hooks, we want to skip the rest of the logic in\u001b[39;00m\n\u001b[0;32m   1537\u001b[0m \u001b[38;5;66;03m# this function, and just call forward.\u001b[39;00m\n\u001b[0;32m   1538\u001b[0m \u001b[38;5;28;01mif\u001b[39;00m \u001b[38;5;129;01mnot\u001b[39;00m (\u001b[38;5;28mself\u001b[39m\u001b[38;5;241m.\u001b[39m_backward_hooks \u001b[38;5;129;01mor\u001b[39;00m \u001b[38;5;28mself\u001b[39m\u001b[38;5;241m.\u001b[39m_backward_pre_hooks \u001b[38;5;129;01mor\u001b[39;00m \u001b[38;5;28mself\u001b[39m\u001b[38;5;241m.\u001b[39m_forward_hooks \u001b[38;5;129;01mor\u001b[39;00m \u001b[38;5;28mself\u001b[39m\u001b[38;5;241m.\u001b[39m_forward_pre_hooks\n\u001b[0;32m   1539\u001b[0m         \u001b[38;5;129;01mor\u001b[39;00m _global_backward_pre_hooks \u001b[38;5;129;01mor\u001b[39;00m _global_backward_hooks\n\u001b[0;32m   1540\u001b[0m         \u001b[38;5;129;01mor\u001b[39;00m _global_forward_hooks \u001b[38;5;129;01mor\u001b[39;00m _global_forward_pre_hooks):\n\u001b[1;32m-> 1541\u001b[0m     \u001b[38;5;28;01mreturn\u001b[39;00m forward_call(\u001b[38;5;241m*\u001b[39margs, \u001b[38;5;241m*\u001b[39m\u001b[38;5;241m*\u001b[39mkwargs)\n\u001b[0;32m   1543\u001b[0m \u001b[38;5;28;01mtry\u001b[39;00m:\n\u001b[0;32m   1544\u001b[0m     result \u001b[38;5;241m=\u001b[39m \u001b[38;5;28;01mNone\u001b[39;00m\n",
      "File \u001b[1;32mc:\\Users\\pablo\\AppData\\Local\\Programs\\Python\\Python310\\lib\\site-packages\\torch\\nn\\modules\\container.py:217\u001b[0m, in \u001b[0;36mSequential.forward\u001b[1;34m(self, input)\u001b[0m\n\u001b[0;32m    215\u001b[0m \u001b[38;5;28;01mdef\u001b[39;00m \u001b[38;5;21mforward\u001b[39m(\u001b[38;5;28mself\u001b[39m, \u001b[38;5;28minput\u001b[39m):\n\u001b[0;32m    216\u001b[0m     \u001b[38;5;28;01mfor\u001b[39;00m module \u001b[38;5;129;01min\u001b[39;00m \u001b[38;5;28mself\u001b[39m:\n\u001b[1;32m--> 217\u001b[0m         \u001b[38;5;28minput\u001b[39m \u001b[38;5;241m=\u001b[39m \u001b[43mmodule\u001b[49m\u001b[43m(\u001b[49m\u001b[38;5;28;43minput\u001b[39;49m\u001b[43m)\u001b[49m\n\u001b[0;32m    218\u001b[0m     \u001b[38;5;28;01mreturn\u001b[39;00m \u001b[38;5;28minput\u001b[39m\n",
      "File \u001b[1;32mc:\\Users\\pablo\\AppData\\Local\\Programs\\Python\\Python310\\lib\\site-packages\\torch\\nn\\modules\\module.py:1532\u001b[0m, in \u001b[0;36mModule._wrapped_call_impl\u001b[1;34m(self, *args, **kwargs)\u001b[0m\n\u001b[0;32m   1530\u001b[0m     \u001b[38;5;28;01mreturn\u001b[39;00m \u001b[38;5;28mself\u001b[39m\u001b[38;5;241m.\u001b[39m_compiled_call_impl(\u001b[38;5;241m*\u001b[39margs, \u001b[38;5;241m*\u001b[39m\u001b[38;5;241m*\u001b[39mkwargs)  \u001b[38;5;66;03m# type: ignore[misc]\u001b[39;00m\n\u001b[0;32m   1531\u001b[0m \u001b[38;5;28;01melse\u001b[39;00m:\n\u001b[1;32m-> 1532\u001b[0m     \u001b[38;5;28;01mreturn\u001b[39;00m \u001b[38;5;28mself\u001b[39m\u001b[38;5;241m.\u001b[39m_call_impl(\u001b[38;5;241m*\u001b[39margs, \u001b[38;5;241m*\u001b[39m\u001b[38;5;241m*\u001b[39mkwargs)\n",
      "File \u001b[1;32mc:\\Users\\pablo\\AppData\\Local\\Programs\\Python\\Python310\\lib\\site-packages\\torch\\nn\\modules\\module.py:1541\u001b[0m, in \u001b[0;36mModule._call_impl\u001b[1;34m(self, *args, **kwargs)\u001b[0m\n\u001b[0;32m   1536\u001b[0m \u001b[38;5;66;03m# If we don't have any hooks, we want to skip the rest of the logic in\u001b[39;00m\n\u001b[0;32m   1537\u001b[0m \u001b[38;5;66;03m# this function, and just call forward.\u001b[39;00m\n\u001b[0;32m   1538\u001b[0m \u001b[38;5;28;01mif\u001b[39;00m \u001b[38;5;129;01mnot\u001b[39;00m (\u001b[38;5;28mself\u001b[39m\u001b[38;5;241m.\u001b[39m_backward_hooks \u001b[38;5;129;01mor\u001b[39;00m \u001b[38;5;28mself\u001b[39m\u001b[38;5;241m.\u001b[39m_backward_pre_hooks \u001b[38;5;129;01mor\u001b[39;00m \u001b[38;5;28mself\u001b[39m\u001b[38;5;241m.\u001b[39m_forward_hooks \u001b[38;5;129;01mor\u001b[39;00m \u001b[38;5;28mself\u001b[39m\u001b[38;5;241m.\u001b[39m_forward_pre_hooks\n\u001b[0;32m   1539\u001b[0m         \u001b[38;5;129;01mor\u001b[39;00m _global_backward_pre_hooks \u001b[38;5;129;01mor\u001b[39;00m _global_backward_hooks\n\u001b[0;32m   1540\u001b[0m         \u001b[38;5;129;01mor\u001b[39;00m _global_forward_hooks \u001b[38;5;129;01mor\u001b[39;00m _global_forward_pre_hooks):\n\u001b[1;32m-> 1541\u001b[0m     \u001b[38;5;28;01mreturn\u001b[39;00m forward_call(\u001b[38;5;241m*\u001b[39margs, \u001b[38;5;241m*\u001b[39m\u001b[38;5;241m*\u001b[39mkwargs)\n\u001b[0;32m   1543\u001b[0m \u001b[38;5;28;01mtry\u001b[39;00m:\n\u001b[0;32m   1544\u001b[0m     result \u001b[38;5;241m=\u001b[39m \u001b[38;5;28;01mNone\u001b[39;00m\n",
      "File \u001b[1;32mc:\\Users\\pablo\\AppData\\Local\\Programs\\Python\\Python310\\lib\\site-packages\\transformers\\models\\bert\\modeling_bert.py:1539\u001b[0m, in \u001b[0;36mBertForSequenceClassification.forward\u001b[1;34m(self, input_ids, attention_mask, token_type_ids, position_ids, head_mask, inputs_embeds, labels, output_attentions, output_hidden_states, return_dict)\u001b[0m\n\u001b[0;32m   1531\u001b[0m \u001b[38;5;250m\u001b[39m\u001b[38;5;124mr\u001b[39m\u001b[38;5;124;03m\"\"\"\u001b[39;00m\n\u001b[0;32m   1532\u001b[0m \u001b[38;5;124;03mlabels (`torch.LongTensor` of shape `(batch_size,)`, *optional*):\u001b[39;00m\n\u001b[0;32m   1533\u001b[0m \u001b[38;5;124;03m    Labels for computing the sequence classification/regression loss. Indices should be in `[0, ...,\u001b[39;00m\n\u001b[0;32m   1534\u001b[0m \u001b[38;5;124;03m    config.num_labels - 1]`. If `config.num_labels == 1` a regression loss is computed (Mean-Square loss), If\u001b[39;00m\n\u001b[0;32m   1535\u001b[0m \u001b[38;5;124;03m    `config.num_labels > 1` a classification loss is computed (Cross-Entropy).\u001b[39;00m\n\u001b[0;32m   1536\u001b[0m \u001b[38;5;124;03m\"\"\"\u001b[39;00m\n\u001b[0;32m   1537\u001b[0m return_dict \u001b[38;5;241m=\u001b[39m return_dict \u001b[38;5;28;01mif\u001b[39;00m return_dict \u001b[38;5;129;01mis\u001b[39;00m \u001b[38;5;129;01mnot\u001b[39;00m \u001b[38;5;28;01mNone\u001b[39;00m \u001b[38;5;28;01melse\u001b[39;00m \u001b[38;5;28mself\u001b[39m\u001b[38;5;241m.\u001b[39mconfig\u001b[38;5;241m.\u001b[39muse_return_dict\n\u001b[1;32m-> 1539\u001b[0m outputs \u001b[38;5;241m=\u001b[39m \u001b[38;5;28;43mself\u001b[39;49m\u001b[38;5;241;43m.\u001b[39;49m\u001b[43mbert\u001b[49m\u001b[43m(\u001b[49m\n\u001b[0;32m   1540\u001b[0m \u001b[43m    \u001b[49m\u001b[43minput_ids\u001b[49m\u001b[43m,\u001b[49m\n\u001b[0;32m   1541\u001b[0m \u001b[43m    \u001b[49m\u001b[43mattention_mask\u001b[49m\u001b[38;5;241;43m=\u001b[39;49m\u001b[43mattention_mask\u001b[49m\u001b[43m,\u001b[49m\n\u001b[0;32m   1542\u001b[0m \u001b[43m    \u001b[49m\u001b[43mtoken_type_ids\u001b[49m\u001b[38;5;241;43m=\u001b[39;49m\u001b[43mtoken_type_ids\u001b[49m\u001b[43m,\u001b[49m\n\u001b[0;32m   1543\u001b[0m \u001b[43m    \u001b[49m\u001b[43mposition_ids\u001b[49m\u001b[38;5;241;43m=\u001b[39;49m\u001b[43mposition_ids\u001b[49m\u001b[43m,\u001b[49m\n\u001b[0;32m   1544\u001b[0m \u001b[43m    \u001b[49m\u001b[43mhead_mask\u001b[49m\u001b[38;5;241;43m=\u001b[39;49m\u001b[43mhead_mask\u001b[49m\u001b[43m,\u001b[49m\n\u001b[0;32m   1545\u001b[0m \u001b[43m    \u001b[49m\u001b[43minputs_embeds\u001b[49m\u001b[38;5;241;43m=\u001b[39;49m\u001b[43minputs_embeds\u001b[49m\u001b[43m,\u001b[49m\n\u001b[0;32m   1546\u001b[0m \u001b[43m    \u001b[49m\u001b[43moutput_attentions\u001b[49m\u001b[38;5;241;43m=\u001b[39;49m\u001b[43moutput_attentions\u001b[49m\u001b[43m,\u001b[49m\n\u001b[0;32m   1547\u001b[0m \u001b[43m    \u001b[49m\u001b[43moutput_hidden_states\u001b[49m\u001b[38;5;241;43m=\u001b[39;49m\u001b[43moutput_hidden_states\u001b[49m\u001b[43m,\u001b[49m\n\u001b[0;32m   1548\u001b[0m \u001b[43m    \u001b[49m\u001b[43mreturn_dict\u001b[49m\u001b[38;5;241;43m=\u001b[39;49m\u001b[43mreturn_dict\u001b[49m\u001b[43m,\u001b[49m\n\u001b[0;32m   1549\u001b[0m \u001b[43m\u001b[49m\u001b[43m)\u001b[49m\n\u001b[0;32m   1551\u001b[0m pooled_output \u001b[38;5;241m=\u001b[39m outputs[\u001b[38;5;241m1\u001b[39m]\n\u001b[0;32m   1553\u001b[0m pooled_output \u001b[38;5;241m=\u001b[39m \u001b[38;5;28mself\u001b[39m\u001b[38;5;241m.\u001b[39mdropout(pooled_output)\n",
      "File \u001b[1;32mc:\\Users\\pablo\\AppData\\Local\\Programs\\Python\\Python310\\lib\\site-packages\\torch\\nn\\modules\\module.py:1532\u001b[0m, in \u001b[0;36mModule._wrapped_call_impl\u001b[1;34m(self, *args, **kwargs)\u001b[0m\n\u001b[0;32m   1530\u001b[0m     \u001b[38;5;28;01mreturn\u001b[39;00m \u001b[38;5;28mself\u001b[39m\u001b[38;5;241m.\u001b[39m_compiled_call_impl(\u001b[38;5;241m*\u001b[39margs, \u001b[38;5;241m*\u001b[39m\u001b[38;5;241m*\u001b[39mkwargs)  \u001b[38;5;66;03m# type: ignore[misc]\u001b[39;00m\n\u001b[0;32m   1531\u001b[0m \u001b[38;5;28;01melse\u001b[39;00m:\n\u001b[1;32m-> 1532\u001b[0m     \u001b[38;5;28;01mreturn\u001b[39;00m \u001b[38;5;28mself\u001b[39m\u001b[38;5;241m.\u001b[39m_call_impl(\u001b[38;5;241m*\u001b[39margs, \u001b[38;5;241m*\u001b[39m\u001b[38;5;241m*\u001b[39mkwargs)\n",
      "File \u001b[1;32mc:\\Users\\pablo\\AppData\\Local\\Programs\\Python\\Python310\\lib\\site-packages\\torch\\nn\\modules\\module.py:1541\u001b[0m, in \u001b[0;36mModule._call_impl\u001b[1;34m(self, *args, **kwargs)\u001b[0m\n\u001b[0;32m   1536\u001b[0m \u001b[38;5;66;03m# If we don't have any hooks, we want to skip the rest of the logic in\u001b[39;00m\n\u001b[0;32m   1537\u001b[0m \u001b[38;5;66;03m# this function, and just call forward.\u001b[39;00m\n\u001b[0;32m   1538\u001b[0m \u001b[38;5;28;01mif\u001b[39;00m \u001b[38;5;129;01mnot\u001b[39;00m (\u001b[38;5;28mself\u001b[39m\u001b[38;5;241m.\u001b[39m_backward_hooks \u001b[38;5;129;01mor\u001b[39;00m \u001b[38;5;28mself\u001b[39m\u001b[38;5;241m.\u001b[39m_backward_pre_hooks \u001b[38;5;129;01mor\u001b[39;00m \u001b[38;5;28mself\u001b[39m\u001b[38;5;241m.\u001b[39m_forward_hooks \u001b[38;5;129;01mor\u001b[39;00m \u001b[38;5;28mself\u001b[39m\u001b[38;5;241m.\u001b[39m_forward_pre_hooks\n\u001b[0;32m   1539\u001b[0m         \u001b[38;5;129;01mor\u001b[39;00m _global_backward_pre_hooks \u001b[38;5;129;01mor\u001b[39;00m _global_backward_hooks\n\u001b[0;32m   1540\u001b[0m         \u001b[38;5;129;01mor\u001b[39;00m _global_forward_hooks \u001b[38;5;129;01mor\u001b[39;00m _global_forward_pre_hooks):\n\u001b[1;32m-> 1541\u001b[0m     \u001b[38;5;28;01mreturn\u001b[39;00m forward_call(\u001b[38;5;241m*\u001b[39margs, \u001b[38;5;241m*\u001b[39m\u001b[38;5;241m*\u001b[39mkwargs)\n\u001b[0;32m   1543\u001b[0m \u001b[38;5;28;01mtry\u001b[39;00m:\n\u001b[0;32m   1544\u001b[0m     result \u001b[38;5;241m=\u001b[39m \u001b[38;5;28;01mNone\u001b[39;00m\n",
      "File \u001b[1;32mc:\\Users\\pablo\\AppData\\Local\\Programs\\Python\\Python310\\lib\\site-packages\\transformers\\models\\bert\\modeling_bert.py:954\u001b[0m, in \u001b[0;36mBertModel.forward\u001b[1;34m(self, input_ids, attention_mask, token_type_ids, position_ids, head_mask, inputs_embeds, encoder_hidden_states, encoder_attention_mask, past_key_values, use_cache, output_attentions, output_hidden_states, return_dict)\u001b[0m\n\u001b[0;32m    952\u001b[0m \u001b[38;5;28;01mif\u001b[39;00m \u001b[38;5;28mhasattr\u001b[39m(\u001b[38;5;28mself\u001b[39m\u001b[38;5;241m.\u001b[39membeddings, \u001b[38;5;124m\"\u001b[39m\u001b[38;5;124mtoken_type_ids\u001b[39m\u001b[38;5;124m\"\u001b[39m):\n\u001b[0;32m    953\u001b[0m     buffered_token_type_ids \u001b[38;5;241m=\u001b[39m \u001b[38;5;28mself\u001b[39m\u001b[38;5;241m.\u001b[39membeddings\u001b[38;5;241m.\u001b[39mtoken_type_ids[:, :seq_length]\n\u001b[1;32m--> 954\u001b[0m     buffered_token_type_ids_expanded \u001b[38;5;241m=\u001b[39m \u001b[43mbuffered_token_type_ids\u001b[49m\u001b[38;5;241;43m.\u001b[39;49m\u001b[43mexpand\u001b[49m\u001b[43m(\u001b[49m\u001b[43mbatch_size\u001b[49m\u001b[43m,\u001b[49m\u001b[43m \u001b[49m\u001b[43mseq_length\u001b[49m\u001b[43m)\u001b[49m\n\u001b[0;32m    955\u001b[0m     token_type_ids \u001b[38;5;241m=\u001b[39m buffered_token_type_ids_expanded\n\u001b[0;32m    956\u001b[0m \u001b[38;5;28;01melse\u001b[39;00m:\n",
      "\u001b[1;31mRuntimeError\u001b[0m: The expanded size of the tensor (768) must match the existing size (512) at non-singleton dimension 1.  Target sizes: [45, 768].  Tensor sizes: [1, 512]"
     ]
    }
   ],
   "source": [
    "from transformers import AutoModelForSequenceClassification\n",
    "from sklearn.decomposition import PCA\n",
    "\n",
    "model = AutoModelForSequenceClassification.from_pretrained(\"dccuchile/bert-base-spanish-wwm-cased\",\n",
    "                                                           problem_type=\"multi_label_classification\",\n",
    "                                                           num_labels=len(labels),\n",
    "                                                           id2label=id2label,\n",
    "                                                           label2id=label2id)\n",
    "\n",
    "classifier = nn.Linear(768, len(labels))\n",
    "\n",
    "model = nn.Sequential(model, classifier)\n",
    "\n",
    "# Convert data to PyTorch tensors\n",
    "X_train_tensor = torch.tensor(X_train_list, dtype=torch.float32).long()\n",
    "y_train_tensor = torch.tensor(y_train, dtype=torch.float32).long()\n",
    "X_val_tensor = torch.tensor(X_val_list, dtype=torch.float32).long()\n",
    "y_val_tensor = torch.tensor(y_val, dtype=torch.float32).long()\n",
    "X_test_tensor = torch.tensor(X_test_list, dtype=torch.float32).long()\n",
    "y_test_tensor = torch.tensor(y_test, dtype=torch.float32).long()\n",
    "\n",
    "\n",
    "model.eval()\n",
    "with torch.no_grad():\n",
    "    val_outputs = model(X_val_tensor)\n",
    "    val_loss = criterion(val_outputs, y_val_tensor)\n",
    "    print(f\"Validation Loss: {val_loss.item()}\")"
   ]
  },
  {
   "cell_type": "code",
   "execution_count": null,
   "id": "6316a23e",
   "metadata": {},
   "outputs": [],
   "source": [
    "model"
   ]
  },
  {
   "cell_type": "code",
   "execution_count": 160,
   "id": "d3160eb6",
   "metadata": {},
   "outputs": [],
   "source": [
    "batch_size = 8\n",
    "metric_name = \"f1\""
   ]
  },
  {
   "cell_type": "code",
   "execution_count": 161,
   "id": "5aa05291",
   "metadata": {},
   "outputs": [],
   "source": [
    "from transformers import TrainingArguments, Trainer\n",
    "\n",
    "args = TrainingArguments(\n",
    "    f\"bert-finetuned-sem_eval-english\",\n",
    "    evaluation_strategy = \"epoch\",\n",
    "    save_strategy = \"epoch\",\n",
    "    learning_rate=2e-5,\n",
    "    per_device_train_batch_size=batch_size,\n",
    "    per_device_eval_batch_size=batch_size,\n",
    "    num_train_epochs=5,\n",
    "    weight_decay=0.01,\n",
    "    load_best_model_at_end=True,\n",
    "    metric_for_best_model=metric_name,\n",
    "    #push_to_hub=True,\n",
    ")"
   ]
  },
  {
   "cell_type": "code",
   "execution_count": 162,
   "id": "dea915b7",
   "metadata": {},
   "outputs": [],
   "source": [
    "from sklearn.metrics import f1_score, roc_auc_score, accuracy_score\n",
    "from transformers import EvalPrediction\n",
    "import torch\n",
    "\n",
    "# source: https://jesusleal.io/2021/04/21/Longformer-multilabel-classification/\n",
    "def multi_label_metrics(predictions, labels, threshold=0.5):\n",
    "    # first, apply sigmoid on predictions which are of shape (batch_size, num_labels)\n",
    "    sigmoid = torch.nn.Sigmoid()\n",
    "    probs = sigmoid(torch.Tensor(predictions))\n",
    "    # next, use threshold to turn them into integer predictions\n",
    "    y_pred = np.zeros(probs.shape)\n",
    "    y_pred[np.where(probs >= threshold)] = 1\n",
    "    # finally, compute metrics\n",
    "    y_true = labels\n",
    "    f1_micro_average = f1_score(y_true=y_true, y_pred=y_pred, average='micro')\n",
    "    roc_auc = roc_auc_score(y_true, y_pred, average = 'micro')\n",
    "    accuracy = accuracy_score(y_true, y_pred)\n",
    "    # return as dictionary\n",
    "    metrics = {'f1': f1_micro_average,\n",
    "               'roc_auc': roc_auc,\n",
    "               'accuracy': accuracy}\n",
    "    return metrics\n",
    "\n",
    "def compute_metrics(p: EvalPrediction):\n",
    "    preds = p.predictions[0] if isinstance(p.predictions,\n",
    "            tuple) else p.predictions\n",
    "    result = multi_label_metrics(\n",
    "        predictions=preds,\n",
    "        labels=p.label_ids)\n",
    "    return result"
   ]
  },
  {
   "cell_type": "code",
   "execution_count": 164,
   "id": "d656cb64",
   "metadata": {},
   "outputs": [],
   "source": [
    "trainer = Trainer(\n",
    "    model,\n",
    "    args,\n",
    "    train_dataset=X_train_tensor,\n",
    "    eval_dataset=X_val_tensor,\n",
    "    tokenizer=tokenizer,\n",
    "    compute_metrics=compute_metrics\n",
    ")"
   ]
  },
  {
   "cell_type": "code",
   "execution_count": 165,
   "id": "5bffabf8",
   "metadata": {},
   "outputs": [
    {
     "data": {
      "application/vnd.jupyter.widget-view+json": {
       "model_id": "0629c66806f548708fbb0d9beedd758e",
       "version_major": 2,
       "version_minor": 0
      },
      "text/plain": [
       "  0%|          | 0/255 [00:00<?, ?it/s]"
      ]
     },
     "metadata": {},
     "output_type": "display_data"
    },
    {
     "ename": "AttributeError",
     "evalue": "'list' object has no attribute 'keys'",
     "output_type": "error",
     "traceback": [
      "\u001b[1;31m---------------------------------------------------------------------------\u001b[0m",
      "\u001b[1;31mAttributeError\u001b[0m                            Traceback (most recent call last)",
      "Cell \u001b[1;32mIn[165], line 1\u001b[0m\n\u001b[1;32m----> 1\u001b[0m \u001b[43mtrainer\u001b[49m\u001b[38;5;241;43m.\u001b[39;49m\u001b[43mtrain\u001b[49m\u001b[43m(\u001b[49m\u001b[43m)\u001b[49m\n",
      "File \u001b[1;32mc:\\Users\\pablo\\AppData\\Local\\Programs\\Python\\Python310\\lib\\site-packages\\transformers\\trainer.py:1859\u001b[0m, in \u001b[0;36mTrainer.train\u001b[1;34m(self, resume_from_checkpoint, trial, ignore_keys_for_eval, **kwargs)\u001b[0m\n\u001b[0;32m   1857\u001b[0m         hf_hub_utils\u001b[38;5;241m.\u001b[39menable_progress_bars()\n\u001b[0;32m   1858\u001b[0m \u001b[38;5;28;01melse\u001b[39;00m:\n\u001b[1;32m-> 1859\u001b[0m     \u001b[38;5;28;01mreturn\u001b[39;00m \u001b[43minner_training_loop\u001b[49m\u001b[43m(\u001b[49m\n\u001b[0;32m   1860\u001b[0m \u001b[43m        \u001b[49m\u001b[43margs\u001b[49m\u001b[38;5;241;43m=\u001b[39;49m\u001b[43margs\u001b[49m\u001b[43m,\u001b[49m\n\u001b[0;32m   1861\u001b[0m \u001b[43m        \u001b[49m\u001b[43mresume_from_checkpoint\u001b[49m\u001b[38;5;241;43m=\u001b[39;49m\u001b[43mresume_from_checkpoint\u001b[49m\u001b[43m,\u001b[49m\n\u001b[0;32m   1862\u001b[0m \u001b[43m        \u001b[49m\u001b[43mtrial\u001b[49m\u001b[38;5;241;43m=\u001b[39;49m\u001b[43mtrial\u001b[49m\u001b[43m,\u001b[49m\n\u001b[0;32m   1863\u001b[0m \u001b[43m        \u001b[49m\u001b[43mignore_keys_for_eval\u001b[49m\u001b[38;5;241;43m=\u001b[39;49m\u001b[43mignore_keys_for_eval\u001b[49m\u001b[43m,\u001b[49m\n\u001b[0;32m   1864\u001b[0m \u001b[43m    \u001b[49m\u001b[43m)\u001b[49m\n",
      "File \u001b[1;32mc:\\Users\\pablo\\AppData\\Local\\Programs\\Python\\Python310\\lib\\site-packages\\transformers\\trainer.py:2165\u001b[0m, in \u001b[0;36mTrainer._inner_training_loop\u001b[1;34m(self, batch_size, args, resume_from_checkpoint, trial, ignore_keys_for_eval)\u001b[0m\n\u001b[0;32m   2162\u001b[0m     rng_to_sync \u001b[38;5;241m=\u001b[39m \u001b[38;5;28;01mTrue\u001b[39;00m\n\u001b[0;32m   2164\u001b[0m step \u001b[38;5;241m=\u001b[39m \u001b[38;5;241m-\u001b[39m\u001b[38;5;241m1\u001b[39m\n\u001b[1;32m-> 2165\u001b[0m \u001b[38;5;28;01mfor\u001b[39;00m step, inputs \u001b[38;5;129;01min\u001b[39;00m \u001b[38;5;28menumerate\u001b[39m(epoch_iterator):\n\u001b[0;32m   2166\u001b[0m     total_batched_samples \u001b[38;5;241m+\u001b[39m\u001b[38;5;241m=\u001b[39m \u001b[38;5;241m1\u001b[39m\n\u001b[0;32m   2168\u001b[0m     \u001b[38;5;28;01mif\u001b[39;00m \u001b[38;5;28mself\u001b[39m\u001b[38;5;241m.\u001b[39margs\u001b[38;5;241m.\u001b[39minclude_num_input_tokens_seen:\n",
      "File \u001b[1;32mc:\\Users\\pablo\\AppData\\Local\\Programs\\Python\\Python310\\lib\\site-packages\\accelerate\\data_loader.py:454\u001b[0m, in \u001b[0;36mDataLoaderShard.__iter__\u001b[1;34m(self)\u001b[0m\n\u001b[0;32m    452\u001b[0m \u001b[38;5;66;03m# We iterate one batch ahead to check when we are at the end\u001b[39;00m\n\u001b[0;32m    453\u001b[0m \u001b[38;5;28;01mtry\u001b[39;00m:\n\u001b[1;32m--> 454\u001b[0m     current_batch \u001b[38;5;241m=\u001b[39m \u001b[38;5;28;43mnext\u001b[39;49m\u001b[43m(\u001b[49m\u001b[43mdataloader_iter\u001b[49m\u001b[43m)\u001b[49m\n\u001b[0;32m    455\u001b[0m \u001b[38;5;28;01mexcept\u001b[39;00m \u001b[38;5;167;01mStopIteration\u001b[39;00m:\n\u001b[0;32m    456\u001b[0m     \u001b[38;5;28;01myield\u001b[39;00m\n",
      "File \u001b[1;32mc:\\Users\\pablo\\AppData\\Local\\Programs\\Python\\Python310\\lib\\site-packages\\torch\\utils\\data\\dataloader.py:631\u001b[0m, in \u001b[0;36m_BaseDataLoaderIter.__next__\u001b[1;34m(self)\u001b[0m\n\u001b[0;32m    628\u001b[0m \u001b[38;5;28;01mif\u001b[39;00m \u001b[38;5;28mself\u001b[39m\u001b[38;5;241m.\u001b[39m_sampler_iter \u001b[38;5;129;01mis\u001b[39;00m \u001b[38;5;28;01mNone\u001b[39;00m:\n\u001b[0;32m    629\u001b[0m     \u001b[38;5;66;03m# TODO(https://github.com/pytorch/pytorch/issues/76750)\u001b[39;00m\n\u001b[0;32m    630\u001b[0m     \u001b[38;5;28mself\u001b[39m\u001b[38;5;241m.\u001b[39m_reset()  \u001b[38;5;66;03m# type: ignore[call-arg]\u001b[39;00m\n\u001b[1;32m--> 631\u001b[0m data \u001b[38;5;241m=\u001b[39m \u001b[38;5;28;43mself\u001b[39;49m\u001b[38;5;241;43m.\u001b[39;49m\u001b[43m_next_data\u001b[49m\u001b[43m(\u001b[49m\u001b[43m)\u001b[49m\n\u001b[0;32m    632\u001b[0m \u001b[38;5;28mself\u001b[39m\u001b[38;5;241m.\u001b[39m_num_yielded \u001b[38;5;241m+\u001b[39m\u001b[38;5;241m=\u001b[39m \u001b[38;5;241m1\u001b[39m\n\u001b[0;32m    633\u001b[0m \u001b[38;5;28;01mif\u001b[39;00m \u001b[38;5;28mself\u001b[39m\u001b[38;5;241m.\u001b[39m_dataset_kind \u001b[38;5;241m==\u001b[39m _DatasetKind\u001b[38;5;241m.\u001b[39mIterable \u001b[38;5;129;01mand\u001b[39;00m \\\n\u001b[0;32m    634\u001b[0m         \u001b[38;5;28mself\u001b[39m\u001b[38;5;241m.\u001b[39m_IterableDataset_len_called \u001b[38;5;129;01mis\u001b[39;00m \u001b[38;5;129;01mnot\u001b[39;00m \u001b[38;5;28;01mNone\u001b[39;00m \u001b[38;5;129;01mand\u001b[39;00m \\\n\u001b[0;32m    635\u001b[0m         \u001b[38;5;28mself\u001b[39m\u001b[38;5;241m.\u001b[39m_num_yielded \u001b[38;5;241m>\u001b[39m \u001b[38;5;28mself\u001b[39m\u001b[38;5;241m.\u001b[39m_IterableDataset_len_called:\n",
      "File \u001b[1;32mc:\\Users\\pablo\\AppData\\Local\\Programs\\Python\\Python310\\lib\\site-packages\\torch\\utils\\data\\dataloader.py:675\u001b[0m, in \u001b[0;36m_SingleProcessDataLoaderIter._next_data\u001b[1;34m(self)\u001b[0m\n\u001b[0;32m    673\u001b[0m \u001b[38;5;28;01mdef\u001b[39;00m \u001b[38;5;21m_next_data\u001b[39m(\u001b[38;5;28mself\u001b[39m):\n\u001b[0;32m    674\u001b[0m     index \u001b[38;5;241m=\u001b[39m \u001b[38;5;28mself\u001b[39m\u001b[38;5;241m.\u001b[39m_next_index()  \u001b[38;5;66;03m# may raise StopIteration\u001b[39;00m\n\u001b[1;32m--> 675\u001b[0m     data \u001b[38;5;241m=\u001b[39m \u001b[38;5;28;43mself\u001b[39;49m\u001b[38;5;241;43m.\u001b[39;49m\u001b[43m_dataset_fetcher\u001b[49m\u001b[38;5;241;43m.\u001b[39;49m\u001b[43mfetch\u001b[49m\u001b[43m(\u001b[49m\u001b[43mindex\u001b[49m\u001b[43m)\u001b[49m  \u001b[38;5;66;03m# may raise StopIteration\u001b[39;00m\n\u001b[0;32m    676\u001b[0m     \u001b[38;5;28;01mif\u001b[39;00m \u001b[38;5;28mself\u001b[39m\u001b[38;5;241m.\u001b[39m_pin_memory:\n\u001b[0;32m    677\u001b[0m         data \u001b[38;5;241m=\u001b[39m _utils\u001b[38;5;241m.\u001b[39mpin_memory\u001b[38;5;241m.\u001b[39mpin_memory(data, \u001b[38;5;28mself\u001b[39m\u001b[38;5;241m.\u001b[39m_pin_memory_device)\n",
      "File \u001b[1;32mc:\\Users\\pablo\\AppData\\Local\\Programs\\Python\\Python310\\lib\\site-packages\\torch\\utils\\data\\_utils\\fetch.py:54\u001b[0m, in \u001b[0;36m_MapDatasetFetcher.fetch\u001b[1;34m(self, possibly_batched_index)\u001b[0m\n\u001b[0;32m     52\u001b[0m \u001b[38;5;28;01melse\u001b[39;00m:\n\u001b[0;32m     53\u001b[0m     data \u001b[38;5;241m=\u001b[39m \u001b[38;5;28mself\u001b[39m\u001b[38;5;241m.\u001b[39mdataset[possibly_batched_index]\n\u001b[1;32m---> 54\u001b[0m \u001b[38;5;28;01mreturn\u001b[39;00m \u001b[38;5;28;43mself\u001b[39;49m\u001b[38;5;241;43m.\u001b[39;49m\u001b[43mcollate_fn\u001b[49m\u001b[43m(\u001b[49m\u001b[43mdata\u001b[49m\u001b[43m)\u001b[49m\n",
      "File \u001b[1;32mc:\\Users\\pablo\\AppData\\Local\\Programs\\Python\\Python310\\lib\\site-packages\\transformers\\trainer_utils.py:808\u001b[0m, in \u001b[0;36mRemoveColumnsCollator.__call__\u001b[1;34m(self, features)\u001b[0m\n\u001b[0;32m    806\u001b[0m \u001b[38;5;28;01mdef\u001b[39;00m \u001b[38;5;21m__call__\u001b[39m(\u001b[38;5;28mself\u001b[39m, features: List[\u001b[38;5;28mdict\u001b[39m]):\n\u001b[0;32m    807\u001b[0m     features \u001b[38;5;241m=\u001b[39m [\u001b[38;5;28mself\u001b[39m\u001b[38;5;241m.\u001b[39m_remove_columns(feature) \u001b[38;5;28;01mfor\u001b[39;00m feature \u001b[38;5;129;01min\u001b[39;00m features]\n\u001b[1;32m--> 808\u001b[0m     \u001b[38;5;28;01mreturn\u001b[39;00m \u001b[38;5;28;43mself\u001b[39;49m\u001b[38;5;241;43m.\u001b[39;49m\u001b[43mdata_collator\u001b[49m\u001b[43m(\u001b[49m\u001b[43mfeatures\u001b[49m\u001b[43m)\u001b[49m\n",
      "File \u001b[1;32mc:\\Users\\pablo\\AppData\\Local\\Programs\\Python\\Python310\\lib\\site-packages\\transformers\\data\\data_collator.py:271\u001b[0m, in \u001b[0;36mDataCollatorWithPadding.__call__\u001b[1;34m(self, features)\u001b[0m\n\u001b[0;32m    270\u001b[0m \u001b[38;5;28;01mdef\u001b[39;00m \u001b[38;5;21m__call__\u001b[39m(\u001b[38;5;28mself\u001b[39m, features: List[Dict[\u001b[38;5;28mstr\u001b[39m, Any]]) \u001b[38;5;241m-\u001b[39m\u001b[38;5;241m>\u001b[39m Dict[\u001b[38;5;28mstr\u001b[39m, Any]:\n\u001b[1;32m--> 271\u001b[0m     batch \u001b[38;5;241m=\u001b[39m \u001b[43mpad_without_fast_tokenizer_warning\u001b[49m\u001b[43m(\u001b[49m\n\u001b[0;32m    272\u001b[0m \u001b[43m        \u001b[49m\u001b[38;5;28;43mself\u001b[39;49m\u001b[38;5;241;43m.\u001b[39;49m\u001b[43mtokenizer\u001b[49m\u001b[43m,\u001b[49m\n\u001b[0;32m    273\u001b[0m \u001b[43m        \u001b[49m\u001b[43mfeatures\u001b[49m\u001b[43m,\u001b[49m\n\u001b[0;32m    274\u001b[0m \u001b[43m        \u001b[49m\u001b[43mpadding\u001b[49m\u001b[38;5;241;43m=\u001b[39;49m\u001b[38;5;28;43mself\u001b[39;49m\u001b[38;5;241;43m.\u001b[39;49m\u001b[43mpadding\u001b[49m\u001b[43m,\u001b[49m\n\u001b[0;32m    275\u001b[0m \u001b[43m        \u001b[49m\u001b[43mmax_length\u001b[49m\u001b[38;5;241;43m=\u001b[39;49m\u001b[38;5;28;43mself\u001b[39;49m\u001b[38;5;241;43m.\u001b[39;49m\u001b[43mmax_length\u001b[49m\u001b[43m,\u001b[49m\n\u001b[0;32m    276\u001b[0m \u001b[43m        \u001b[49m\u001b[43mpad_to_multiple_of\u001b[49m\u001b[38;5;241;43m=\u001b[39;49m\u001b[38;5;28;43mself\u001b[39;49m\u001b[38;5;241;43m.\u001b[39;49m\u001b[43mpad_to_multiple_of\u001b[49m\u001b[43m,\u001b[49m\n\u001b[0;32m    277\u001b[0m \u001b[43m        \u001b[49m\u001b[43mreturn_tensors\u001b[49m\u001b[38;5;241;43m=\u001b[39;49m\u001b[38;5;28;43mself\u001b[39;49m\u001b[38;5;241;43m.\u001b[39;49m\u001b[43mreturn_tensors\u001b[49m\u001b[43m,\u001b[49m\n\u001b[0;32m    278\u001b[0m \u001b[43m    \u001b[49m\u001b[43m)\u001b[49m\n\u001b[0;32m    279\u001b[0m     \u001b[38;5;28;01mif\u001b[39;00m \u001b[38;5;124m\"\u001b[39m\u001b[38;5;124mlabel\u001b[39m\u001b[38;5;124m\"\u001b[39m \u001b[38;5;129;01min\u001b[39;00m batch:\n\u001b[0;32m    280\u001b[0m         batch[\u001b[38;5;124m\"\u001b[39m\u001b[38;5;124mlabels\u001b[39m\u001b[38;5;124m\"\u001b[39m] \u001b[38;5;241m=\u001b[39m batch[\u001b[38;5;124m\"\u001b[39m\u001b[38;5;124mlabel\u001b[39m\u001b[38;5;124m\"\u001b[39m]\n",
      "File \u001b[1;32mc:\\Users\\pablo\\AppData\\Local\\Programs\\Python\\Python310\\lib\\site-packages\\transformers\\data\\data_collator.py:66\u001b[0m, in \u001b[0;36mpad_without_fast_tokenizer_warning\u001b[1;34m(tokenizer, *pad_args, **pad_kwargs)\u001b[0m\n\u001b[0;32m     63\u001b[0m tokenizer\u001b[38;5;241m.\u001b[39mdeprecation_warnings[\u001b[38;5;124m\"\u001b[39m\u001b[38;5;124mAsking-to-pad-a-fast-tokenizer\u001b[39m\u001b[38;5;124m\"\u001b[39m] \u001b[38;5;241m=\u001b[39m \u001b[38;5;28;01mTrue\u001b[39;00m\n\u001b[0;32m     65\u001b[0m \u001b[38;5;28;01mtry\u001b[39;00m:\n\u001b[1;32m---> 66\u001b[0m     padded \u001b[38;5;241m=\u001b[39m tokenizer\u001b[38;5;241m.\u001b[39mpad(\u001b[38;5;241m*\u001b[39mpad_args, \u001b[38;5;241m*\u001b[39m\u001b[38;5;241m*\u001b[39mpad_kwargs)\n\u001b[0;32m     67\u001b[0m \u001b[38;5;28;01mfinally\u001b[39;00m:\n\u001b[0;32m     68\u001b[0m     \u001b[38;5;66;03m# Restore the state of the warning.\u001b[39;00m\n\u001b[0;32m     69\u001b[0m     tokenizer\u001b[38;5;241m.\u001b[39mdeprecation_warnings[\u001b[38;5;124m\"\u001b[39m\u001b[38;5;124mAsking-to-pad-a-fast-tokenizer\u001b[39m\u001b[38;5;124m\"\u001b[39m] \u001b[38;5;241m=\u001b[39m warning_state\n",
      "File \u001b[1;32mc:\\Users\\pablo\\AppData\\Local\\Programs\\Python\\Python310\\lib\\site-packages\\transformers\\tokenization_utils_base.py:3276\u001b[0m, in \u001b[0;36mPreTrainedTokenizerBase.pad\u001b[1;34m(self, encoded_inputs, padding, max_length, pad_to_multiple_of, return_attention_mask, return_tensors, verbose)\u001b[0m\n\u001b[0;32m   3272\u001b[0m \u001b[38;5;66;03m# The model's main input name, usually `input_ids`, has be passed for padding\u001b[39;00m\n\u001b[0;32m   3273\u001b[0m \u001b[38;5;28;01mif\u001b[39;00m \u001b[38;5;28mself\u001b[39m\u001b[38;5;241m.\u001b[39mmodel_input_names[\u001b[38;5;241m0\u001b[39m] \u001b[38;5;129;01mnot\u001b[39;00m \u001b[38;5;129;01min\u001b[39;00m encoded_inputs:\n\u001b[0;32m   3274\u001b[0m     \u001b[38;5;28;01mraise\u001b[39;00m \u001b[38;5;167;01mValueError\u001b[39;00m(\n\u001b[0;32m   3275\u001b[0m         \u001b[38;5;124m\"\u001b[39m\u001b[38;5;124mYou should supply an encoding or a list of encodings to this method \u001b[39m\u001b[38;5;124m\"\u001b[39m\n\u001b[1;32m-> 3276\u001b[0m         \u001b[38;5;124mf\u001b[39m\u001b[38;5;124m\"\u001b[39m\u001b[38;5;124mthat includes \u001b[39m\u001b[38;5;132;01m{\u001b[39;00m\u001b[38;5;28mself\u001b[39m\u001b[38;5;241m.\u001b[39mmodel_input_names[\u001b[38;5;241m0\u001b[39m]\u001b[38;5;132;01m}\u001b[39;00m\u001b[38;5;124m, but you provided \u001b[39m\u001b[38;5;132;01m{\u001b[39;00m\u001b[38;5;28mlist\u001b[39m(\u001b[43mencoded_inputs\u001b[49m\u001b[38;5;241;43m.\u001b[39;49m\u001b[43mkeys\u001b[49m())\u001b[38;5;132;01m}\u001b[39;00m\u001b[38;5;124m\"\u001b[39m\n\u001b[0;32m   3277\u001b[0m     )\n\u001b[0;32m   3279\u001b[0m required_input \u001b[38;5;241m=\u001b[39m encoded_inputs[\u001b[38;5;28mself\u001b[39m\u001b[38;5;241m.\u001b[39mmodel_input_names[\u001b[38;5;241m0\u001b[39m]]\n\u001b[0;32m   3281\u001b[0m \u001b[38;5;28;01mif\u001b[39;00m required_input \u001b[38;5;129;01mis\u001b[39;00m \u001b[38;5;28;01mNone\u001b[39;00m \u001b[38;5;129;01mor\u001b[39;00m (\u001b[38;5;28misinstance\u001b[39m(required_input, Sized) \u001b[38;5;129;01mand\u001b[39;00m \u001b[38;5;28mlen\u001b[39m(required_input) \u001b[38;5;241m==\u001b[39m \u001b[38;5;241m0\u001b[39m):\n",
      "\u001b[1;31mAttributeError\u001b[0m: 'list' object has no attribute 'keys'"
     ]
    }
   ],
   "source": [
    "trainer.train()"
   ]
  },
  {
   "cell_type": "code",
   "execution_count": 29,
   "id": "0f2f9242",
   "metadata": {},
   "outputs": [
    {
     "name": "stderr",
     "output_type": "stream",
     "text": [
      "Some weights of BertModel were not initialized from the model checkpoint at dccuchile/bert-base-spanish-wwm-cased and are newly initialized: ['bert.pooler.dense.bias', 'bert.pooler.dense.weight']\n",
      "You should probably TRAIN this model on a down-stream task to be able to use it for predictions and inference.\n"
     ]
    }
   ],
   "source": [
    "import pandas as pd\n",
    "import torch\n",
    "from transformers import BertTokenizer, BertModel, AdamW\n",
    "from torch import nn\n",
    "from torch.utils.data import DataLoader\n",
    "from tqdm import tqdm\n",
    "\n",
    "model = BertModel.from_pretrained(\"dccuchile/bert-base-spanish-wwm-cased\")\n",
    "classifier = nn.Linear(768, len(top_categorias))\n",
    "\n",
    "model = nn.Sequential(model, classifier)\n",
    "\n",
    "criterion = nn.CrossEntropyLoss()  \n",
    "optimizer = AdamW(model.parameters(), lr=2e-5)\n",
    "\n",
    "train_loader = DataLoader(X_train_tensor, batch_size=16, shuffle=True)\n",
    "test_loader = DataLoader(X_test_tensor, batch_size=16)"
   ]
  },
  {
   "cell_type": "code",
   "execution_count": 36,
   "id": "80d3013e",
   "metadata": {},
   "outputs": [
    {
     "data": {
      "text/plain": [
       "tensor([[ 0.1349,  0.1183,  0.5438,  ..., -0.0575,  0.8711,  0.4256],\n",
       "        [-0.6304,  0.1555,  0.2418,  ..., -0.0744,  0.2674,  0.5978],\n",
       "        [-0.1863,  0.0300,  0.5854,  ...,  0.1252,  0.7313,  0.2197],\n",
       "        ...,\n",
       "        [-0.1009, -0.6177,  0.5182,  ..., -0.3635,  0.5085,  0.0654],\n",
       "        [ 0.4117, -0.4452,  0.8315,  ..., -0.2933,  0.6580,  0.1136],\n",
       "        [ 0.1700,  0.1331,  0.4326,  ..., -0.1508,  0.9623,  0.3165]])"
      ]
     },
     "execution_count": 36,
     "metadata": {},
     "output_type": "execute_result"
    }
   ],
   "source": [
    "train_loader.dataset"
   ]
  },
  {
   "cell_type": "code",
   "execution_count": 37,
   "id": "fbf088e9",
   "metadata": {},
   "outputs": [
    {
     "name": "stdout",
     "output_type": "stream",
     "text": [
      "tensor([[-0.3873,  0.0177,  0.5553,  ...,  0.0166,  0.3411,  0.8319],\n",
      "        [-0.1293, -0.4101,  0.5175,  ...,  0.4841,  0.8379,  0.8872],\n",
      "        [-0.1082,  0.1306,  0.1726,  ..., -0.0044,  0.5783,  0.2270],\n",
      "        ...,\n",
      "        [ 0.0035, -0.7061,  0.8487,  ...,  0.2946,  0.1671,  0.2224],\n",
      "        [-0.2466, -0.0570,  0.0614,  ..., -0.1349,  0.7606,  0.2416],\n",
      "        [-0.4953, -0.3445,  0.6834,  ..., -0.3666,  0.7388,  0.1200]])\n",
      "tensor([[ 0.0786, -0.0640,  0.2167,  ..., -0.6721,  0.8942,  0.6545],\n",
      "        [ 0.1991, -0.0880,  0.1233,  ..., -0.5155,  0.7104,  0.0788],\n",
      "        [ 0.0894, -0.5489,  0.5535,  ..., -0.1797,  0.6449,  0.2830],\n",
      "        ...,\n",
      "        [-0.0737, -0.5146,  0.7604,  ...,  0.1891,  0.8205,  0.4217],\n",
      "        [-0.1593,  0.2583,  0.8509,  ..., -0.2475,  0.7943,  0.6250],\n",
      "        [-0.1138, -0.6112,  1.1304,  ...,  0.3435,  0.3290,  0.6611]])\n",
      "tensor([[ 0.2211, -0.2252,  1.0356,  ...,  0.0516,  0.7021,  0.5081],\n",
      "        [-0.0543, -0.5140,  0.5561,  ..., -0.0954,  0.2656,  0.0146],\n",
      "        [-0.3785, -0.1944,  0.7099,  ..., -0.0868,  0.6600, -0.0809],\n",
      "        ...,\n",
      "        [-0.0256, -0.1152,  0.8882,  ..., -0.3693,  0.6407,  0.4719],\n",
      "        [-0.1082, -0.7000,  0.6721,  ...,  0.6074,  0.5639,  0.0222],\n",
      "        [-0.7832, -0.0962,  0.8340,  ..., -0.1260,  0.8060,  0.0230]])\n",
      "tensor([[-0.4609,  0.2268, -0.0706,  ...,  0.3638,  0.1949,  0.0299],\n",
      "        [-0.1204,  0.2647,  0.0193,  ...,  0.3346,  0.6074,  0.4691],\n",
      "        [-0.0729, -0.2359,  0.8089,  ..., -0.4100,  0.6957,  0.3601],\n",
      "        ...,\n",
      "        [-0.1650,  0.0759,  0.6954,  ..., -0.0576,  0.6474,  0.3008],\n",
      "        [ 0.3725, -0.2430,  0.5297,  ...,  0.0030,  0.6603,  0.2335],\n",
      "        [ 0.0478, -0.2257,  0.1478,  ..., -0.0380,  0.7434,  0.2215]])\n",
      "tensor([[-0.2127,  0.2735,  0.1100,  ..., -0.2600,  0.8809,  0.2219],\n",
      "        [-0.0353, -0.0239,  0.6936,  ..., -0.3394,  0.2449, -0.1663],\n",
      "        [-0.5784, -0.2891,  0.3971,  ..., -0.0466,  0.8937,  0.0131],\n",
      "        ...,\n",
      "        [-0.3782,  0.2185,  0.0655,  ..., -0.2292,  0.7151,  0.4690],\n",
      "        [ 0.0992, -0.1069,  0.3562,  ..., -0.0122,  1.3375,  0.2828],\n",
      "        [ 0.5765,  0.0970,  0.4409,  ...,  0.2761,  0.8033,  0.0215]])\n",
      "tensor([[-0.3812, -0.0794,  0.3591,  ...,  0.0884,  0.5044,  0.3367],\n",
      "        [ 0.2920, -0.4713,  0.1153,  ..., -0.3473,  0.6513, -0.3032],\n",
      "        [ 0.1742, -0.3476,  1.0545,  ...,  0.4786,  0.4694,  0.4820],\n",
      "        ...,\n",
      "        [-0.0615,  0.2086,  1.0214,  ...,  0.0852,  0.1811,  0.5474],\n",
      "        [ 0.0112, -0.3095,  0.3767,  ...,  0.1978,  0.6502,  0.2047],\n",
      "        [-0.1685, -0.8415,  0.2897,  ..., -0.5978,  0.1887,  0.0179]])\n",
      "tensor([[-0.7368,  0.2728,  0.3943,  ..., -0.4985,  0.4283,  0.2694],\n",
      "        [ 0.2287,  0.0400,  0.7988,  ...,  0.2248,  0.3565,  0.3574],\n",
      "        [-0.0294, -0.3339,  0.5288,  ..., -0.2454,  0.6480,  0.2641],\n",
      "        ...,\n",
      "        [-0.4271, -0.0931,  0.2692,  ..., -0.3007,  0.9249,  0.3169],\n",
      "        [-0.0597, -0.1618,  0.1110,  ...,  0.0256,  0.7586,  0.5501],\n",
      "        [ 0.4195, -0.6306,  0.5982,  ...,  0.0717,  0.1642, -0.0913]])\n",
      "tensor([[-0.0072,  0.3691,  0.3960,  ..., -0.3725,  0.6917,  0.3432],\n",
      "        [ 0.1729, -0.1184,  0.8964,  ..., -0.5411,  0.6278,  0.1474],\n",
      "        [ 0.0062, -0.7136,  0.8695,  ..., -0.0567,  0.7200,  0.2433],\n",
      "        ...,\n",
      "        [-0.0800, -0.0099,  0.4609,  ..., -0.0429,  0.8972,  0.6196],\n",
      "        [-0.4354, -0.0795,  0.0680,  ..., -0.0211,  0.8873,  0.3713],\n",
      "        [ 0.0165, -0.2263,  0.5434,  ..., -0.1053,  0.9022,  0.2448]])\n",
      "tensor([[-0.0897, -0.3459,  0.2415,  ..., -0.2095,  0.4455,  0.0430],\n",
      "        [-0.1195,  0.0207,  0.1540,  ..., -0.6890,  0.4306,  0.2311],\n",
      "        [-0.3100,  0.2510,  0.6790,  ..., -0.0642,  1.2761,  0.1902],\n",
      "        ...,\n",
      "        [-0.0176, -0.4474,  0.6126,  ...,  0.2038,  0.6398,  0.4242],\n",
      "        [ 0.2292,  0.0187,  0.6822,  ...,  0.0179,  0.7649,  0.9173],\n",
      "        [-0.0141, -0.5846,  0.0231,  ...,  0.0051,  0.4292, -0.0330]])\n",
      "tensor([[ 0.0895, -0.0130,  0.6031,  ..., -0.4884,  0.1714, -0.1537],\n",
      "        [ 0.1122, -0.0102, -0.3820,  ..., -0.3456,  0.9106,  0.8349],\n",
      "        [ 0.1974, -0.9877,  0.5506,  ...,  0.1234, -0.1009,  0.6770],\n",
      "        ...,\n",
      "        [-0.0187, -0.6233,  0.5187,  ..., -0.2863,  0.7299,  0.1779],\n",
      "        [ 0.2364, -0.0335,  0.1760,  ..., -0.1292,  0.2192, -0.1341],\n",
      "        [ 0.1934, -0.1544,  0.3786,  ..., -0.3193,  0.3643,  0.1298]])\n",
      "tensor([[-0.1009, -0.6177,  0.5182,  ..., -0.3635,  0.5085,  0.0654],\n",
      "        [ 0.0199, -0.1673,  0.3206,  ..., -0.4247,  0.2976,  0.1467],\n",
      "        [-0.0440,  0.0280,  0.0147,  ..., -0.3123,  0.5267,  0.3157],\n",
      "        ...,\n",
      "        [ 0.0563, -0.4586,  0.3161,  ..., -0.3615,  0.5714,  0.0609],\n",
      "        [-0.2274, -0.2571,  0.4146,  ...,  0.1753,  1.1173,  0.3028],\n",
      "        [-0.1854,  0.4549,  0.4756,  ..., -0.0586,  0.5066,  0.3019]])\n",
      "tensor([[ 0.1462, -0.2319,  0.7385,  ..., -0.1371,  0.6667,  0.2435],\n",
      "        [-0.1111,  0.3732, -0.3767,  ..., -0.2922,  1.1445,  0.3248],\n",
      "        [ 0.1376, -0.1971,  0.5338,  ..., -0.0863,  0.8095,  0.1000],\n",
      "        ...,\n",
      "        [-0.1117, -0.4131,  0.2445,  ...,  0.2195,  0.6161,  0.4244],\n",
      "        [-0.1829, -0.3553,  0.5993,  ...,  0.2519,  0.8219,  0.2343],\n",
      "        [ 0.3962,  0.1985,  0.2651,  ..., -0.1181,  0.6003,  0.0608]])\n",
      "tensor([[-0.1018, -0.0166, -0.0816,  ..., -0.2310,  1.2340,  0.3458],\n",
      "        [ 0.1761, -0.1477,  0.2529,  ...,  0.0624,  0.5209, -0.3750],\n",
      "        [ 0.1626, -0.3172,  0.7399,  ..., -0.5474,  0.3800, -0.0946],\n",
      "        ...,\n",
      "        [ 0.0851, -0.1723,  0.4171,  ..., -0.3136,  1.2652,  0.2987],\n",
      "        [-0.0044,  0.0832,  0.2011,  ..., -0.1572,  0.5778,  0.3003],\n",
      "        [ 0.0016, -0.4755,  0.7296,  ...,  0.1227,  0.6327,  0.3056]])\n",
      "tensor([[-0.2589,  0.0895,  0.6618,  ...,  0.0375,  0.8024,  0.6976],\n",
      "        [ 0.0903,  0.2796,  0.1824,  ..., -0.1564,  0.0905,  0.5755],\n",
      "        [ 0.1227, -0.1393,  0.9393,  ..., -0.0130,  0.7857,  0.2446],\n",
      "        ...,\n",
      "        [ 0.0174,  0.2003,  0.2548,  ...,  0.0265,  0.5597,  0.2208],\n",
      "        [ 0.2875,  0.1227,  0.5780,  ..., -0.4125,  0.7683,  0.1459],\n",
      "        [-0.1040, -0.2792,  0.4376,  ..., -0.4722,  0.6663,  0.0928]])\n",
      "tensor([[-0.0325, -0.4185,  0.3806,  ..., -0.1510,  0.7117,  0.4190],\n",
      "        [ 0.2186,  0.3097,  0.5502,  ..., -0.1111,  1.1784,  0.3935],\n",
      "        [-0.0743, -0.3235,  0.5401,  ..., -0.4708,  0.6524,  0.0331],\n",
      "        ...,\n",
      "        [-0.2041, -0.0075,  1.3822,  ..., -0.1058, -0.0175,  0.4672],\n",
      "        [ 0.1835, -0.0147,  0.1040,  ...,  0.1943,  0.9058,  0.3050],\n",
      "        [ 0.4217, -0.3278,  0.7022,  ..., -0.0499,  0.4562,  0.5507]])\n",
      "tensor([[ 0.1975, -0.6842,  0.9174,  ..., -0.2378,  0.6362, -0.1570],\n",
      "        [-0.5322, -0.0317,  0.7856,  ..., -0.4408,  0.6834,  0.4539],\n",
      "        [ 0.1556,  0.4268,  0.8309,  ..., -0.8393,  0.2175,  0.0767],\n",
      "        ...,\n",
      "        [ 0.2270, -0.0218,  0.6418,  ..., -0.2190,  0.7381,  0.7764],\n",
      "        [-0.1184, -0.1313,  0.3047,  ..., -0.6946,  0.5657, -0.5113],\n",
      "        [ 0.1716, -0.6496,  0.8555,  ..., -0.0664,  0.3394,  0.5830]])\n",
      "tensor([[ 0.3266, -0.4331,  0.3344,  ...,  0.3720,  0.2854,  0.3844],\n",
      "        [-0.5292,  0.0220,  0.1099,  ..., -0.1460,  0.7148, -0.1149],\n",
      "        [-0.0986, -0.2001,  0.2364,  ..., -0.6596,  0.8211,  0.4902],\n",
      "        ...,\n",
      "        [-0.4609, -0.6158,  0.2261,  ..., -0.2130,  0.8611,  0.0964],\n",
      "        [ 0.2055, -0.0288,  0.4290,  ...,  0.4226,  0.2808,  0.1276],\n",
      "        [ 0.0428,  0.0020,  0.3780,  ...,  0.3002,  0.6014,  0.9047]])\n",
      "tensor([[ 0.1480, -0.2036,  1.1485,  ..., -0.1703,  0.6306,  0.5331],\n",
      "        [ 0.0390, -0.0396,  0.2002,  ...,  0.1257,  0.9497,  0.4931],\n",
      "        [ 0.1654, -0.2792,  0.2682,  ..., -0.0588,  0.4659,  0.5271],\n",
      "        ...,\n",
      "        [-0.1811, -0.5909,  0.4833,  ..., -0.3017,  0.8462,  0.3013],\n",
      "        [ 0.0747, -0.3356, -0.0765,  ..., -0.0233,  0.6198,  0.5691],\n",
      "        [-0.2862, -0.2066,  0.8532,  ..., -0.2399,  0.5716,  0.5257]])\n",
      "tensor([[-0.1129, -0.6903,  0.1682,  ...,  0.3942,  0.5894,  0.1071],\n",
      "        [-0.1964,  0.0671,  0.0959,  ..., -0.7140,  0.6725,  0.6757],\n",
      "        [-0.1193, -0.3089,  0.6132,  ..., -0.0448,  0.6612, -0.0022],\n",
      "        ...,\n",
      "        [ 0.3633, -0.7247,  0.5282,  ...,  0.1634,  0.8361,  0.5032],\n",
      "        [ 0.1521,  0.4583,  0.4267,  ...,  0.2250,  1.0207,  0.5032],\n",
      "        [-0.4725, -0.0502,  0.7709,  ...,  0.5113,  0.2478,  0.4870]])\n",
      "tensor([[-0.0174, -0.1757,  0.4799,  ..., -0.5294,  0.5437,  0.2661],\n",
      "        [-0.0556,  0.3012,  0.3618,  ..., -0.4884,  0.3112, -0.2624],\n",
      "        [-0.1614, -0.4370,  0.5633,  ..., -0.6238,  0.2993,  0.0422],\n",
      "        ...,\n",
      "        [ 0.0934, -0.4277,  0.5901,  ...,  0.2242,  0.3493,  0.0788],\n",
      "        [-0.3324, -0.0099,  0.0385,  ..., -0.5362,  0.5233,  0.1949],\n",
      "        [-0.0376, -0.4853,  0.7198,  ...,  0.0342,  0.4458,  0.0592]])\n",
      "tensor([[-0.2092, -0.1056,  0.2837,  ..., -0.6173,  0.0959,  0.0171],\n",
      "        [ 0.0702, -0.5371,  0.0486,  ...,  0.0818,  0.7424, -0.1746],\n",
      "        [-0.0477,  0.5959, -0.0164,  ..., -0.2076,  0.5675,  1.0215],\n",
      "        ...,\n",
      "        [-0.0360, -0.3032,  0.5223,  ...,  0.6365,  0.2033, -0.1085],\n",
      "        [ 0.0166,  0.2684,  0.1145,  ..., -0.6950,  0.3593,  0.1831],\n",
      "        [ 0.0957,  0.3665,  0.4030,  ..., -0.3027,  0.8999,  0.0167]])\n",
      "tensor([[ 2.1618e-01, -1.1013e-01,  3.8858e-01,  ...,  3.9739e-02,\n",
      "          7.2339e-01,  5.9096e-01],\n",
      "        [ 2.4206e-01,  1.8765e-02,  8.0056e-01,  ..., -8.8678e-01,\n",
      "          8.3152e-02,  4.9317e-01],\n",
      "        [ 9.9166e-04, -1.4064e-01,  3.2775e-01,  ..., -3.1473e-02,\n",
      "          8.0927e-01,  3.3062e-01],\n",
      "        ...,\n",
      "        [-4.8639e-02,  2.4077e-02,  5.6653e-02,  ..., -4.5194e-01,\n",
      "          9.9616e-01, -5.3822e-03],\n",
      "        [-7.5104e-01,  1.3550e-01,  2.4063e-01,  ..., -5.6003e-02,\n",
      "          8.3139e-01,  7.1662e-01],\n",
      "        [ 2.3361e-02, -1.6062e-02,  5.4271e-01,  ...,  1.6427e-01,\n",
      "          6.1364e-01,  1.1595e+00]])\n",
      "tensor([[ 0.2202,  0.0161,  0.5221,  ..., -0.5384,  0.7751,  0.3997],\n",
      "        [-0.3940,  0.1059,  0.6406,  ...,  0.1112,  0.5225,  0.7774],\n",
      "        [-0.1412,  0.0037,  0.6827,  ..., -0.1500,  0.3689,  0.4045],\n",
      "        ...,\n",
      "        [-0.0450, -0.5264,  0.5218,  ..., -0.0183,  0.7923,  0.2995],\n",
      "        [-0.0076, -0.3879,  1.0212,  ...,  0.0757,  0.4910,  0.5481],\n",
      "        [-0.0475, -0.3859,  0.4159,  ...,  0.1524,  0.6730,  0.6190]])\n",
      "tensor([[-9.8016e-04, -2.6702e-01,  4.3139e-01,  ..., -1.9484e-02,\n",
      "          7.6527e-01,  2.4692e-01],\n",
      "        [ 2.2167e-01,  1.8437e-01,  9.9548e-01,  ..., -5.8965e-01,\n",
      "          6.5444e-01,  2.4548e-01],\n",
      "        [ 2.6032e-01, -3.8095e-01,  3.8241e-01,  ..., -1.6368e-01,\n",
      "          7.7814e-01,  3.5459e-01],\n",
      "        ...,\n",
      "        [-1.8445e-01,  1.0033e-01,  9.9921e-02,  ...,  1.7981e-01,\n",
      "          4.1324e-01,  2.7978e-01],\n",
      "        [-2.0067e-01,  4.5634e-01,  2.2701e-01,  ..., -4.6175e-01,\n",
      "          7.7066e-01,  1.9019e-01],\n",
      "        [-1.6469e-01, -3.3119e-01,  4.8468e-01,  ..., -2.6408e-01,\n",
      "          5.1474e-01, -7.2580e-02]])\n",
      "tensor([[ 0.2481, -0.5340,  0.7163,  ..., -0.1871,  0.6139,  0.1559],\n",
      "        [-0.1909, -0.2136,  0.9165,  ..., -0.5027,  0.6053,  0.4997],\n",
      "        [-0.3279, -0.8982,  1.0934,  ...,  0.0723,  0.3380,  0.3495],\n",
      "        ...,\n",
      "        [ 0.1052, -0.3092,  0.6754,  ...,  0.1914,  0.6087,  0.2003],\n",
      "        [ 0.1160, -0.4539,  0.2622,  ..., -0.4178,  0.2807,  0.6967],\n",
      "        [ 0.0937, -0.4639,  0.3800,  ..., -0.1887,  0.6579, -0.1065]])\n",
      "tensor([[ 0.2103, -0.4422,  0.9371,  ..., -0.0689,  0.7141,  0.2725],\n",
      "        [ 0.0737, -0.2723,  0.1734,  ..., -0.1683,  0.8235,  0.0809],\n",
      "        [ 0.3156, -0.7030,  0.9529,  ...,  0.0264,  0.5271,  0.3994],\n",
      "        [ 0.0963, -0.3256,  0.7893,  ..., -0.1311,  0.1061, -0.0032]])\n"
     ]
    }
   ],
   "source": [
    "for batch in train_loader:\n",
    "    print(batch)"
   ]
  },
  {
   "cell_type": "code",
   "execution_count": 30,
   "id": "172f8317",
   "metadata": {},
   "outputs": [],
   "source": [
    "def train(model, optimizer, train_loader, criterion):\n",
    "    model.train()\n",
    "    total_loss = 0\n",
    "\n",
    "    for batch in train_loader:\n",
    "        optimizer.zero_grad()\n",
    "        input_ids, attention_mask, labels = batch \n",
    "        outputs = model(input_ids, attention_mask)\n",
    "        loss = criterion(outputs, labels)\n",
    "        loss.backward()\n",
    "        optimizer.step()\n",
    "        total_loss += loss.item()\n",
    "    print(f'Training loss: {total_loss/len(train_loader)}')\n",
    "\n",
    "def evaluate(model, test_loader, criterion):\n",
    "    model.eval()\n",
    "    total_loss = 0\n",
    "    total_acc = 0\n",
    "\n",
    "    with torch.no_grad():\n",
    "        for batch in test_loader:\n",
    "            input_ids, attention_mask, labels = batch  \n",
    "            outputs = model(input_ids, attention_mask)\n",
    "            loss = criterion(outputs, labels)\n",
    "            total_loss += loss.item()\n",
    "            predictions = torch.argmax(outputs, dim=1)\n",
    "            total_acc += (predictions == labels).sum().item()\n",
    "\n",
    "    print(f'Test loss: {total_loss/len(test_loader)} Test acc: {total_acc/len(X_test_tensor)*100}%')"
   ]
  },
  {
   "cell_type": "code",
   "execution_count": 31,
   "id": "3ca87afc",
   "metadata": {},
   "outputs": [
    {
     "ename": "ValueError",
     "evalue": "too many values to unpack (expected 3)",
     "output_type": "error",
     "traceback": [
      "\u001b[1;31m---------------------------------------------------------------------------\u001b[0m",
      "\u001b[1;31mValueError\u001b[0m                                Traceback (most recent call last)",
      "Cell \u001b[1;32mIn[31], line 2\u001b[0m\n\u001b[0;32m      1\u001b[0m \u001b[38;5;28;01mfor\u001b[39;00m epoch \u001b[38;5;129;01min\u001b[39;00m \u001b[38;5;28mrange\u001b[39m(\u001b[38;5;241m3\u001b[39m):\n\u001b[1;32m----> 2\u001b[0m     \u001b[43mtrain\u001b[49m\u001b[43m(\u001b[49m\u001b[43mmodel\u001b[49m\u001b[43m,\u001b[49m\u001b[43m \u001b[49m\u001b[43moptimizer\u001b[49m\u001b[43m,\u001b[49m\u001b[43m \u001b[49m\u001b[43mtrain_loader\u001b[49m\u001b[43m,\u001b[49m\u001b[43m \u001b[49m\u001b[43mcriterion\u001b[49m\u001b[43m)\u001b[49m\n\u001b[0;32m      3\u001b[0m     evaluate(model, test_loader, criterion)\n",
      "Cell \u001b[1;32mIn[30], line 7\u001b[0m, in \u001b[0;36mtrain\u001b[1;34m(model, optimizer, train_loader, criterion)\u001b[0m\n\u001b[0;32m      5\u001b[0m \u001b[38;5;28;01mfor\u001b[39;00m batch \u001b[38;5;129;01min\u001b[39;00m train_loader:\n\u001b[0;32m      6\u001b[0m     optimizer\u001b[38;5;241m.\u001b[39mzero_grad()\n\u001b[1;32m----> 7\u001b[0m     input_ids, attention_mask, labels \u001b[38;5;241m=\u001b[39m batch \n\u001b[0;32m      8\u001b[0m     outputs \u001b[38;5;241m=\u001b[39m model(input_ids, attention_mask)\n\u001b[0;32m      9\u001b[0m     loss \u001b[38;5;241m=\u001b[39m criterion(outputs, labels)\n",
      "\u001b[1;31mValueError\u001b[0m: too many values to unpack (expected 3)"
     ]
    }
   ],
   "source": [
    "for epoch in range(3):\n",
    "    train(model, optimizer, train_loader, criterion)\n",
    "    evaluate(model, test_loader, criterion)"
   ]
  },
  {
   "cell_type": "markdown",
   "id": "c2c7119e-b68d-447f-ae89-ef18c223ebf8",
   "metadata": {},
   "source": [
    "## Guardar predicciones de Test"
   ]
  },
  {
   "cell_type": "code",
   "execution_count": null,
   "id": "ff863c1c-9821-4ad4-a912-1abe400f5c46",
   "metadata": {},
   "outputs": [],
   "source": []
  },
  {
   "cell_type": "code",
   "execution_count": null,
   "id": "942d26ad-7138-4f00-a07d-44a47b5c233c",
   "metadata": {},
   "outputs": [],
   "source": []
  }
 ],
 "metadata": {
  "kernelspec": {
   "display_name": "Python 3 (ipykernel)",
   "language": "python",
   "name": "python3"
  },
  "language_info": {
   "codemirror_mode": {
    "name": "ipython",
    "version": 3
   },
   "file_extension": ".py",
   "mimetype": "text/x-python",
   "name": "python",
   "nbconvert_exporter": "python",
   "pygments_lexer": "ipython3",
   "version": "3.10.7"
  }
 },
 "nbformat": 4,
 "nbformat_minor": 5
}
